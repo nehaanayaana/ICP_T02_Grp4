{
 "cells": [
  {
   "cell_type": "markdown",
   "id": "fff3b212-3f6f-43ca-a063-d58ef43ed45a",
   "metadata": {},
   "source": [
    "# 1. Load and Explore the data"
   ]
  },
  {
   "cell_type": "markdown",
   "id": "04721521-78c4-4972-8463-16d93ed22b40",
   "metadata": {},
   "source": [
    "## 1.1 Import the libraries"
   ]
  },
  {
   "cell_type": "code",
   "execution_count": 1,
   "id": "4ac87a26-92d1-4b94-a178-ec10eb8cd65c",
   "metadata": {},
   "outputs": [],
   "source": [
    "import pandas as pd\n",
    "import pandas.io.sql as sqlio\n",
    "import psycopg2 as ps\n",
    "import numpy as np\n",
    "from sklearn.pipeline import Pipeline\n",
    "import feature_engine.imputation as mdi\n",
    "import matplotlib.pyplot as plt\n",
    "from sklearn.metrics.pairwise import cosine_similarity\n",
    "from sklearn.preprocessing import MinMaxScaler\n",
    "from sklearn.preprocessing import normalize"
   ]
  },
  {
   "cell_type": "markdown",
   "id": "9128000c-498c-424b-ad80-e4781bfcca5f",
   "metadata": {},
   "source": [
    "## 1.2 Import the dataset"
   ]
  },
  {
   "cell_type": "markdown",
   "id": "5ea69acf-f191-40cf-b567-f8de774ea0f6",
   "metadata": {},
   "source": [
    "(Done by Nehaa)"
   ]
  },
  {
   "cell_type": "code",
   "execution_count": 2,
   "id": "857e5bc1-183e-4dd9-8d5e-3ca9d4f0b416",
   "metadata": {},
   "outputs": [],
   "source": [
    "conn = ps.connect(dbname=\"postgres\",\n",
    "                   user=\"postgres\",\n",
    "                   password=\"postgres\",\n",
    "                   host = \"localhost\",\n",
    "                    port=\"5432\")"
   ]
  },
  {
   "cell_type": "code",
   "execution_count": 3,
   "id": "a23c7a0c-0460-4a07-9174-228c12ec3acb",
   "metadata": {},
   "outputs": [],
   "source": [
    "# Fetch data from the database\n",
    "sql_area = \"\"\"SELECT * FROM public.area\"\"\"\n",
    "sql_farm = \"\"\"SELECT * FROM public.farm\"\"\"\n",
    "sql_product = \"\"\"SELECT * FROM public.product\"\"\"\n",
    "sql_sale_order = \"\"\"SELECT * FROM public.sale_order\"\"\"\n",
    "sql_sale_order_item = \"\"\"SELECT * FROM public.sale_order_item\"\"\""
   ]
  },
  {
   "cell_type": "code",
   "execution_count": 4,
   "id": "814403a4-2b97-4d74-888f-a27405660766",
   "metadata": {},
   "outputs": [
    {
     "name": "stderr",
     "output_type": "stream",
     "text": [
      "C:\\Users\\nehaa\\AppData\\Local\\Temp\\ipykernel_20060\\3184278191.py:2: UserWarning: pandas only supports SQLAlchemy connectable (engine/connection) or database string URI or sqlite3 DBAPI2 connection. Other DBAPI2 objects are not tested. Please consider using SQLAlchemy.\n",
      "  df_area = pd.read_sql(sql_area, conn)\n",
      "C:\\Users\\nehaa\\AppData\\Local\\Temp\\ipykernel_20060\\3184278191.py:3: UserWarning: pandas only supports SQLAlchemy connectable (engine/connection) or database string URI or sqlite3 DBAPI2 connection. Other DBAPI2 objects are not tested. Please consider using SQLAlchemy.\n",
      "  df_farm = pd.read_sql(sql_farm, conn)\n",
      "C:\\Users\\nehaa\\AppData\\Local\\Temp\\ipykernel_20060\\3184278191.py:4: UserWarning: pandas only supports SQLAlchemy connectable (engine/connection) or database string URI or sqlite3 DBAPI2 connection. Other DBAPI2 objects are not tested. Please consider using SQLAlchemy.\n",
      "  df_product = pd.read_sql(sql_product, conn)\n",
      "C:\\Users\\nehaa\\AppData\\Local\\Temp\\ipykernel_20060\\3184278191.py:5: UserWarning: pandas only supports SQLAlchemy connectable (engine/connection) or database string URI or sqlite3 DBAPI2 connection. Other DBAPI2 objects are not tested. Please consider using SQLAlchemy.\n",
      "  df_sale_order = pd.read_sql(sql_sale_order, conn)\n",
      "C:\\Users\\nehaa\\AppData\\Local\\Temp\\ipykernel_20060\\3184278191.py:6: UserWarning: pandas only supports SQLAlchemy connectable (engine/connection) or database string URI or sqlite3 DBAPI2 connection. Other DBAPI2 objects are not tested. Please consider using SQLAlchemy.\n",
      "  df_sale_order_item = pd.read_sql(sql_sale_order_item, conn)\n"
     ]
    }
   ],
   "source": [
    "# Convert to DataFrame\n",
    "df_area = pd.read_sql(sql_area, conn)\n",
    "df_farm = pd.read_sql(sql_farm, conn)\n",
    "df_product = pd.read_sql(sql_product, conn)\n",
    "df_sale_order = pd.read_sql(sql_sale_order, conn)\n",
    "df_sale_order_item = pd.read_sql(sql_sale_order_item, conn)"
   ]
  },
  {
   "cell_type": "markdown",
   "id": "598c70f0-2605-4ef3-b323-3a4735859fa3",
   "metadata": {},
   "source": [
    "## 1.3 Show and merge the data into 2 master dataframes"
   ]
  },
  {
   "cell_type": "markdown",
   "id": "789c1174-a045-4436-8890-426f4c2ddf83",
   "metadata": {},
   "source": [
    "### 1.3.1 df_area"
   ]
  },
  {
   "cell_type": "code",
   "execution_count": 5,
   "id": "32941274-2f82-4319-a604-1219b9e7b1b9",
   "metadata": {},
   "outputs": [
    {
     "name": "stdout",
     "output_type": "stream",
     "text": [
      "<class 'pandas.core.frame.DataFrame'>\n",
      "RangeIndex: 46 entries, 0 to 45\n",
      "Data columns (total 11 columns):\n",
      " #   Column             Non-Null Count  Dtype  \n",
      "---  ------             --------------  -----  \n",
      " 0   id                 46 non-null     object \n",
      " 1   name               46 non-null     object \n",
      " 2   level_0            46 non-null     object \n",
      " 3   level_1            46 non-null     object \n",
      " 4   level_2            46 non-null     object \n",
      " 5   level_3            46 non-null     object \n",
      " 6   level_3_latitude   46 non-null     float64\n",
      " 7   level_3_longitude  46 non-null     float64\n",
      " 8   level_4            46 non-null     object \n",
      " 9   level_4_latitude   46 non-null     float64\n",
      " 10  level_4_longitude  46 non-null     float64\n",
      "dtypes: float64(4), object(7)\n",
      "memory usage: 4.1+ KB\n"
     ]
    }
   ],
   "source": [
    "# df_area\n",
    "df_area.info()"
   ]
  },
  {
   "cell_type": "code",
   "execution_count": 6,
   "id": "80af70a8-f72f-4d7b-be5b-31866b1a353b",
   "metadata": {},
   "outputs": [],
   "source": [
    "# update the df_area columns for readability\n",
    "df_area = df_area.rename(columns={'id': 'area_id', 'name': 'area_name', 'level_0': 'country', 'level_1': 'province', 'level_2': 'city', \n",
    "                                  'level_3': 'district', 'level_3_latitude': 'district_latitude', 'level_3_longitude': 'district_longitude', \n",
    "                                  'level_4': 'subdistrict', 'level_4_latitude': 'subdistrict_latitude', \n",
    "                                  'level_4_longitude': 'subdistrict_longitude'})"
   ]
  },
  {
   "cell_type": "markdown",
   "id": "ace808be-78bc-49a0-8d3a-38a4f7de2bab",
   "metadata": {},
   "source": [
    "### 1.3.2 df_farm"
   ]
  },
  {
   "cell_type": "code",
   "execution_count": 7,
   "id": "c3be015a-c863-4adc-9c46-097b3d9f741a",
   "metadata": {},
   "outputs": [
    {
     "name": "stdout",
     "output_type": "stream",
     "text": [
      "<class 'pandas.core.frame.DataFrame'>\n",
      "RangeIndex: 100 entries, 0 to 99\n",
      "Data columns (total 11 columns):\n",
      " #   Column                  Non-Null Count  Dtype  \n",
      "---  ------                  --------------  -----  \n",
      " 0   id                      100 non-null    object \n",
      " 1   owner_id                100 non-null    object \n",
      " 2   area_id                 100 non-null    object \n",
      " 3   latitude                2 non-null      float64\n",
      " 4   longitude               2 non-null      float64\n",
      " 5   area_hectare            100 non-null    float64\n",
      " 6   planted_year            100 non-null    int64  \n",
      " 7   planted_month           100 non-null    int64  \n",
      " 8   palm_trees_per_hectare  48 non-null     float64\n",
      " 9   soil_type               100 non-null    object \n",
      " 10  seed_type               28 non-null     object \n",
      "dtypes: float64(4), int64(2), object(5)\n",
      "memory usage: 8.7+ KB\n"
     ]
    }
   ],
   "source": [
    "# df_farm\n",
    "df_farm.info()"
   ]
  },
  {
   "cell_type": "code",
   "execution_count": 8,
   "id": "1f2f1aee-1aac-4745-b379-0874704ad0e3",
   "metadata": {},
   "outputs": [],
   "source": [
    "# update the df_farm columns for readability\n",
    "df_farm = df_farm.rename(columns={'id': 'farm_id', 'latitude': 'farm_latitude', 'longitude': 'farm_longitude'})"
   ]
  },
  {
   "cell_type": "markdown",
   "id": "012fb381-206d-4976-b22a-a921a2fdedc0",
   "metadata": {},
   "source": [
    "### 1.3.3 Merge df_area & df_farm into df_product"
   ]
  },
  {
   "cell_type": "code",
   "execution_count": 9,
   "id": "92dfbb76-1c71-4073-bd7e-a1baa5acd175",
   "metadata": {},
   "outputs": [
    {
     "name": "stdout",
     "output_type": "stream",
     "text": [
      "Overlap count: 46\n",
      "Overlap farm_ids: {'ID1209182011', 'ID1205202005', 'ID1205012003', 'ID1223052007', 'ID1222052002', 'ID3211012006', 'ID1471041002', 'ID1223052010', 'ID1303092002', 'ID1505012007', 'ID1407131002', 'ID1205202006', 'ID1901042008', 'ID1601322001', 'ID1207242015', 'ID1901082004', 'ID1505011003', 'ID1223052006', 'ID1102032026', 'ID1205052007', 'ID1223052018', 'ID1709042007', 'ID1205201001', 'ID1222052003', 'ID1509011001', 'ID1223032007', 'ID1508092011', 'ID1210092001', 'ID1674032004', 'ID1101142007', 'ID1504021002', 'ID1220082034', 'ID1223012005', 'ID1209212006', 'ID1401172001', 'ID1508092008', 'ID1508121001', 'ID3529062001', 'ID1101032013', 'ID1802102003', 'ID1205012002', 'ID1507091001', 'ID3173051001', 'ID1508092014', 'ID1102022015', 'ID1205012012'}\n"
     ]
    }
   ],
   "source": [
    "# check df_area & df_farm for overlaps\n",
    "\n",
    "# Extract farm_ids from both DataFrames\n",
    "set1 = set(df_area['area_id'])\n",
    "set2 = set(df_farm['area_id'])\n",
    "\n",
    "# Find overlapping farm_ids\n",
    "overlap = set1.intersection(set2)\n",
    "print(\"Overlap count:\", len(overlap))\n",
    "print(\"Overlap farm_ids:\", overlap)"
   ]
  },
  {
   "cell_type": "code",
   "execution_count": 10,
   "id": "b4234416-dd5f-4f64-a6bd-ebb12c7bcb2e",
   "metadata": {},
   "outputs": [
    {
     "name": "stdout",
     "output_type": "stream",
     "text": [
      "<class 'pandas.core.frame.DataFrame'>\n",
      "RangeIndex: 100 entries, 0 to 99\n",
      "Data columns (total 21 columns):\n",
      " #   Column                  Non-Null Count  Dtype  \n",
      "---  ------                  --------------  -----  \n",
      " 0   area_id                 100 non-null    object \n",
      " 1   area_name               100 non-null    object \n",
      " 2   country                 100 non-null    object \n",
      " 3   province                100 non-null    object \n",
      " 4   city                    100 non-null    object \n",
      " 5   district                100 non-null    object \n",
      " 6   district_latitude       100 non-null    float64\n",
      " 7   district_longitude      100 non-null    float64\n",
      " 8   subdistrict             100 non-null    object \n",
      " 9   subdistrict_latitude    100 non-null    float64\n",
      " 10  subdistrict_longitude   100 non-null    float64\n",
      " 11  farm_id                 100 non-null    object \n",
      " 12  owner_id                100 non-null    object \n",
      " 13  farm_latitude           2 non-null      float64\n",
      " 14  farm_longitude          2 non-null      float64\n",
      " 15  area_hectare            100 non-null    float64\n",
      " 16  planted_year            100 non-null    int64  \n",
      " 17  planted_month           100 non-null    int64  \n",
      " 18  palm_trees_per_hectare  48 non-null     float64\n",
      " 19  soil_type               100 non-null    object \n",
      " 20  seed_type               28 non-null     object \n",
      "dtypes: float64(8), int64(2), object(11)\n",
      "memory usage: 16.5+ KB\n"
     ]
    }
   ],
   "source": [
    "# merge df_area & df_farm\n",
    "df = pd.merge(df_area, df_farm, on='area_id', how='inner')\n",
    "\n",
    "df.info()"
   ]
  },
  {
   "cell_type": "code",
   "execution_count": 11,
   "id": "b6a9dcde-13d8-4912-b7dd-08ee935d52d6",
   "metadata": {},
   "outputs": [
    {
     "name": "stdout",
     "output_type": "stream",
     "text": [
      "<class 'pandas.core.frame.DataFrame'>\n",
      "RangeIndex: 41 entries, 0 to 40\n",
      "Data columns (total 7 columns):\n",
      " #   Column               Non-Null Count  Dtype  \n",
      "---  ------               --------------  -----  \n",
      " 0   id                   41 non-null     object \n",
      " 1   sku                  41 non-null     object \n",
      " 2   type                 41 non-null     object \n",
      " 3   unit_of_measurement  41 non-null     object \n",
      " 4   name                 41 non-null     object \n",
      " 5   price                41 non-null     float64\n",
      " 6   description          41 non-null     object \n",
      "dtypes: float64(1), object(6)\n",
      "memory usage: 2.4+ KB\n"
     ]
    }
   ],
   "source": [
    "# df_product\n",
    "df_product.info()"
   ]
  },
  {
   "cell_type": "code",
   "execution_count": 12,
   "id": "617dfcd6-9ad5-4a14-b0c7-81ea0c04d621",
   "metadata": {},
   "outputs": [],
   "source": [
    "# update the df_product columns for readability\n",
    "df_product = df_product.rename(columns={'id': 'product_id', 'sku': 'product_sku', 'type': 'product_type', 'name': 'product_name', \n",
    "                                        'price': 'product_price', 'description': 'product_description'})"
   ]
  },
  {
   "cell_type": "markdown",
   "id": "ba5a5ad0-be1d-464d-9b08-947470eabead",
   "metadata": {},
   "source": [
    "### 1.3.4 df_sale_order"
   ]
  },
  {
   "cell_type": "code",
   "execution_count": 13,
   "id": "ec504409-cc25-4788-badc-68ab9f7296aa",
   "metadata": {},
   "outputs": [
    {
     "name": "stdout",
     "output_type": "stream",
     "text": [
      "<class 'pandas.core.frame.DataFrame'>\n",
      "RangeIndex: 100 entries, 0 to 99\n",
      "Data columns (total 4 columns):\n",
      " #   Column            Non-Null Count  Dtype  \n",
      "---  ------            --------------  -----  \n",
      " 0   id                100 non-null    object \n",
      " 1   user_id           100 non-null    object \n",
      " 2   total_item_price  100 non-null    float64\n",
      " 3   created_at_utc0   100 non-null    int64  \n",
      "dtypes: float64(1), int64(1), object(2)\n",
      "memory usage: 3.3+ KB\n"
     ]
    }
   ],
   "source": [
    "# df_sale_order\n",
    "df_sale_order.info()"
   ]
  },
  {
   "cell_type": "code",
   "execution_count": 14,
   "id": "f78f71cc-3876-4d53-916a-2c43aa4e9b05",
   "metadata": {},
   "outputs": [],
   "source": [
    "# update the df_sale_order columns for readability\n",
    "df_sale_order = df_sale_order.rename(columns={'id': 'sale_order_id', 'created_at_utc0': 'time_of_sale'})"
   ]
  },
  {
   "cell_type": "markdown",
   "id": "e4493f70-b870-495f-8056-7df03ff7c3cd",
   "metadata": {},
   "source": [
    "### 1.3.5 df_sale_order_item"
   ]
  },
  {
   "cell_type": "code",
   "execution_count": 15,
   "id": "117e331d-bcac-4803-a789-e73ad0e2895a",
   "metadata": {},
   "outputs": [
    {
     "name": "stdout",
     "output_type": "stream",
     "text": [
      "<class 'pandas.core.frame.DataFrame'>\n",
      "RangeIndex: 116 entries, 0 to 115\n",
      "Data columns (total 5 columns):\n",
      " #   Column         Non-Null Count  Dtype  \n",
      "---  ------         --------------  -----  \n",
      " 0   id             116 non-null    object \n",
      " 1   sale_order_id  116 non-null    object \n",
      " 2   product_id     116 non-null    object \n",
      " 3   quantity       116 non-null    int64  \n",
      " 4   price          116 non-null    float64\n",
      "dtypes: float64(1), int64(1), object(3)\n",
      "memory usage: 4.7+ KB\n"
     ]
    }
   ],
   "source": [
    "# df_sale_order_item\n",
    "df_sale_order_item.info()"
   ]
  },
  {
   "cell_type": "code",
   "execution_count": 16,
   "id": "cbccac1d-3406-4cf7-9eb2-147fe7be3859",
   "metadata": {},
   "outputs": [],
   "source": [
    "# update the df_sale_order_item columns for readability\n",
    "df_sale_order_item = df_sale_order_item.rename(columns={'id': 'farm_id'})"
   ]
  },
  {
   "cell_type": "markdown",
   "id": "061bc62e-2725-4b57-aa89-4d6a42ffcddb",
   "metadata": {},
   "source": [
    "### 1.3.6 Merge df_sale_order_item & df_sale_order into df_sale_order_item"
   ]
  },
  {
   "cell_type": "code",
   "execution_count": 17,
   "id": "4c7b2866-03a6-4975-a16d-1fc8f112e8f2",
   "metadata": {},
   "outputs": [
    {
     "name": "stdout",
     "output_type": "stream",
     "text": [
      "Overlap count: 100\n",
      "Overlap farm_ids: {'578e32df-b8f3-4fce-b9c9-2d3e059dcf24', '6196b833-aa6f-4508-bfae-bcf61403b9b9', 'c2064f86-6d1e-40ee-9ffe-e29a6f147c88', '696fc0d9-1456-42a4-9b4b-97c987ac564d', '630dca51-39ff-4b64-a4ee-6d9007199e8b', 'fec82ea7-3f70-43eb-97db-e10d9f3073db', '86ec48cf-8e0f-4267-be17-fba2c7220d0c', '6090bbb6-c528-4223-af54-72394b4166bb', '0cfe6a21-74db-45a9-ae87-b39cc733173c', 'f5939407-c4f6-4445-b1c2-323614affeb4', 'adfeffc1-dbb4-4a9d-893a-2c9323c31b07', 'a73cc2d8-f73e-438c-9d5e-9f14b47fc7c4', '4346187f-5f63-4d5f-8d12-b494143bce30', '25c230cb-5762-4859-8525-db540f4f9bf3', 'd20a9066-aed8-4082-98e6-7abc62b7bf78', '5eba2371-a65e-4b2f-8d91-4df09de693c4', '2e93d18b-65de-41be-a43f-3f6e7ce7a5a3', 'b81ae23b-012b-46fb-ba63-12364918ec31', '20f151bd-8ad2-4fba-8e33-e900d8036701', 'e5819416-6b56-4337-9271-dc2c701ac7bd', 'c39f3603-76ef-479c-b866-eed205d15d17', 'd9b61f55-7569-46a3-8029-010beb05e099', '876120bd-3540-4588-b9f5-6beb3acc7e05', 'ae7fdd61-1d4d-44e6-950e-cf1bf4dbd832', '0cf2dc54-441b-400b-8785-cbfd9763e9a1', 'ed5dfc9d-7ef1-427f-92f1-e19ae09e93fa', 'd795c619-731b-495f-9e66-5573e7929507', 'c7fbc4e1-123f-47c4-b96f-7cd822f6cd3d', '6b843a88-fa74-42b1-a8e8-2c8cbe09cc86', '0833fba5-7279-401e-a618-3a0dc911237d', 'a1688ca7-4123-4d2a-8ef4-44a0be1580a1', '90fb6964-646b-4d85-9cee-a7eaf3f0845d', 'b3105663-b5bd-4d93-a095-efa23fce0a98', 'afbf2c98-e8e6-4ca7-acf3-af3958dfe34f', 'ef551192-b17a-402b-bd7f-af987a7ac6b3', '1ec9cf2d-5fe6-4a21-b9c5-dfde17c7be47', '75679458-3b13-4c7d-a8a7-4358a072e4b6', '0e0144d2-f9a7-49b4-bc35-f6791eceb56b', 'a1c52691-d8de-4613-84f0-c78abf103cac', '8bfc45e8-a86d-4821-a0ee-1404fbcf8d69', '0733e583-c5db-44a2-8c70-12a731f5240d', '3a720b4a-b2ca-4ea3-b23c-09e73623241e', '5afd2d75-6697-426b-a04a-bb28da17e79c', '687f6dff-de2f-44d4-a159-68661c5a56b5', 'c8ae6bb4-d604-4dae-815a-afbf6a941532', '74be876e-f74b-4633-b403-e07fa9861943', '3ddca641-cb59-4a27-8698-cb16ff2932f2', '48620ebf-ee8f-468e-931d-492f9b94690b', 'a1e65a6e-9b83-4683-af78-65cac735332f', '911a4c25-75d1-4f67-9a8a-40cb365b4cf0', '3cf0432a-e5e6-4d23-bd3c-d693b2e27e49', 'e4fd9369-c7c4-4fbd-8d92-49c7a39caf8d', 'eec08ac7-8ba3-4ed3-8ac3-c0b409a9e170', '61e68625-9e6a-435d-9bdd-6c2187ca1817', 'c09f7ada-801a-4bd9-a04f-54f9c56bab2b', '70ca89e3-70dc-458c-bfa7-65d34bf7ae37', '95505675-172d-4cee-8240-0b2e5ef6d5b1', 'd8255d29-c3ce-4b4e-8b0a-3e0b053ab58a', '3c8e9748-d5f2-46e9-bdbf-82f1c443226c', 'f2339ba3-ceeb-4a35-a19b-27bc13e89698', '4ff1a218-220c-48ca-9a43-857cf68edada', '63df6a83-0a96-4fd0-9942-79049353afd0', '29ae89fb-8d2b-42d7-b985-6e8d9db17bc5', '5ae30247-0799-447f-87bd-cb836df433e4', '86496962-031e-4f39-a78c-dd907bcd7322', '52a06fa1-d0a6-4b8e-b81f-2acb4f971c9a', '93f99330-23c3-4928-a7e4-90939bdcf55b', 'f0482214-bc2a-430e-8348-4390c2df66a7', '13b6cc14-5ea1-4675-b0fd-23bc036d582c', 'fd17275e-5946-42dd-9cb8-205061715f67', 'e465e104-5248-4bd6-8650-4388f1a37e0f', '79753a66-bc18-4aac-9512-fee59f74729f', 'e0f0d8fe-546b-4746-b35e-063f50786481', '04062e2a-cfd9-4e93-8faa-d8e0d332940a', 'b079c590-e0df-4952-9b5e-6d1a9137fc58', 'c722fdd0-257a-49b5-8244-c85325091f20', '0beaeb7f-53c8-45de-a937-ad9e12d882c4', 'd890e339-4b42-4957-8faf-1aede573f0ac', '76a9a3c0-a391-494d-aba6-33110e0646bd', '578cf611-f058-4aba-8520-e5d665629acc', '2011ece0-28d0-4126-b262-13a28eadbe35', '9402d7a3-f50c-4943-9474-609eb9701c08', 'b5b9c2a8-257c-42b4-a102-ca88e4d90297', '79142096-bbba-435a-a8ac-58e4db940d41', '242572c5-55b4-40e8-9b35-1c25474b6136', '887c9ab7-c86b-44fd-8623-640028926faf', '667698fd-6694-4b97-b7f3-e993f1cd7756', 'ba87bf4a-4099-4101-84fb-ef0248fdf987', '4d47dd32-1618-4376-a846-66bcf065e173', '3b8b547d-8b09-4580-8ba1-5b6636ea72b8', 'f4e69664-e304-4842-b31c-1f1aaf4b0f15', 'a0690b8a-1166-46a8-869d-8d62a4f28517', 'a1c94209-33f6-41c7-85ae-63cb368c8954', '71e506e8-c275-4015-912d-56ba36721b71', '0e0ee1d3-20c5-4660-943f-cbe1501e4921', '075f1931-927f-4863-bbe4-2c2df643bd4a', 'acfa3572-d060-4b06-9e27-5a52fafc0314', '72b873a9-54d2-45da-8fb9-92f48d509c52', '787bc8b7-e679-4772-be5d-af4afac9adf5', 'c6e2b534-aa80-47f4-a993-6f9e8801e5f7'}\n"
     ]
    }
   ],
   "source": [
    "# check df_sale_order_item & df_sale_order for overlaps\n",
    "\n",
    "# Extract farm_ids from both DataFrames\n",
    "set1 = set(df_sale_order_item['sale_order_id'])\n",
    "set2 = set(df_sale_order['sale_order_id'])\n",
    "\n",
    "# Find overlapping farm_ids\n",
    "overlap = set1.intersection(set2)\n",
    "print(\"Overlap count:\", len(overlap))\n",
    "print(\"Overlap farm_ids:\", overlap)"
   ]
  },
  {
   "cell_type": "code",
   "execution_count": 18,
   "id": "de252bd3-5e30-4348-8758-d72e59f91e1e",
   "metadata": {},
   "outputs": [
    {
     "name": "stdout",
     "output_type": "stream",
     "text": [
      "<class 'pandas.core.frame.DataFrame'>\n",
      "RangeIndex: 116 entries, 0 to 115\n",
      "Data columns (total 8 columns):\n",
      " #   Column            Non-Null Count  Dtype  \n",
      "---  ------            --------------  -----  \n",
      " 0   farm_id           116 non-null    object \n",
      " 1   sale_order_id     116 non-null    object \n",
      " 2   product_id        116 non-null    object \n",
      " 3   quantity          116 non-null    int64  \n",
      " 4   price             116 non-null    float64\n",
      " 5   user_id           116 non-null    object \n",
      " 6   total_item_price  116 non-null    float64\n",
      " 7   time_of_sale      116 non-null    int64  \n",
      "dtypes: float64(2), int64(2), object(4)\n",
      "memory usage: 7.4+ KB\n"
     ]
    }
   ],
   "source": [
    "# merge df_sale_order_item & df_sale_order\n",
    "df_sale = pd.merge(\n",
    "    df_sale_order_item,\n",
    "    df_sale_order,\n",
    "    on='sale_order_id',\n",
    "    how='inner'\n",
    ")\n",
    "\n",
    "df_sale.info()"
   ]
  },
  {
   "cell_type": "code",
   "execution_count": 19,
   "id": "007b0fdf-62c7-4d75-85e9-349427ad5682",
   "metadata": {},
   "outputs": [
    {
     "name": "stdout",
     "output_type": "stream",
     "text": [
      "Overlap count: 41\n",
      "Overlap farm_ids: {'487f2886-5150-4269-94e2-63fbc7314971', 'beb17fe4-5d92-4738-adaa-2d62ffb83516', 'b67588d2-e8fe-4ee4-9931-e9d18241d04c', '2485b082-5258-44c1-b6aa-983387d540a7', 'd3999f4e-890a-473f-bb92-2fd2178da3fb', 'ff58b8c4-1058-4753-bfc0-c04d091c8485', 'd8232157-edeb-4ac8-ba5a-0cf53e3c8a06', 'e41e1522-bbe0-4e9b-b638-5470e82e13a5', '5110ed03-9e1e-44bd-913c-4f56de2dcf0b', '4698d965-a133-4701-838b-f60e38c66b39', 'c5e57af4-0df9-4e2b-87e4-9024b8e6cf53', '8152e395-0f7a-4dda-8df9-6655a726c4e1', '944f4171-813b-4423-ad89-3c73d67f9986', '6eccf249-a997-4091-8d64-29f1e9accd85', 'c2b3d62f-6c48-4051-beb1-3ec66d30c1da', '6c27fc9c-e7e9-4e9b-9017-292175250df1', '8df8c2e5-5ad8-490f-83b2-57fa0c961f84', '8acff85f-f70a-4308-801f-763b22bb25c7', '701928af-24e9-4a13-aaad-63ede44be9c8', '8fcfd7a8-5980-4e7e-b463-6d30823caac4', '9e7cc609-f4ef-4246-89e7-756861e623d8', '2b8fe2f0-5d07-459c-8781-22305a61980a', '89f26d03-4933-4924-ae31-5eef6981122f', '1af0394e-3aea-42b4-8698-b6832e35f8ce', '5501ce77-7a08-4086-8dda-858c92326fc6', '0bd2430a-6613-442a-9d5a-11d64cb095ae', 'b53ce31c-3789-42d7-96a0-5fe058cac7a5', 'c7768e6d-d8d9-469f-960d-879b5401d83c', 'ece9fda2-1006-4cf9-a283-74e10b330512', 'af58006e-c0d7-44ec-9089-609b74e9ece2', 'ecef7b49-b297-4c53-bf53-628861221da7', '76fddc47-aea9-4942-9dbd-19d90f31cdd4', 'fc02857f-92ea-48a1-96b5-95acf43b922e', '369cfbc5-f536-41f5-8a80-267d55dec802', '5952d124-7dc6-4a6a-baa2-e2e502ecd6fe', 'e8898291-543b-439c-907f-bd80075f02a0', '80957603-6cec-4f63-8dcd-aba6ded5cbdd', 'c1d06ac3-5bea-4b4d-8648-ae3fa531f059', '1033503b-8faa-4d5c-97c2-50bb19fbb897', 'a48adaed-ab06-4245-8da6-5d560636a1d9', '4cac8d01-b78e-4017-9113-c627ac1866a5'}\n"
     ]
    }
   ],
   "source": [
    "# check df_sale & df_product for overlaps\n",
    "\n",
    "# Extract farm_ids from both DataFrames\n",
    "set1 = set(df_sale['product_id'])\n",
    "set2 = set(df_product['product_id'])\n",
    "\n",
    "# Find overlapping farm_ids\n",
    "overlap = set1.intersection(set2)\n",
    "print(\"Overlap count:\", len(overlap))\n",
    "print(\"Overlap farm_ids:\", overlap)"
   ]
  },
  {
   "cell_type": "code",
   "execution_count": 20,
   "id": "958732e5-3fdb-463b-889c-d5318ca05fc7",
   "metadata": {},
   "outputs": [
    {
     "name": "stdout",
     "output_type": "stream",
     "text": [
      "<class 'pandas.core.frame.DataFrame'>\n",
      "RangeIndex: 116 entries, 0 to 115\n",
      "Data columns (total 14 columns):\n",
      " #   Column               Non-Null Count  Dtype  \n",
      "---  ------               --------------  -----  \n",
      " 0   farm_id              116 non-null    object \n",
      " 1   sale_order_id        116 non-null    object \n",
      " 2   product_id           116 non-null    object \n",
      " 3   quantity             116 non-null    int64  \n",
      " 4   price                116 non-null    float64\n",
      " 5   user_id              116 non-null    object \n",
      " 6   total_item_price     116 non-null    float64\n",
      " 7   time_of_sale         116 non-null    int64  \n",
      " 8   product_sku          116 non-null    object \n",
      " 9   product_type         116 non-null    object \n",
      " 10  unit_of_measurement  116 non-null    object \n",
      " 11  product_name         116 non-null    object \n",
      " 12  product_price        116 non-null    float64\n",
      " 13  product_description  116 non-null    object \n",
      "dtypes: float64(3), int64(2), object(9)\n",
      "memory usage: 12.8+ KB\n"
     ]
    }
   ],
   "source": [
    "# merge df_sale & df_product\n",
    "df_sale = pd.merge(\n",
    "    df_sale,\n",
    "    df_product,\n",
    "    on='product_id',\n",
    "    how='inner'\n",
    ")\n",
    "\n",
    "df_sale.info()"
   ]
  },
  {
   "cell_type": "markdown",
   "id": "4c38b832-2c26-4317-a053-a81e260cf55c",
   "metadata": {},
   "source": [
    "### 1.3.7 Display the 2 master dataframes"
   ]
  },
  {
   "cell_type": "code",
   "execution_count": 21,
   "id": "3f1382f3-475c-4157-844c-4e97292575a5",
   "metadata": {},
   "outputs": [
    {
     "name": "stdout",
     "output_type": "stream",
     "text": [
      "<class 'pandas.core.frame.DataFrame'>\n",
      "RangeIndex: 100 entries, 0 to 99\n",
      "Data columns (total 21 columns):\n",
      " #   Column                  Non-Null Count  Dtype  \n",
      "---  ------                  --------------  -----  \n",
      " 0   area_id                 100 non-null    object \n",
      " 1   area_name               100 non-null    object \n",
      " 2   country                 100 non-null    object \n",
      " 3   province                100 non-null    object \n",
      " 4   city                    100 non-null    object \n",
      " 5   district                100 non-null    object \n",
      " 6   district_latitude       100 non-null    float64\n",
      " 7   district_longitude      100 non-null    float64\n",
      " 8   subdistrict             100 non-null    object \n",
      " 9   subdistrict_latitude    100 non-null    float64\n",
      " 10  subdistrict_longitude   100 non-null    float64\n",
      " 11  farm_id                 100 non-null    object \n",
      " 12  owner_id                100 non-null    object \n",
      " 13  farm_latitude           2 non-null      float64\n",
      " 14  farm_longitude          2 non-null      float64\n",
      " 15  area_hectare            100 non-null    float64\n",
      " 16  planted_year            100 non-null    int64  \n",
      " 17  planted_month           100 non-null    int64  \n",
      " 18  palm_trees_per_hectare  48 non-null     float64\n",
      " 19  soil_type               100 non-null    object \n",
      " 20  seed_type               28 non-null     object \n",
      "dtypes: float64(8), int64(2), object(11)\n",
      "memory usage: 16.5+ KB\n"
     ]
    },
    {
     "data": {
      "text/html": [
       "<div>\n",
       "<style scoped>\n",
       "    .dataframe tbody tr th:only-of-type {\n",
       "        vertical-align: middle;\n",
       "    }\n",
       "\n",
       "    .dataframe tbody tr th {\n",
       "        vertical-align: top;\n",
       "    }\n",
       "\n",
       "    .dataframe thead th {\n",
       "        text-align: right;\n",
       "    }\n",
       "</style>\n",
       "<table border=\"1\" class=\"dataframe\">\n",
       "  <thead>\n",
       "    <tr style=\"text-align: right;\">\n",
       "      <th></th>\n",
       "      <th>area_id</th>\n",
       "      <th>area_name</th>\n",
       "      <th>country</th>\n",
       "      <th>province</th>\n",
       "      <th>city</th>\n",
       "      <th>district</th>\n",
       "      <th>district_latitude</th>\n",
       "      <th>district_longitude</th>\n",
       "      <th>subdistrict</th>\n",
       "      <th>subdistrict_latitude</th>\n",
       "      <th>...</th>\n",
       "      <th>farm_id</th>\n",
       "      <th>owner_id</th>\n",
       "      <th>farm_latitude</th>\n",
       "      <th>farm_longitude</th>\n",
       "      <th>area_hectare</th>\n",
       "      <th>planted_year</th>\n",
       "      <th>planted_month</th>\n",
       "      <th>palm_trees_per_hectare</th>\n",
       "      <th>soil_type</th>\n",
       "      <th>seed_type</th>\n",
       "    </tr>\n",
       "  </thead>\n",
       "  <tbody>\n",
       "    <tr>\n",
       "      <th>0</th>\n",
       "      <td>ID1101032013</td>\n",
       "      <td>Ujung Pasir, Kluet Selatan, Aceh Selatan, Aceh</td>\n",
       "      <td>Indonesia</td>\n",
       "      <td>Aceh</td>\n",
       "      <td>Aceh Selatan</td>\n",
       "      <td>Kluet Selatan</td>\n",
       "      <td>3.05166</td>\n",
       "      <td>97.45977</td>\n",
       "      <td>Ujung Pasir</td>\n",
       "      <td>3.079105</td>\n",
       "      <td>...</td>\n",
       "      <td>f9896038-ddeb-4a63-bfb5-bfc35f9accd0</td>\n",
       "      <td>5adfd8d9-7a11-455b-90e8-62d22eb4fe91</td>\n",
       "      <td>NaN</td>\n",
       "      <td>NaN</td>\n",
       "      <td>1.0</td>\n",
       "      <td>2025</td>\n",
       "      <td>4</td>\n",
       "      <td>4.0</td>\n",
       "      <td>Mineral</td>\n",
       "      <td>SEM</td>\n",
       "    </tr>\n",
       "    <tr>\n",
       "      <th>1</th>\n",
       "      <td>ID1101032013</td>\n",
       "      <td>Ujung Pasir, Kluet Selatan, Aceh Selatan, Aceh</td>\n",
       "      <td>Indonesia</td>\n",
       "      <td>Aceh</td>\n",
       "      <td>Aceh Selatan</td>\n",
       "      <td>Kluet Selatan</td>\n",
       "      <td>3.05166</td>\n",
       "      <td>97.45977</td>\n",
       "      <td>Ujung Pasir</td>\n",
       "      <td>3.079105</td>\n",
       "      <td>...</td>\n",
       "      <td>b61a9182-e109-42e3-8556-c22f4c88dab0</td>\n",
       "      <td>8c0e41e7-7a5f-4ff1-b42e-55aa219441d3</td>\n",
       "      <td>NaN</td>\n",
       "      <td>NaN</td>\n",
       "      <td>1.0</td>\n",
       "      <td>2025</td>\n",
       "      <td>4</td>\n",
       "      <td>NaN</td>\n",
       "      <td>Mineral</td>\n",
       "      <td>Dami Mas</td>\n",
       "    </tr>\n",
       "    <tr>\n",
       "      <th>2</th>\n",
       "      <td>ID1101142007</td>\n",
       "      <td>Pucuk Lembang, Kluet Timur, Aceh Selatan, Aceh</td>\n",
       "      <td>Indonesia</td>\n",
       "      <td>Aceh</td>\n",
       "      <td>Aceh Selatan</td>\n",
       "      <td>Kluet Timur</td>\n",
       "      <td>3.17104</td>\n",
       "      <td>97.45977</td>\n",
       "      <td>Pucuk Lembang</td>\n",
       "      <td>3.161074</td>\n",
       "      <td>...</td>\n",
       "      <td>d231eb01-bc2c-46a6-a69a-adfb3c22988e</td>\n",
       "      <td>19d2c440-c133-49a9-9f42-de81b4938449</td>\n",
       "      <td>NaN</td>\n",
       "      <td>NaN</td>\n",
       "      <td>3000.0</td>\n",
       "      <td>2018</td>\n",
       "      <td>4</td>\n",
       "      <td>120.0</td>\n",
       "      <td>Mineral</td>\n",
       "      <td>Socfindo</td>\n",
       "    </tr>\n",
       "    <tr>\n",
       "      <th>3</th>\n",
       "      <td>ID1102022015</td>\n",
       "      <td>Suka Maju, Lawe Sigala-Gala, Aceh Tenggara, Aceh</td>\n",
       "      <td>Indonesia</td>\n",
       "      <td>Aceh</td>\n",
       "      <td>Aceh Tenggara</td>\n",
       "      <td>Lawe Sigala-Gala</td>\n",
       "      <td>3.35698</td>\n",
       "      <td>97.92660</td>\n",
       "      <td>Suka Maju</td>\n",
       "      <td>3.356778</td>\n",
       "      <td>...</td>\n",
       "      <td>e7a8893a-e765-437a-a5d9-838274ee2419</td>\n",
       "      <td>dfa538d5-12f4-4a1f-b4e5-fadf961f9c36</td>\n",
       "      <td>NaN</td>\n",
       "      <td>NaN</td>\n",
       "      <td>1.0</td>\n",
       "      <td>2009</td>\n",
       "      <td>5</td>\n",
       "      <td>NaN</td>\n",
       "      <td>Mineral</td>\n",
       "      <td>None</td>\n",
       "    </tr>\n",
       "    <tr>\n",
       "      <th>4</th>\n",
       "      <td>ID1102022015</td>\n",
       "      <td>Suka Maju, Lawe Sigala-Gala, Aceh Tenggara, Aceh</td>\n",
       "      <td>Indonesia</td>\n",
       "      <td>Aceh</td>\n",
       "      <td>Aceh Tenggara</td>\n",
       "      <td>Lawe Sigala-Gala</td>\n",
       "      <td>3.35698</td>\n",
       "      <td>97.92660</td>\n",
       "      <td>Suka Maju</td>\n",
       "      <td>3.356778</td>\n",
       "      <td>...</td>\n",
       "      <td>6807037a-f75c-4f34-9814-5b19e59c0d4a</td>\n",
       "      <td>6ff1149e-cd24-40f7-8170-37cfe02aafb0</td>\n",
       "      <td>NaN</td>\n",
       "      <td>NaN</td>\n",
       "      <td>2.0</td>\n",
       "      <td>2009</td>\n",
       "      <td>5</td>\n",
       "      <td>NaN</td>\n",
       "      <td>Mineral</td>\n",
       "      <td>None</td>\n",
       "    </tr>\n",
       "  </tbody>\n",
       "</table>\n",
       "<p>5 rows × 21 columns</p>\n",
       "</div>"
      ],
      "text/plain": [
       "        area_id                                         area_name    country  \\\n",
       "0  ID1101032013    Ujung Pasir, Kluet Selatan, Aceh Selatan, Aceh  Indonesia   \n",
       "1  ID1101032013    Ujung Pasir, Kluet Selatan, Aceh Selatan, Aceh  Indonesia   \n",
       "2  ID1101142007    Pucuk Lembang, Kluet Timur, Aceh Selatan, Aceh  Indonesia   \n",
       "3  ID1102022015  Suka Maju, Lawe Sigala-Gala, Aceh Tenggara, Aceh  Indonesia   \n",
       "4  ID1102022015  Suka Maju, Lawe Sigala-Gala, Aceh Tenggara, Aceh  Indonesia   \n",
       "\n",
       "  province           city          district  district_latitude  \\\n",
       "0     Aceh   Aceh Selatan     Kluet Selatan            3.05166   \n",
       "1     Aceh   Aceh Selatan     Kluet Selatan            3.05166   \n",
       "2     Aceh   Aceh Selatan       Kluet Timur            3.17104   \n",
       "3     Aceh  Aceh Tenggara  Lawe Sigala-Gala            3.35698   \n",
       "4     Aceh  Aceh Tenggara  Lawe Sigala-Gala            3.35698   \n",
       "\n",
       "   district_longitude    subdistrict  subdistrict_latitude  ...  \\\n",
       "0            97.45977    Ujung Pasir              3.079105  ...   \n",
       "1            97.45977    Ujung Pasir              3.079105  ...   \n",
       "2            97.45977  Pucuk Lembang              3.161074  ...   \n",
       "3            97.92660      Suka Maju              3.356778  ...   \n",
       "4            97.92660      Suka Maju              3.356778  ...   \n",
       "\n",
       "                                farm_id                              owner_id  \\\n",
       "0  f9896038-ddeb-4a63-bfb5-bfc35f9accd0  5adfd8d9-7a11-455b-90e8-62d22eb4fe91   \n",
       "1  b61a9182-e109-42e3-8556-c22f4c88dab0  8c0e41e7-7a5f-4ff1-b42e-55aa219441d3   \n",
       "2  d231eb01-bc2c-46a6-a69a-adfb3c22988e  19d2c440-c133-49a9-9f42-de81b4938449   \n",
       "3  e7a8893a-e765-437a-a5d9-838274ee2419  dfa538d5-12f4-4a1f-b4e5-fadf961f9c36   \n",
       "4  6807037a-f75c-4f34-9814-5b19e59c0d4a  6ff1149e-cd24-40f7-8170-37cfe02aafb0   \n",
       "\n",
       "  farm_latitude  farm_longitude  area_hectare  planted_year  planted_month  \\\n",
       "0           NaN             NaN           1.0          2025              4   \n",
       "1           NaN             NaN           1.0          2025              4   \n",
       "2           NaN             NaN        3000.0          2018              4   \n",
       "3           NaN             NaN           1.0          2009              5   \n",
       "4           NaN             NaN           2.0          2009              5   \n",
       "\n",
       "   palm_trees_per_hectare  soil_type seed_type  \n",
       "0                     4.0    Mineral       SEM  \n",
       "1                     NaN    Mineral  Dami Mas  \n",
       "2                   120.0    Mineral  Socfindo  \n",
       "3                     NaN    Mineral      None  \n",
       "4                     NaN    Mineral      None  \n",
       "\n",
       "[5 rows x 21 columns]"
      ]
     },
     "execution_count": 21,
     "metadata": {},
     "output_type": "execute_result"
    }
   ],
   "source": [
    "# display df_farm\n",
    "df_farm = df\n",
    "df_farm.info()\n",
    "df_farm.head()"
   ]
  },
  {
   "cell_type": "code",
   "execution_count": 22,
   "id": "0aeede58-5a98-41b4-8777-726a89004732",
   "metadata": {},
   "outputs": [
    {
     "name": "stdout",
     "output_type": "stream",
     "text": [
      "<class 'pandas.core.frame.DataFrame'>\n",
      "RangeIndex: 116 entries, 0 to 115\n",
      "Data columns (total 14 columns):\n",
      " #   Column               Non-Null Count  Dtype  \n",
      "---  ------               --------------  -----  \n",
      " 0   farm_id              116 non-null    object \n",
      " 1   sale_order_id        116 non-null    object \n",
      " 2   product_id           116 non-null    object \n",
      " 3   quantity             116 non-null    int64  \n",
      " 4   price                116 non-null    float64\n",
      " 5   user_id              116 non-null    object \n",
      " 6   total_item_price     116 non-null    float64\n",
      " 7   time_of_sale         116 non-null    int64  \n",
      " 8   product_sku          116 non-null    object \n",
      " 9   product_type         116 non-null    object \n",
      " 10  unit_of_measurement  116 non-null    object \n",
      " 11  product_name         116 non-null    object \n",
      " 12  product_price        116 non-null    float64\n",
      " 13  product_description  116 non-null    object \n",
      "dtypes: float64(3), int64(2), object(9)\n",
      "memory usage: 12.8+ KB\n"
     ]
    },
    {
     "data": {
      "text/html": [
       "<div>\n",
       "<style scoped>\n",
       "    .dataframe tbody tr th:only-of-type {\n",
       "        vertical-align: middle;\n",
       "    }\n",
       "\n",
       "    .dataframe tbody tr th {\n",
       "        vertical-align: top;\n",
       "    }\n",
       "\n",
       "    .dataframe thead th {\n",
       "        text-align: right;\n",
       "    }\n",
       "</style>\n",
       "<table border=\"1\" class=\"dataframe\">\n",
       "  <thead>\n",
       "    <tr style=\"text-align: right;\">\n",
       "      <th></th>\n",
       "      <th>farm_id</th>\n",
       "      <th>sale_order_id</th>\n",
       "      <th>product_id</th>\n",
       "      <th>quantity</th>\n",
       "      <th>price</th>\n",
       "      <th>user_id</th>\n",
       "      <th>total_item_price</th>\n",
       "      <th>time_of_sale</th>\n",
       "      <th>product_sku</th>\n",
       "      <th>product_type</th>\n",
       "      <th>unit_of_measurement</th>\n",
       "      <th>product_name</th>\n",
       "      <th>product_price</th>\n",
       "      <th>product_description</th>\n",
       "    </tr>\n",
       "  </thead>\n",
       "  <tbody>\n",
       "    <tr>\n",
       "      <th>0</th>\n",
       "      <td>d4dc9c06-177e-494c-ba72-7e2954ce8ced</td>\n",
       "      <td>3ddca641-cb59-4a27-8698-cb16ff2932f2</td>\n",
       "      <td>80957603-6cec-4f63-8dcd-aba6ded5cbdd</td>\n",
       "      <td>200</td>\n",
       "      <td>326000.0</td>\n",
       "      <td>13f5223e-f04a-4fa8-9ef2-cf36060f0d6d</td>\n",
       "      <td>90200000.0</td>\n",
       "      <td>1744078798583</td>\n",
       "      <td>101110501601</td>\n",
       "      <td>GOODS</td>\n",
       "      <td>kg</td>\n",
       "      <td>MOP/KCL Canada Cap Mahkota 50kg</td>\n",
       "      <td>712500.0</td>\n",
       "      <td>Pupuk MOP/KCL untuk meningkatkan Kualitas dan ...</td>\n",
       "    </tr>\n",
       "    <tr>\n",
       "      <th>1</th>\n",
       "      <td>7eefa7db-26bf-4a8b-b207-f44a52ed0aba</td>\n",
       "      <td>3ddca641-cb59-4a27-8698-cb16ff2932f2</td>\n",
       "      <td>b53ce31c-3789-42d7-96a0-5fe058cac7a5</td>\n",
       "      <td>200</td>\n",
       "      <td>125000.0</td>\n",
       "      <td>13f5223e-f04a-4fa8-9ef2-cf36060f0d6d</td>\n",
       "      <td>90200000.0</td>\n",
       "      <td>1744078798583</td>\n",
       "      <td>101110502101</td>\n",
       "      <td>GOODS</td>\n",
       "      <td>kg</td>\n",
       "      <td>RP Mahkota 50kg - Egypt</td>\n",
       "      <td>352688.0</td>\n",
       "      <td>Rock Phosphate (RP) adalah salah satu sumber f...</td>\n",
       "    </tr>\n",
       "    <tr>\n",
       "      <th>2</th>\n",
       "      <td>e9b32dc3-4e0f-4a69-bb3d-c7f11277f97f</td>\n",
       "      <td>787bc8b7-e679-4772-be5d-af4afac9adf5</td>\n",
       "      <td>5952d124-7dc6-4a6a-baa2-e2e502ecd6fe</td>\n",
       "      <td>1</td>\n",
       "      <td>109000.0</td>\n",
       "      <td>1e75f22f-b609-4ebc-9536-4a26aef73302</td>\n",
       "      <td>109000.0</td>\n",
       "      <td>1744182202966</td>\n",
       "      <td>TUP/PLN/100</td>\n",
       "      <td>DIGITAL</td>\n",
       "      <td></td>\n",
       "      <td>Token PLN 100.000</td>\n",
       "      <td>109000.0</td>\n",
       "      <td>Topup PLN 100.000 Topup PLN 100.000</td>\n",
       "    </tr>\n",
       "    <tr>\n",
       "      <th>3</th>\n",
       "      <td>86a41dec-9936-4c8f-9150-e8b367a4959f</td>\n",
       "      <td>4d47dd32-1618-4376-a846-66bcf065e173</td>\n",
       "      <td>0bd2430a-6613-442a-9d5a-11d64cb095ae</td>\n",
       "      <td>1</td>\n",
       "      <td>65000.0</td>\n",
       "      <td>344963f8-9a3a-4de3-b3a9-c8716fa37c0e</td>\n",
       "      <td>65000.0</td>\n",
       "      <td>1742438712361</td>\n",
       "      <td>MERCH-SAWITPRO-SHIRT-02</td>\n",
       "      <td>GOODS</td>\n",
       "      <td>kg</td>\n",
       "      <td>Kaos SIBRONDOL SawitPRO size XL</td>\n",
       "      <td>100000.0</td>\n",
       "      <td>&lt;p&gt;Kaos tidak berkerah warna Putih bertuliskan...</td>\n",
       "    </tr>\n",
       "    <tr>\n",
       "      <th>4</th>\n",
       "      <td>61cf5f3f-2a24-4080-bc4f-50af3506479d</td>\n",
       "      <td>e5819416-6b56-4337-9271-dc2c701ac7bd</td>\n",
       "      <td>80957603-6cec-4f63-8dcd-aba6ded5cbdd</td>\n",
       "      <td>2</td>\n",
       "      <td>688750.0</td>\n",
       "      <td>49ad56f8-8d32-408f-9f88-36cad5310680</td>\n",
       "      <td>1377500.0</td>\n",
       "      <td>1744874598061</td>\n",
       "      <td>101110501601</td>\n",
       "      <td>GOODS</td>\n",
       "      <td>kg</td>\n",
       "      <td>MOP/KCL Canada Cap Mahkota 50kg</td>\n",
       "      <td>712500.0</td>\n",
       "      <td>Pupuk MOP/KCL untuk meningkatkan Kualitas dan ...</td>\n",
       "    </tr>\n",
       "  </tbody>\n",
       "</table>\n",
       "</div>"
      ],
      "text/plain": [
       "                                farm_id                         sale_order_id  \\\n",
       "0  d4dc9c06-177e-494c-ba72-7e2954ce8ced  3ddca641-cb59-4a27-8698-cb16ff2932f2   \n",
       "1  7eefa7db-26bf-4a8b-b207-f44a52ed0aba  3ddca641-cb59-4a27-8698-cb16ff2932f2   \n",
       "2  e9b32dc3-4e0f-4a69-bb3d-c7f11277f97f  787bc8b7-e679-4772-be5d-af4afac9adf5   \n",
       "3  86a41dec-9936-4c8f-9150-e8b367a4959f  4d47dd32-1618-4376-a846-66bcf065e173   \n",
       "4  61cf5f3f-2a24-4080-bc4f-50af3506479d  e5819416-6b56-4337-9271-dc2c701ac7bd   \n",
       "\n",
       "                             product_id  quantity     price  \\\n",
       "0  80957603-6cec-4f63-8dcd-aba6ded5cbdd       200  326000.0   \n",
       "1  b53ce31c-3789-42d7-96a0-5fe058cac7a5       200  125000.0   \n",
       "2  5952d124-7dc6-4a6a-baa2-e2e502ecd6fe         1  109000.0   \n",
       "3  0bd2430a-6613-442a-9d5a-11d64cb095ae         1   65000.0   \n",
       "4  80957603-6cec-4f63-8dcd-aba6ded5cbdd         2  688750.0   \n",
       "\n",
       "                                user_id  total_item_price   time_of_sale  \\\n",
       "0  13f5223e-f04a-4fa8-9ef2-cf36060f0d6d        90200000.0  1744078798583   \n",
       "1  13f5223e-f04a-4fa8-9ef2-cf36060f0d6d        90200000.0  1744078798583   \n",
       "2  1e75f22f-b609-4ebc-9536-4a26aef73302          109000.0  1744182202966   \n",
       "3  344963f8-9a3a-4de3-b3a9-c8716fa37c0e           65000.0  1742438712361   \n",
       "4  49ad56f8-8d32-408f-9f88-36cad5310680         1377500.0  1744874598061   \n",
       "\n",
       "               product_sku product_type unit_of_measurement  \\\n",
       "0             101110501601        GOODS                  kg   \n",
       "1             101110502101        GOODS                  kg   \n",
       "2              TUP/PLN/100      DIGITAL                       \n",
       "3  MERCH-SAWITPRO-SHIRT-02        GOODS                  kg   \n",
       "4             101110501601        GOODS                  kg   \n",
       "\n",
       "                      product_name  product_price  \\\n",
       "0  MOP/KCL Canada Cap Mahkota 50kg       712500.0   \n",
       "1          RP Mahkota 50kg - Egypt       352688.0   \n",
       "2                Token PLN 100.000       109000.0   \n",
       "3  Kaos SIBRONDOL SawitPRO size XL       100000.0   \n",
       "4  MOP/KCL Canada Cap Mahkota 50kg       712500.0   \n",
       "\n",
       "                                 product_description  \n",
       "0  Pupuk MOP/KCL untuk meningkatkan Kualitas dan ...  \n",
       "1  Rock Phosphate (RP) adalah salah satu sumber f...  \n",
       "2                Topup PLN 100.000 Topup PLN 100.000  \n",
       "3  <p>Kaos tidak berkerah warna Putih bertuliskan...  \n",
       "4  Pupuk MOP/KCL untuk meningkatkan Kualitas dan ...  "
      ]
     },
     "execution_count": 22,
     "metadata": {},
     "output_type": "execute_result"
    }
   ],
   "source": [
    "# display df_sale\n",
    "df_sale.info()\n",
    "df_sale.head()"
   ]
  },
  {
   "cell_type": "markdown",
   "id": "0f660242-5147-482b-a4b9-6889ff90ccde",
   "metadata": {},
   "source": [
    "## 1.4 Exploratory Data Analysis"
   ]
  },
  {
   "cell_type": "markdown",
   "id": "d639b40c-35c0-4504-8747-b265faced5fa",
   "metadata": {},
   "source": [
    "### 1.4.1 Univariate"
   ]
  },
  {
   "cell_type": "code",
   "execution_count": null,
   "id": "00028a43-981f-4478-bcfa-338506eeca9a",
   "metadata": {},
   "outputs": [],
   "source": []
  },
  {
   "cell_type": "code",
   "execution_count": null,
   "id": "518c7d58-be52-4ed1-a644-3331ee7a12f7",
   "metadata": {},
   "outputs": [],
   "source": []
  },
  {
   "cell_type": "code",
   "execution_count": null,
   "id": "1115843d-a34d-435d-a8be-f7d05491cc6b",
   "metadata": {},
   "outputs": [],
   "source": []
  },
  {
   "cell_type": "code",
   "execution_count": null,
   "id": "68848ba8-5de1-4165-998b-ea8236c96ed6",
   "metadata": {},
   "outputs": [],
   "source": []
  },
  {
   "cell_type": "markdown",
   "id": "1dd7bb25-5bd5-44fa-ac18-36888e3400db",
   "metadata": {},
   "source": [
    "### 1.4.2 Bivariate"
   ]
  },
  {
   "cell_type": "code",
   "execution_count": null,
   "id": "41a17e90-9a8c-4718-81d4-33c7909ca2f7",
   "metadata": {},
   "outputs": [],
   "source": []
  },
  {
   "cell_type": "code",
   "execution_count": null,
   "id": "5f1b70da-dec4-4507-97f4-a32a3b012b25",
   "metadata": {},
   "outputs": [],
   "source": []
  },
  {
   "cell_type": "code",
   "execution_count": null,
   "id": "c2b08dcd-8c6e-4312-8453-7bdfb73e930c",
   "metadata": {},
   "outputs": [],
   "source": []
  },
  {
   "cell_type": "code",
   "execution_count": null,
   "id": "adcef05c-1442-481c-b382-889b7e6c832b",
   "metadata": {},
   "outputs": [],
   "source": []
  },
  {
   "cell_type": "markdown",
   "id": "a08445b8-5a1a-4b42-9dff-ed3b73412526",
   "metadata": {},
   "source": [
    "### 1.4.3 Multivariate"
   ]
  },
  {
   "cell_type": "code",
   "execution_count": null,
   "id": "6be057ed-09a3-4e63-88da-8466597bdc0d",
   "metadata": {},
   "outputs": [],
   "source": []
  },
  {
   "cell_type": "code",
   "execution_count": null,
   "id": "58fd5dc5-767b-4110-88bc-977011143943",
   "metadata": {},
   "outputs": [],
   "source": []
  },
  {
   "cell_type": "code",
   "execution_count": null,
   "id": "a52cd789-2805-43af-8aa6-3cb2c1555531",
   "metadata": {},
   "outputs": [],
   "source": []
  },
  {
   "cell_type": "code",
   "execution_count": null,
   "id": "1e2515e9-59be-4374-9b7a-82de81f2c528",
   "metadata": {},
   "outputs": [],
   "source": []
  },
  {
   "cell_type": "markdown",
   "id": "eacdd1ca-4172-424e-842f-924961b3c559",
   "metadata": {},
   "source": [
    "# 2. Clean the Data"
   ]
  },
  {
   "cell_type": "markdown",
   "id": "eb74e667-2f92-4cb0-bf6f-6349023a3ed0",
   "metadata": {},
   "source": [
    "## 2.1 df_farm"
   ]
  },
  {
   "cell_type": "markdown",
   "id": "4cf96165-535b-4619-ac98-1bfddcbea508",
   "metadata": {},
   "source": [
    "### 2.1.1 Dropping unnecessary columns"
   ]
  },
  {
   "cell_type": "code",
   "execution_count": 23,
   "id": "2f22258e-0310-4040-934f-3b3746590e1c",
   "metadata": {},
   "outputs": [],
   "source": [
    "df_farm = df_farm.drop(columns=['farm_latitude', 'farm_longitude'])"
   ]
  },
  {
   "cell_type": "markdown",
   "id": "47940aa5-ce1a-408e-bd7d-4cb1273cce7b",
   "metadata": {},
   "source": [
    "### 2.1.2 Handle missing values"
   ]
  },
  {
   "cell_type": "code",
   "execution_count": 24,
   "id": "00d8c510-d77e-4069-9a74-a276582dcf7f",
   "metadata": {},
   "outputs": [
    {
     "data": {
      "text/plain": [
       "area_id                   0.00\n",
       "planted_month             0.00\n",
       "planted_year              0.00\n",
       "area_hectare              0.00\n",
       "owner_id                  0.00\n",
       "farm_id                   0.00\n",
       "subdistrict_longitude     0.00\n",
       "soil_type                 0.00\n",
       "subdistrict_latitude      0.00\n",
       "district_longitude        0.00\n",
       "district_latitude         0.00\n",
       "district                  0.00\n",
       "city                      0.00\n",
       "province                  0.00\n",
       "country                   0.00\n",
       "area_name                 0.00\n",
       "subdistrict               0.00\n",
       "palm_trees_per_hectare    0.52\n",
       "seed_type                 0.72\n",
       "dtype: float64"
      ]
     },
     "execution_count": 24,
     "metadata": {},
     "output_type": "execute_result"
    }
   ],
   "source": [
    "# showing which columns have missing data\n",
    "df_farm.isnull().mean().sort_values()"
   ]
  },
  {
   "cell_type": "code",
   "execution_count": 25,
   "id": "c1af9ec2-d59e-4cc8-bde7-9615e874523f",
   "metadata": {},
   "outputs": [],
   "source": [
    "# make a list with numerical variables (mean) and categorical variables (frequent). \n",
    "\n",
    "features_num_mean = ['palm_trees_per_hectare'] # list with numerical values\n",
    "\n",
    "features_cat_frequent = ['seed_type'] # list with categorical values"
   ]
  },
  {
   "cell_type": "code",
   "execution_count": 26,
   "id": "087507b8-e62c-4e40-b4f0-815bd13686de",
   "metadata": {},
   "outputs": [
    {
     "data": {
      "text/html": [
       "<style>#sk-container-id-1 {\n",
       "  /* Definition of color scheme common for light and dark mode */\n",
       "  --sklearn-color-text: black;\n",
       "  --sklearn-color-line: gray;\n",
       "  /* Definition of color scheme for unfitted estimators */\n",
       "  --sklearn-color-unfitted-level-0: #fff5e6;\n",
       "  --sklearn-color-unfitted-level-1: #f6e4d2;\n",
       "  --sklearn-color-unfitted-level-2: #ffe0b3;\n",
       "  --sklearn-color-unfitted-level-3: chocolate;\n",
       "  /* Definition of color scheme for fitted estimators */\n",
       "  --sklearn-color-fitted-level-0: #f0f8ff;\n",
       "  --sklearn-color-fitted-level-1: #d4ebff;\n",
       "  --sklearn-color-fitted-level-2: #b3dbfd;\n",
       "  --sklearn-color-fitted-level-3: cornflowerblue;\n",
       "\n",
       "  /* Specific color for light theme */\n",
       "  --sklearn-color-text-on-default-background: var(--sg-text-color, var(--theme-code-foreground, var(--jp-content-font-color1, black)));\n",
       "  --sklearn-color-background: var(--sg-background-color, var(--theme-background, var(--jp-layout-color0, white)));\n",
       "  --sklearn-color-border-box: var(--sg-text-color, var(--theme-code-foreground, var(--jp-content-font-color1, black)));\n",
       "  --sklearn-color-icon: #696969;\n",
       "\n",
       "  @media (prefers-color-scheme: dark) {\n",
       "    /* Redefinition of color scheme for dark theme */\n",
       "    --sklearn-color-text-on-default-background: var(--sg-text-color, var(--theme-code-foreground, var(--jp-content-font-color1, white)));\n",
       "    --sklearn-color-background: var(--sg-background-color, var(--theme-background, var(--jp-layout-color0, #111)));\n",
       "    --sklearn-color-border-box: var(--sg-text-color, var(--theme-code-foreground, var(--jp-content-font-color1, white)));\n",
       "    --sklearn-color-icon: #878787;\n",
       "  }\n",
       "}\n",
       "\n",
       "#sk-container-id-1 {\n",
       "  color: var(--sklearn-color-text);\n",
       "}\n",
       "\n",
       "#sk-container-id-1 pre {\n",
       "  padding: 0;\n",
       "}\n",
       "\n",
       "#sk-container-id-1 input.sk-hidden--visually {\n",
       "  border: 0;\n",
       "  clip: rect(1px 1px 1px 1px);\n",
       "  clip: rect(1px, 1px, 1px, 1px);\n",
       "  height: 1px;\n",
       "  margin: -1px;\n",
       "  overflow: hidden;\n",
       "  padding: 0;\n",
       "  position: absolute;\n",
       "  width: 1px;\n",
       "}\n",
       "\n",
       "#sk-container-id-1 div.sk-dashed-wrapped {\n",
       "  border: 1px dashed var(--sklearn-color-line);\n",
       "  margin: 0 0.4em 0.5em 0.4em;\n",
       "  box-sizing: border-box;\n",
       "  padding-bottom: 0.4em;\n",
       "  background-color: var(--sklearn-color-background);\n",
       "}\n",
       "\n",
       "#sk-container-id-1 div.sk-container {\n",
       "  /* jupyter's `normalize.less` sets `[hidden] { display: none; }`\n",
       "     but bootstrap.min.css set `[hidden] { display: none !important; }`\n",
       "     so we also need the `!important` here to be able to override the\n",
       "     default hidden behavior on the sphinx rendered scikit-learn.org.\n",
       "     See: https://github.com/scikit-learn/scikit-learn/issues/21755 */\n",
       "  display: inline-block !important;\n",
       "  position: relative;\n",
       "}\n",
       "\n",
       "#sk-container-id-1 div.sk-text-repr-fallback {\n",
       "  display: none;\n",
       "}\n",
       "\n",
       "div.sk-parallel-item,\n",
       "div.sk-serial,\n",
       "div.sk-item {\n",
       "  /* draw centered vertical line to link estimators */\n",
       "  background-image: linear-gradient(var(--sklearn-color-text-on-default-background), var(--sklearn-color-text-on-default-background));\n",
       "  background-size: 2px 100%;\n",
       "  background-repeat: no-repeat;\n",
       "  background-position: center center;\n",
       "}\n",
       "\n",
       "/* Parallel-specific style estimator block */\n",
       "\n",
       "#sk-container-id-1 div.sk-parallel-item::after {\n",
       "  content: \"\";\n",
       "  width: 100%;\n",
       "  border-bottom: 2px solid var(--sklearn-color-text-on-default-background);\n",
       "  flex-grow: 1;\n",
       "}\n",
       "\n",
       "#sk-container-id-1 div.sk-parallel {\n",
       "  display: flex;\n",
       "  align-items: stretch;\n",
       "  justify-content: center;\n",
       "  background-color: var(--sklearn-color-background);\n",
       "  position: relative;\n",
       "}\n",
       "\n",
       "#sk-container-id-1 div.sk-parallel-item {\n",
       "  display: flex;\n",
       "  flex-direction: column;\n",
       "}\n",
       "\n",
       "#sk-container-id-1 div.sk-parallel-item:first-child::after {\n",
       "  align-self: flex-end;\n",
       "  width: 50%;\n",
       "}\n",
       "\n",
       "#sk-container-id-1 div.sk-parallel-item:last-child::after {\n",
       "  align-self: flex-start;\n",
       "  width: 50%;\n",
       "}\n",
       "\n",
       "#sk-container-id-1 div.sk-parallel-item:only-child::after {\n",
       "  width: 0;\n",
       "}\n",
       "\n",
       "/* Serial-specific style estimator block */\n",
       "\n",
       "#sk-container-id-1 div.sk-serial {\n",
       "  display: flex;\n",
       "  flex-direction: column;\n",
       "  align-items: center;\n",
       "  background-color: var(--sklearn-color-background);\n",
       "  padding-right: 1em;\n",
       "  padding-left: 1em;\n",
       "}\n",
       "\n",
       "\n",
       "/* Toggleable style: style used for estimator/Pipeline/ColumnTransformer box that is\n",
       "clickable and can be expanded/collapsed.\n",
       "- Pipeline and ColumnTransformer use this feature and define the default style\n",
       "- Estimators will overwrite some part of the style using the `sk-estimator` class\n",
       "*/\n",
       "\n",
       "/* Pipeline and ColumnTransformer style (default) */\n",
       "\n",
       "#sk-container-id-1 div.sk-toggleable {\n",
       "  /* Default theme specific background. It is overwritten whether we have a\n",
       "  specific estimator or a Pipeline/ColumnTransformer */\n",
       "  background-color: var(--sklearn-color-background);\n",
       "}\n",
       "\n",
       "/* Toggleable label */\n",
       "#sk-container-id-1 label.sk-toggleable__label {\n",
       "  cursor: pointer;\n",
       "  display: block;\n",
       "  width: 100%;\n",
       "  margin-bottom: 0;\n",
       "  padding: 0.5em;\n",
       "  box-sizing: border-box;\n",
       "  text-align: center;\n",
       "}\n",
       "\n",
       "#sk-container-id-1 label.sk-toggleable__label-arrow:before {\n",
       "  /* Arrow on the left of the label */\n",
       "  content: \"▸\";\n",
       "  float: left;\n",
       "  margin-right: 0.25em;\n",
       "  color: var(--sklearn-color-icon);\n",
       "}\n",
       "\n",
       "#sk-container-id-1 label.sk-toggleable__label-arrow:hover:before {\n",
       "  color: var(--sklearn-color-text);\n",
       "}\n",
       "\n",
       "/* Toggleable content - dropdown */\n",
       "\n",
       "#sk-container-id-1 div.sk-toggleable__content {\n",
       "  max-height: 0;\n",
       "  max-width: 0;\n",
       "  overflow: hidden;\n",
       "  text-align: left;\n",
       "  /* unfitted */\n",
       "  background-color: var(--sklearn-color-unfitted-level-0);\n",
       "}\n",
       "\n",
       "#sk-container-id-1 div.sk-toggleable__content.fitted {\n",
       "  /* fitted */\n",
       "  background-color: var(--sklearn-color-fitted-level-0);\n",
       "}\n",
       "\n",
       "#sk-container-id-1 div.sk-toggleable__content pre {\n",
       "  margin: 0.2em;\n",
       "  border-radius: 0.25em;\n",
       "  color: var(--sklearn-color-text);\n",
       "  /* unfitted */\n",
       "  background-color: var(--sklearn-color-unfitted-level-0);\n",
       "}\n",
       "\n",
       "#sk-container-id-1 div.sk-toggleable__content.fitted pre {\n",
       "  /* unfitted */\n",
       "  background-color: var(--sklearn-color-fitted-level-0);\n",
       "}\n",
       "\n",
       "#sk-container-id-1 input.sk-toggleable__control:checked~div.sk-toggleable__content {\n",
       "  /* Expand drop-down */\n",
       "  max-height: 200px;\n",
       "  max-width: 100%;\n",
       "  overflow: auto;\n",
       "}\n",
       "\n",
       "#sk-container-id-1 input.sk-toggleable__control:checked~label.sk-toggleable__label-arrow:before {\n",
       "  content: \"▾\";\n",
       "}\n",
       "\n",
       "/* Pipeline/ColumnTransformer-specific style */\n",
       "\n",
       "#sk-container-id-1 div.sk-label input.sk-toggleable__control:checked~label.sk-toggleable__label {\n",
       "  color: var(--sklearn-color-text);\n",
       "  background-color: var(--sklearn-color-unfitted-level-2);\n",
       "}\n",
       "\n",
       "#sk-container-id-1 div.sk-label.fitted input.sk-toggleable__control:checked~label.sk-toggleable__label {\n",
       "  background-color: var(--sklearn-color-fitted-level-2);\n",
       "}\n",
       "\n",
       "/* Estimator-specific style */\n",
       "\n",
       "/* Colorize estimator box */\n",
       "#sk-container-id-1 div.sk-estimator input.sk-toggleable__control:checked~label.sk-toggleable__label {\n",
       "  /* unfitted */\n",
       "  background-color: var(--sklearn-color-unfitted-level-2);\n",
       "}\n",
       "\n",
       "#sk-container-id-1 div.sk-estimator.fitted input.sk-toggleable__control:checked~label.sk-toggleable__label {\n",
       "  /* fitted */\n",
       "  background-color: var(--sklearn-color-fitted-level-2);\n",
       "}\n",
       "\n",
       "#sk-container-id-1 div.sk-label label.sk-toggleable__label,\n",
       "#sk-container-id-1 div.sk-label label {\n",
       "  /* The background is the default theme color */\n",
       "  color: var(--sklearn-color-text-on-default-background);\n",
       "}\n",
       "\n",
       "/* On hover, darken the color of the background */\n",
       "#sk-container-id-1 div.sk-label:hover label.sk-toggleable__label {\n",
       "  color: var(--sklearn-color-text);\n",
       "  background-color: var(--sklearn-color-unfitted-level-2);\n",
       "}\n",
       "\n",
       "/* Label box, darken color on hover, fitted */\n",
       "#sk-container-id-1 div.sk-label.fitted:hover label.sk-toggleable__label.fitted {\n",
       "  color: var(--sklearn-color-text);\n",
       "  background-color: var(--sklearn-color-fitted-level-2);\n",
       "}\n",
       "\n",
       "/* Estimator label */\n",
       "\n",
       "#sk-container-id-1 div.sk-label label {\n",
       "  font-family: monospace;\n",
       "  font-weight: bold;\n",
       "  display: inline-block;\n",
       "  line-height: 1.2em;\n",
       "}\n",
       "\n",
       "#sk-container-id-1 div.sk-label-container {\n",
       "  text-align: center;\n",
       "}\n",
       "\n",
       "/* Estimator-specific */\n",
       "#sk-container-id-1 div.sk-estimator {\n",
       "  font-family: monospace;\n",
       "  border: 1px dotted var(--sklearn-color-border-box);\n",
       "  border-radius: 0.25em;\n",
       "  box-sizing: border-box;\n",
       "  margin-bottom: 0.5em;\n",
       "  /* unfitted */\n",
       "  background-color: var(--sklearn-color-unfitted-level-0);\n",
       "}\n",
       "\n",
       "#sk-container-id-1 div.sk-estimator.fitted {\n",
       "  /* fitted */\n",
       "  background-color: var(--sklearn-color-fitted-level-0);\n",
       "}\n",
       "\n",
       "/* on hover */\n",
       "#sk-container-id-1 div.sk-estimator:hover {\n",
       "  /* unfitted */\n",
       "  background-color: var(--sklearn-color-unfitted-level-2);\n",
       "}\n",
       "\n",
       "#sk-container-id-1 div.sk-estimator.fitted:hover {\n",
       "  /* fitted */\n",
       "  background-color: var(--sklearn-color-fitted-level-2);\n",
       "}\n",
       "\n",
       "/* Specification for estimator info (e.g. \"i\" and \"?\") */\n",
       "\n",
       "/* Common style for \"i\" and \"?\" */\n",
       "\n",
       ".sk-estimator-doc-link,\n",
       "a:link.sk-estimator-doc-link,\n",
       "a:visited.sk-estimator-doc-link {\n",
       "  float: right;\n",
       "  font-size: smaller;\n",
       "  line-height: 1em;\n",
       "  font-family: monospace;\n",
       "  background-color: var(--sklearn-color-background);\n",
       "  border-radius: 1em;\n",
       "  height: 1em;\n",
       "  width: 1em;\n",
       "  text-decoration: none !important;\n",
       "  margin-left: 1ex;\n",
       "  /* unfitted */\n",
       "  border: var(--sklearn-color-unfitted-level-1) 1pt solid;\n",
       "  color: var(--sklearn-color-unfitted-level-1);\n",
       "}\n",
       "\n",
       ".sk-estimator-doc-link.fitted,\n",
       "a:link.sk-estimator-doc-link.fitted,\n",
       "a:visited.sk-estimator-doc-link.fitted {\n",
       "  /* fitted */\n",
       "  border: var(--sklearn-color-fitted-level-1) 1pt solid;\n",
       "  color: var(--sklearn-color-fitted-level-1);\n",
       "}\n",
       "\n",
       "/* On hover */\n",
       "div.sk-estimator:hover .sk-estimator-doc-link:hover,\n",
       ".sk-estimator-doc-link:hover,\n",
       "div.sk-label-container:hover .sk-estimator-doc-link:hover,\n",
       ".sk-estimator-doc-link:hover {\n",
       "  /* unfitted */\n",
       "  background-color: var(--sklearn-color-unfitted-level-3);\n",
       "  color: var(--sklearn-color-background);\n",
       "  text-decoration: none;\n",
       "}\n",
       "\n",
       "div.sk-estimator.fitted:hover .sk-estimator-doc-link.fitted:hover,\n",
       ".sk-estimator-doc-link.fitted:hover,\n",
       "div.sk-label-container:hover .sk-estimator-doc-link.fitted:hover,\n",
       ".sk-estimator-doc-link.fitted:hover {\n",
       "  /* fitted */\n",
       "  background-color: var(--sklearn-color-fitted-level-3);\n",
       "  color: var(--sklearn-color-background);\n",
       "  text-decoration: none;\n",
       "}\n",
       "\n",
       "/* Span, style for the box shown on hovering the info icon */\n",
       ".sk-estimator-doc-link span {\n",
       "  display: none;\n",
       "  z-index: 9999;\n",
       "  position: relative;\n",
       "  font-weight: normal;\n",
       "  right: .2ex;\n",
       "  padding: .5ex;\n",
       "  margin: .5ex;\n",
       "  width: min-content;\n",
       "  min-width: 20ex;\n",
       "  max-width: 50ex;\n",
       "  color: var(--sklearn-color-text);\n",
       "  box-shadow: 2pt 2pt 4pt #999;\n",
       "  /* unfitted */\n",
       "  background: var(--sklearn-color-unfitted-level-0);\n",
       "  border: .5pt solid var(--sklearn-color-unfitted-level-3);\n",
       "}\n",
       "\n",
       ".sk-estimator-doc-link.fitted span {\n",
       "  /* fitted */\n",
       "  background: var(--sklearn-color-fitted-level-0);\n",
       "  border: var(--sklearn-color-fitted-level-3);\n",
       "}\n",
       "\n",
       ".sk-estimator-doc-link:hover span {\n",
       "  display: block;\n",
       "}\n",
       "\n",
       "/* \"?\"-specific style due to the `<a>` HTML tag */\n",
       "\n",
       "#sk-container-id-1 a.estimator_doc_link {\n",
       "  float: right;\n",
       "  font-size: 1rem;\n",
       "  line-height: 1em;\n",
       "  font-family: monospace;\n",
       "  background-color: var(--sklearn-color-background);\n",
       "  border-radius: 1rem;\n",
       "  height: 1rem;\n",
       "  width: 1rem;\n",
       "  text-decoration: none;\n",
       "  /* unfitted */\n",
       "  color: var(--sklearn-color-unfitted-level-1);\n",
       "  border: var(--sklearn-color-unfitted-level-1) 1pt solid;\n",
       "}\n",
       "\n",
       "#sk-container-id-1 a.estimator_doc_link.fitted {\n",
       "  /* fitted */\n",
       "  border: var(--sklearn-color-fitted-level-1) 1pt solid;\n",
       "  color: var(--sklearn-color-fitted-level-1);\n",
       "}\n",
       "\n",
       "/* On hover */\n",
       "#sk-container-id-1 a.estimator_doc_link:hover {\n",
       "  /* unfitted */\n",
       "  background-color: var(--sklearn-color-unfitted-level-3);\n",
       "  color: var(--sklearn-color-background);\n",
       "  text-decoration: none;\n",
       "}\n",
       "\n",
       "#sk-container-id-1 a.estimator_doc_link.fitted:hover {\n",
       "  /* fitted */\n",
       "  background-color: var(--sklearn-color-fitted-level-3);\n",
       "}\n",
       "</style><div id=\"sk-container-id-1\" class=\"sk-top-container\"><div class=\"sk-text-repr-fallback\"><pre>Pipeline(steps=[(&#x27;imp_num_mean&#x27;,\n",
       "                 MeanMedianImputer(imputation_method=&#x27;mean&#x27;,\n",
       "                                   variables=[&#x27;palm_trees_per_hectare&#x27;])),\n",
       "                (&#x27;imp_cat_frequent&#x27;,\n",
       "                 CategoricalImputer(imputation_method=&#x27;frequent&#x27;,\n",
       "                                    variables=[&#x27;seed_type&#x27;]))])</pre><b>In a Jupyter environment, please rerun this cell to show the HTML representation or trust the notebook. <br />On GitHub, the HTML representation is unable to render, please try loading this page with nbviewer.org.</b></div><div class=\"sk-container\" hidden><div class=\"sk-item sk-dashed-wrapped\"><div class=\"sk-label-container\"><div class=\"sk-label fitted sk-toggleable\"><input class=\"sk-toggleable__control sk-hidden--visually\" id=\"sk-estimator-id-1\" type=\"checkbox\" ><label for=\"sk-estimator-id-1\" class=\"sk-toggleable__label fitted sk-toggleable__label-arrow fitted\">&nbsp;&nbsp;Pipeline<a class=\"sk-estimator-doc-link fitted\" rel=\"noreferrer\" target=\"_blank\" href=\"https://scikit-learn.org/1.4/modules/generated/sklearn.pipeline.Pipeline.html\">?<span>Documentation for Pipeline</span></a><span class=\"sk-estimator-doc-link fitted\">i<span>Fitted</span></span></label><div class=\"sk-toggleable__content fitted\"><pre>Pipeline(steps=[(&#x27;imp_num_mean&#x27;,\n",
       "                 MeanMedianImputer(imputation_method=&#x27;mean&#x27;,\n",
       "                                   variables=[&#x27;palm_trees_per_hectare&#x27;])),\n",
       "                (&#x27;imp_cat_frequent&#x27;,\n",
       "                 CategoricalImputer(imputation_method=&#x27;frequent&#x27;,\n",
       "                                    variables=[&#x27;seed_type&#x27;]))])</pre></div> </div></div><div class=\"sk-serial\"><div class=\"sk-item\"><div class=\"sk-estimator fitted sk-toggleable\"><input class=\"sk-toggleable__control sk-hidden--visually\" id=\"sk-estimator-id-2\" type=\"checkbox\" ><label for=\"sk-estimator-id-2\" class=\"sk-toggleable__label fitted sk-toggleable__label-arrow fitted\">MeanMedianImputer</label><div class=\"sk-toggleable__content fitted\"><pre>MeanMedianImputer(imputation_method=&#x27;mean&#x27;,\n",
       "                  variables=[&#x27;palm_trees_per_hectare&#x27;])</pre></div> </div></div><div class=\"sk-item\"><div class=\"sk-estimator fitted sk-toggleable\"><input class=\"sk-toggleable__control sk-hidden--visually\" id=\"sk-estimator-id-3\" type=\"checkbox\" ><label for=\"sk-estimator-id-3\" class=\"sk-toggleable__label fitted sk-toggleable__label-arrow fitted\">CategoricalImputer</label><div class=\"sk-toggleable__content fitted\"><pre>CategoricalImputer(imputation_method=&#x27;frequent&#x27;, variables=[&#x27;seed_type&#x27;])</pre></div> </div></div></div></div></div></div>"
      ],
      "text/plain": [
       "Pipeline(steps=[('imp_num_mean',\n",
       "                 MeanMedianImputer(imputation_method='mean',\n",
       "                                   variables=['palm_trees_per_hectare'])),\n",
       "                ('imp_cat_frequent',\n",
       "                 CategoricalImputer(imputation_method='frequent',\n",
       "                                    variables=['seed_type']))])"
      ]
     },
     "execution_count": 26,
     "metadata": {},
     "output_type": "execute_result"
    }
   ],
   "source": [
    "# instantiate each imputer within a pipeline\n",
    "pipe = Pipeline(steps=[ # defining pipeline\n",
    "    ('imp_num_mean', mdi.MeanMedianImputer(imputation_method = 'mean', variables=features_num_mean)), # imputing numerical\n",
    "    ('imp_cat_frequent', mdi.CategoricalImputer(variables = features_cat_frequent, imputation_method='frequent')) # imputing categorical\n",
    "])\n",
    "\n",
    "# fit the preprocessor\n",
    "pipe.fit(df_farm)"
   ]
  },
  {
   "cell_type": "code",
   "execution_count": 27,
   "id": "bd2a408a-b395-4196-ac03-4edb384ad951",
   "metadata": {},
   "outputs": [
    {
     "data": {
      "text/plain": [
       "area_id                   0\n",
       "area_name                 0\n",
       "country                   0\n",
       "province                  0\n",
       "city                      0\n",
       "district                  0\n",
       "district_latitude         0\n",
       "district_longitude        0\n",
       "subdistrict               0\n",
       "subdistrict_latitude      0\n",
       "subdistrict_longitude     0\n",
       "farm_id                   0\n",
       "owner_id                  0\n",
       "area_hectare              0\n",
       "planted_year              0\n",
       "planted_month             0\n",
       "palm_trees_per_hectare    0\n",
       "soil_type                 0\n",
       "seed_type                 0\n",
       "dtype: int64"
      ]
     },
     "execution_count": 27,
     "metadata": {},
     "output_type": "execute_result"
    }
   ],
   "source": [
    "# impute the data\n",
    "df_farm = pipe.transform(df_farm)\n",
    "\n",
    "df_farm.isnull().sum() # show the final number of null values after imputation"
   ]
  },
  {
   "cell_type": "markdown",
   "id": "3a5ea28c-0eea-427b-bf8c-6ee21e581b31",
   "metadata": {},
   "source": [
    "### 2.1.3 Handle outliers"
   ]
  },
  {
   "cell_type": "code",
   "execution_count": 28,
   "id": "69ee84b0-0e44-434c-abb4-ed9cc5a34d31",
   "metadata": {},
   "outputs": [
    {
     "data": {
      "image/png": "[encoded data removed]",
      "text/plain": [
       "<Figure size 2000x1500 with 9 Axes>"
      ]
     },
     "metadata": {},
     "output_type": "display_data"
    }
   ],
   "source": [
    "# showing the variable distribution in the df_farm in histograms\n",
    "df_farm.hist(bins=30, figsize=(20, 15), density=True)\n",
    "plt.show() # show the histogram"
   ]
  },
  {
   "cell_type": "code",
   "execution_count": 29,
   "id": "98167033-5ec6-4c43-bdcb-f50cc1751a36",
   "metadata": {},
   "outputs": [
    {
     "name": "stdout",
     "output_type": "stream",
     "text": [
      "Initial number of outliers:\n",
      "Outliers in area_hectare: 22\n",
      "Outliers in palm_trees_per_hectare: 10\n"
     ]
    }
   ],
   "source": [
    "farm_num_cols = ['area_hectare', 'palm_trees_per_hectare'] # columns to work with for the outliers\n",
    "\n",
    "print(\"Initial number of outliers:\")\n",
    "\n",
    "# Function to identify outliers using IQR method\n",
    "def find_outliers_IQR(data): # define function\n",
    "    outliers_indices = {} # adding a list so that it can be updated later on in the loop\n",
    "    for col in data.select_dtypes(include=[np.number]).columns: # loop to find outliers in each column in num_cols\n",
    "        Q1 = data[col].quantile(0.25) # finding the Q1\n",
    "        Q3 = data[col].quantile(0.75) # finding the Q3\n",
    "        IQR = Q3 - Q1 # finding the interquartile range\n",
    "        lower_bound = Q1 - 1.5 * IQR # finding the lower boundary\n",
    "        upper_bound = Q3 + 1.5 * IQR # finding the upper boundary\n",
    "        outliers_indices[col] = data[(data[col] < lower_bound) | (data[col] > upper_bound)].index # finding the number of outliers\n",
    "    return outliers_indices # return the final list\n",
    "\n",
    "outliers_indices = find_outliers_IQR(df_farm[farm_num_cols]) # finding the number of values in the columns that are outliers\n",
    "\n",
    "for col, indices in outliers_indices.items(): # print out the number of outliers for each column\n",
    "    print(f'Outliers in {col}: {len(indices)}')"
   ]
  },
  {
   "cell_type": "code",
   "execution_count": 30,
   "id": "f58092f5-3006-4ede-a8ef-c7a6466172d1",
   "metadata": {},
   "outputs": [],
   "source": [
    "# Handle outliers (cap them at lower/upper bounds)\n",
    "for col in farm_num_cols: # capping the outliers for all the columns specified earlier\n",
    "    Q1 = df_farm[col].quantile(0.25) # finding the Q1\n",
    "    Q3 = df_farm[col].quantile(0.75) # finding the Q3\n",
    "    IQR = Q3 - Q1 # finding the interquartile range\n",
    "    lower_bound = Q1 - 1.5 * IQR # finding the lower boundary\n",
    "    upper_bound = Q3 + 1.5 * IQR # finding the upper boundary\n",
    "    df_farm[col] = np.where(df_farm[col] < lower_bound, lower_bound, df_farm[col]) # dealing with the values that are less than Q1\n",
    "    df_farm[col] = np.where(df_farm[col] > upper_bound, upper_bound, df_farm[col]) # dealing with the values that are more than Q3"
   ]
  },
  {
   "cell_type": "code",
   "execution_count": 31,
   "id": "e6cf9a5f-9056-4490-8f5b-884d53d9636b",
   "metadata": {},
   "outputs": [
    {
     "name": "stdout",
     "output_type": "stream",
     "text": [
      "\n",
      "Final number of outliers after capping:\n",
      "Outliers in area_hectare: 0\n",
      "Outliers in palm_trees_per_hectare: 0\n"
     ]
    }
   ],
   "source": [
    "print(\"\\nFinal number of outliers after capping:\")    \n",
    "\n",
    "# Check that outliers have been handeled\n",
    "for col in farm_num_cols:\n",
    "    Q1 = df_farm[col].quantile(0.25) # finding the Q1\n",
    "    Q3 = df_farm[col].quantile(0.75) # finding the Q3\n",
    "    IQR = Q3 - Q1 # finding the interquartile range\n",
    "    lower_bound = Q1 - 1.5 * IQR # finding the lower boundary\n",
    "    upper_bound = Q3 + 1.5 * IQR # finding the upper boundary\n",
    "    outliers = df_farm[(df_farm[col] < lower_bound) | (df_farm[col] > upper_bound)] # finding the number of outliers\n",
    "    print(f'Outliers in {col}: {len(outliers)}') # printing the number of outliers left after capping"
   ]
  },
  {
   "cell_type": "markdown",
   "id": "3d773005-23a9-453b-afe0-9d704e31f1e7",
   "metadata": {},
   "source": [
    "## 2.2 df_sale"
   ]
  },
  {
   "cell_type": "markdown",
   "id": "69d02d8d-487d-4ac9-a6d4-e01e99c1ae35",
   "metadata": {},
   "source": [
    "### 2.2.1 Handle missing values"
   ]
  },
  {
   "cell_type": "code",
   "execution_count": 32,
   "id": "1c652c92-6916-4743-8f73-02889c01c7a9",
   "metadata": {},
   "outputs": [
    {
     "data": {
      "text/plain": [
       "farm_id                0.0\n",
       "sale_order_id          0.0\n",
       "product_id             0.0\n",
       "quantity               0.0\n",
       "price                  0.0\n",
       "user_id                0.0\n",
       "total_item_price       0.0\n",
       "time_of_sale           0.0\n",
       "product_sku            0.0\n",
       "product_type           0.0\n",
       "unit_of_measurement    0.0\n",
       "product_name           0.0\n",
       "product_price          0.0\n",
       "product_description    0.0\n",
       "dtype: float64"
      ]
     },
     "execution_count": 32,
     "metadata": {},
     "output_type": "execute_result"
    }
   ],
   "source": [
    "# showing which columns have missing data\n",
    "df_sale.isnull().mean().sort_values()"
   ]
  },
  {
   "cell_type": "markdown",
   "id": "d88da11a-40a9-483d-bbeb-731dc53750e5",
   "metadata": {},
   "source": [
    "### 2.2.2 Handle outliers"
   ]
  },
  {
   "cell_type": "code",
   "execution_count": 33,
   "id": "e6b11971-ea22-4919-b8a8-2e81085ecd70",
   "metadata": {},
   "outputs": [
    {
     "data": {
      "image/png": "[encoded data removed]",
      "text/plain": [
       "<Figure size 2000x1500 with 6 Axes>"
      ]
     },
     "metadata": {},
     "output_type": "display_data"
    }
   ],
   "source": [
    "# showing the variable distribution in the df_farm in histograms\n",
    "df_sale.hist(bins=30, figsize=(20, 15), density=True)\n",
    "plt.show() # show the histogram"
   ]
  },
  {
   "cell_type": "code",
   "execution_count": 34,
   "id": "12e3feee-dc72-4c8a-a597-342f68a5cdf1",
   "metadata": {},
   "outputs": [
    {
     "name": "stdout",
     "output_type": "stream",
     "text": [
      "Initial number of outliers:\n",
      "Outliers in quantity: 5\n",
      "Outliers in price: 1\n",
      "Outliers in total_item_price: 4\n"
     ]
    }
   ],
   "source": [
    "sale_num_cols = ['quantity', 'price', 'total_item_price'] # columns to work with for the outliers\n",
    "\n",
    "print(\"Initial number of outliers:\")\n",
    "\n",
    "# Function to identify outliers using IQR method\n",
    "def find_outliers_IQR(data): # define function\n",
    "    outliers_indices = {} # adding a list so that it can be updated later on in the loop\n",
    "    for col in data.select_dtypes(include=[np.number]).columns: # loop to find outliers in each column in num_cols\n",
    "        Q1 = data[col].quantile(0.25) # finding the Q1\n",
    "        Q3 = data[col].quantile(0.75) # finding the Q3\n",
    "        IQR = Q3 - Q1 # finding the interquartile range\n",
    "        lower_bound = Q1 - 1.5 * IQR # finding the lower boundary\n",
    "        upper_bound = Q3 + 1.5 * IQR # finding the upper boundary\n",
    "        outliers_indices[col] = data[(data[col] < lower_bound) | (data[col] > upper_bound)].index # finding the number of outliers\n",
    "    return outliers_indices # return the final list\n",
    "\n",
    "outliers_indices = find_outliers_IQR(df_sale[sale_num_cols]) # finding the number of values in the columns that are outliers\n",
    "\n",
    "for col, indices in outliers_indices.items(): # print out the number of outliers for each column\n",
    "    print(f'Outliers in {col}: {len(indices)}')"
   ]
  },
  {
   "cell_type": "code",
   "execution_count": 35,
   "id": "dbea874a-b3cf-40b7-9e97-42327df7d335",
   "metadata": {},
   "outputs": [],
   "source": [
    "# Handle outliers (cap them at lower/upper bounds)\n",
    "for col in sale_num_cols: # capping the outliers for all the columns specified earlier\n",
    "    Q1 = df_sale[col].quantile(0.25) # finding the Q1\n",
    "    Q3 = df_sale[col].quantile(0.75) # finding the Q3\n",
    "    IQR = Q3 - Q1 # finding the interquartile range\n",
    "    lower_bound = Q1 - 1.5 * IQR # finding the lower boundary\n",
    "    upper_bound = Q3 + 1.5 * IQR # finding the upper boundary\n",
    "    df_sale[col] = np.where(df_sale[col] < lower_bound, lower_bound, df_sale[col]) # dealing with the values that are less than Q1\n",
    "    df_sale[col] = np.where(df_sale[col] > upper_bound, upper_bound, df_sale[col]) # dealing with the values that are more than Q3"
   ]
  },
  {
   "cell_type": "code",
   "execution_count": 36,
   "id": "ad292231-a150-4d40-aac5-6334adba3a70",
   "metadata": {},
   "outputs": [
    {
     "name": "stdout",
     "output_type": "stream",
     "text": [
      "\n",
      "Final number of outliers after capping:\n",
      "Outliers in quantity: 0\n",
      "Outliers in price: 0\n",
      "Outliers in total_item_price: 0\n"
     ]
    },
    {
     "name": "stderr",
     "output_type": "stream",
     "text": [
      "C:\\Users\\nehaa\\AppData\\Local\\Temp\\ipykernel_20060\\3788684400.py:10: UserWarning: Boolean Series key will be reindexed to match DataFrame index.\n",
      "  outliers = df_farm[(df_sale[col] < lower_bound) | (df_sale[col] > upper_bound)] # finding the number of outliers\n",
      "C:\\Users\\nehaa\\AppData\\Local\\Temp\\ipykernel_20060\\3788684400.py:10: UserWarning: Boolean Series key will be reindexed to match DataFrame index.\n",
      "  outliers = df_farm[(df_sale[col] < lower_bound) | (df_sale[col] > upper_bound)] # finding the number of outliers\n",
      "C:\\Users\\nehaa\\AppData\\Local\\Temp\\ipykernel_20060\\3788684400.py:10: UserWarning: Boolean Series key will be reindexed to match DataFrame index.\n",
      "  outliers = df_farm[(df_sale[col] < lower_bound) | (df_sale[col] > upper_bound)] # finding the number of outliers\n"
     ]
    }
   ],
   "source": [
    "print(\"\\nFinal number of outliers after capping:\")    \n",
    "\n",
    "# Check that outliers have been handled\n",
    "for col in sale_num_cols:\n",
    "    Q1 = df_sale[col].quantile(0.25) # finding the Q1\n",
    "    Q3 = df_sale[col].quantile(0.75) # finding the Q3\n",
    "    IQR = Q3 - Q1 # finding the interquartile range\n",
    "    lower_bound = Q1 - 1.5 * IQR # finding the lower boundary\n",
    "    upper_bound = Q3 + 1.5 * IQR # finding the upper boundary\n",
    "    outliers = df_farm[(df_sale[col] < lower_bound) | (df_sale[col] > upper_bound)] # finding the number of outliers\n",
    "    print(f'Outliers in {col}: {len(outliers)}') # printing the number of outliers left after capping"
   ]
  },
  {
   "cell_type": "markdown",
   "id": "9b341b8a-0325-48db-8d5d-16265dd326e7",
   "metadata": {},
   "source": [
    "### 2.2.3 Translate the product description"
   ]
  },
  {
   "cell_type": "markdown",
   "id": "07bd0dd5-67b9-45fd-94bd-3e6318117c33",
   "metadata": {},
   "source": [
    "(Done by Nehaa)"
   ]
  },
  {
   "cell_type": "code",
   "execution_count": 37,
   "id": "bc83682f-d9fc-487c-883b-d5221eb130c2",
   "metadata": {},
   "outputs": [],
   "source": [
    "# !pip install beautifulsoup4 googletrans==4.0.0-rc1"
   ]
  },
  {
   "cell_type": "code",
   "execution_count": 38,
   "id": "ce943751-66b5-488b-bd96-a5bd5604bf60",
   "metadata": {},
   "outputs": [
    {
     "name": "stdout",
     "output_type": "stream",
     "text": [
      "                                 product_description  \\\n",
      "0  Pupuk MOP/KCL untuk meningkatkan Kualitas dan ...   \n",
      "1  Rock Phosphate (RP) adalah salah satu sumber f...   \n",
      "2                Topup PLN 100.000 Topup PLN 100.000   \n",
      "3  <p>Kaos tidak berkerah warna Putih bertuliskan...   \n",
      "4  Pupuk MOP/KCL untuk meningkatkan Kualitas dan ...   \n",
      "\n",
      "                              product_description_en  \n",
      "0  MOP/KCL fertilizer to improve the quality and ...  \n",
      "1  Rock Phosphate (RP) is one of the best sources...  \n",
      "2                Topup PLN 100,000 Topup PLN 100,000  \n",
      "3  The white collared shirt that reads \"Sibrondol...  \n",
      "4  MOP/KCL fertilizer to improve the quality and ...  \n"
     ]
    },
    {
     "name": "stderr",
     "output_type": "stream",
     "text": [
      "C:\\Users\\nehaa\\AppData\\Local\\Temp\\ipykernel_20060\\1748948745.py:13: MarkupResemblesLocatorWarning: The input looks more like a filename than markup. You may want to open this file and pass the filehandle into Beautiful Soup.\n",
      "  return BeautifulSoup(text, \"html.parser\").get_text(separator=\" \") if pd.notnull(text) else \"\"\n"
     ]
    },
    {
     "name": "stdout",
     "output_type": "stream",
     "text": [
      "                      product_name                      product_name_en\n",
      "0  MOP/KCL Canada Cap Mahkota 50kg      MOP/KCL Canada Cap Mahkota 50kg\n",
      "1          RP Mahkota 50kg - Egypt               Rp. 50kg crown - Egypt\n",
      "2                Token PLN 100.000                    Token PLN 100,000\n",
      "3  Kaos SIBRONDOL SawitPRO size XL  T -shirt Sibrondol Sawitpro Size XL\n",
      "4  MOP/KCL Canada Cap Mahkota 50kg      MOP/KCL Canada Cap Mahkota 50kg\n"
     ]
    }
   ],
   "source": [
    "from bs4 import BeautifulSoup\n",
    "from googletrans import Translator\n",
    "import re\n",
    "import pandas as pd\n",
    "\n",
    "# Sample setup: assuming df_sale is already loaded\n",
    "# df_sale = pd.read_csv('your_file.csv')\n",
    "\n",
    "translator = Translator()\n",
    "\n",
    "def clean_html(text):\n",
    "    \"\"\"Remove HTML tags and convert to plain text.\"\"\"\n",
    "    return BeautifulSoup(text, \"html.parser\").get_text(separator=\" \") if pd.notnull(text) else \"\"\n",
    "\n",
    "def normalize_whitespace(text):\n",
    "    \"\"\"Remove extra whitespace and newlines.\"\"\"\n",
    "    return re.sub(r'\\s+', ' ', text).strip()\n",
    "\n",
    "def translate_to_english(text):\n",
    "    \"\"\"Translate Indonesian text to English.\"\"\"\n",
    "    try:\n",
    "        translated = translator.translate(text, src='id', dest='en')\n",
    "        return translated.text\n",
    "    except Exception as e:\n",
    "        return text  # Fallback: return original if translation fails\n",
    "\n",
    "def clean_and_translate(text):\n",
    "    \"\"\"Combined function to clean and translate.\"\"\"\n",
    "    no_html = clean_html(text)\n",
    "    normalized = normalize_whitespace(no_html)\n",
    "    translated = translate_to_english(normalized)\n",
    "    return translated\n",
    "\n",
    "# Apply to the 'product_description' column\n",
    "df_sale['product_description_en'] = df_sale['product_description'].apply(clean_and_translate)\n",
    "\n",
    "# Preview result\n",
    "print(df_sale[['product_description', 'product_description_en']].head())\n",
    "\n",
    "# Apply to the 'product_description' column\n",
    "df_sale['product_name_en'] = df_sale['product_name'].apply(clean_and_translate)\n",
    "\n",
    "# Preview result\n",
    "print(df_sale[['product_name', 'product_name_en']].head())\n",
    "\n"
   ]
  },
  {
   "cell_type": "code",
   "execution_count": 39,
   "id": "0958bd1e-7efa-496a-a375-3db7dc1c4abc",
   "metadata": {},
   "outputs": [],
   "source": [
    "# df_sale = df_sale.drop(\"product_description\")\n",
    "# df_sale = df_sale.drop(\"product_name\")\n"
   ]
  },
  {
   "cell_type": "code",
   "execution_count": 40,
   "id": "c73c9149-a611-4d3c-a9a6-6c758c563052",
   "metadata": {},
   "outputs": [
    {
     "data": {
      "text/html": [
       "<div>\n",
       "<style scoped>\n",
       "    .dataframe tbody tr th:only-of-type {\n",
       "        vertical-align: middle;\n",
       "    }\n",
       "\n",
       "    .dataframe tbody tr th {\n",
       "        vertical-align: top;\n",
       "    }\n",
       "\n",
       "    .dataframe thead th {\n",
       "        text-align: right;\n",
       "    }\n",
       "</style>\n",
       "<table border=\"1\" class=\"dataframe\">\n",
       "  <thead>\n",
       "    <tr style=\"text-align: right;\">\n",
       "      <th></th>\n",
       "      <th>farm_id</th>\n",
       "      <th>sale_order_id</th>\n",
       "      <th>product_id</th>\n",
       "      <th>quantity</th>\n",
       "      <th>price</th>\n",
       "      <th>user_id</th>\n",
       "      <th>total_item_price</th>\n",
       "      <th>time_of_sale</th>\n",
       "      <th>product_sku</th>\n",
       "      <th>product_type</th>\n",
       "      <th>unit_of_measurement</th>\n",
       "      <th>product_name</th>\n",
       "      <th>product_price</th>\n",
       "      <th>product_description</th>\n",
       "      <th>product_description_en</th>\n",
       "      <th>product_name_en</th>\n",
       "    </tr>\n",
       "  </thead>\n",
       "  <tbody>\n",
       "    <tr>\n",
       "      <th>0</th>\n",
       "      <td>d4dc9c06-177e-494c-ba72-7e2954ce8ced</td>\n",
       "      <td>3ddca641-cb59-4a27-8698-cb16ff2932f2</td>\n",
       "      <td>80957603-6cec-4f63-8dcd-aba6ded5cbdd</td>\n",
       "      <td>200.0</td>\n",
       "      <td>326000.000</td>\n",
       "      <td>13f5223e-f04a-4fa8-9ef2-cf36060f0d6d</td>\n",
       "      <td>90200000.0</td>\n",
       "      <td>1744078798583</td>\n",
       "      <td>101110501601</td>\n",
       "      <td>GOODS</td>\n",
       "      <td>kg</td>\n",
       "      <td>MOP/KCL Canada Cap Mahkota 50kg</td>\n",
       "      <td>712500.0</td>\n",
       "      <td>Pupuk MOP/KCL untuk meningkatkan Kualitas dan ...</td>\n",
       "      <td>MOP/KCL fertilizer to improve the quality and ...</td>\n",
       "      <td>MOP/KCL Canada Cap Mahkota 50kg</td>\n",
       "    </tr>\n",
       "    <tr>\n",
       "      <th>1</th>\n",
       "      <td>7eefa7db-26bf-4a8b-b207-f44a52ed0aba</td>\n",
       "      <td>3ddca641-cb59-4a27-8698-cb16ff2932f2</td>\n",
       "      <td>b53ce31c-3789-42d7-96a0-5fe058cac7a5</td>\n",
       "      <td>200.0</td>\n",
       "      <td>125000.000</td>\n",
       "      <td>13f5223e-f04a-4fa8-9ef2-cf36060f0d6d</td>\n",
       "      <td>90200000.0</td>\n",
       "      <td>1744078798583</td>\n",
       "      <td>101110502101</td>\n",
       "      <td>GOODS</td>\n",
       "      <td>kg</td>\n",
       "      <td>RP Mahkota 50kg - Egypt</td>\n",
       "      <td>352688.0</td>\n",
       "      <td>Rock Phosphate (RP) adalah salah satu sumber f...</td>\n",
       "      <td>Rock Phosphate (RP) is one of the best sources...</td>\n",
       "      <td>Rp. 50kg crown - Egypt</td>\n",
       "    </tr>\n",
       "    <tr>\n",
       "      <th>2</th>\n",
       "      <td>e9b32dc3-4e0f-4a69-bb3d-c7f11277f97f</td>\n",
       "      <td>787bc8b7-e679-4772-be5d-af4afac9adf5</td>\n",
       "      <td>5952d124-7dc6-4a6a-baa2-e2e502ecd6fe</td>\n",
       "      <td>1.0</td>\n",
       "      <td>109000.000</td>\n",
       "      <td>1e75f22f-b609-4ebc-9536-4a26aef73302</td>\n",
       "      <td>109000.0</td>\n",
       "      <td>1744182202966</td>\n",
       "      <td>TUP/PLN/100</td>\n",
       "      <td>DIGITAL</td>\n",
       "      <td></td>\n",
       "      <td>Token PLN 100.000</td>\n",
       "      <td>109000.0</td>\n",
       "      <td>Topup PLN 100.000 Topup PLN 100.000</td>\n",
       "      <td>Topup PLN 100,000 Topup PLN 100,000</td>\n",
       "      <td>Token PLN 100,000</td>\n",
       "    </tr>\n",
       "    <tr>\n",
       "      <th>3</th>\n",
       "      <td>86a41dec-9936-4c8f-9150-e8b367a4959f</td>\n",
       "      <td>4d47dd32-1618-4376-a846-66bcf065e173</td>\n",
       "      <td>0bd2430a-6613-442a-9d5a-11d64cb095ae</td>\n",
       "      <td>1.0</td>\n",
       "      <td>65000.000</td>\n",
       "      <td>344963f8-9a3a-4de3-b3a9-c8716fa37c0e</td>\n",
       "      <td>65000.0</td>\n",
       "      <td>1742438712361</td>\n",
       "      <td>MERCH-SAWITPRO-SHIRT-02</td>\n",
       "      <td>GOODS</td>\n",
       "      <td>kg</td>\n",
       "      <td>Kaos SIBRONDOL SawitPRO size XL</td>\n",
       "      <td>100000.0</td>\n",
       "      <td>&lt;p&gt;Kaos tidak berkerah warna Putih bertuliskan...</td>\n",
       "      <td>The white collared shirt that reads \"Sibrondol...</td>\n",
       "      <td>T -shirt Sibrondol Sawitpro Size XL</td>\n",
       "    </tr>\n",
       "    <tr>\n",
       "      <th>4</th>\n",
       "      <td>61cf5f3f-2a24-4080-bc4f-50af3506479d</td>\n",
       "      <td>e5819416-6b56-4337-9271-dc2c701ac7bd</td>\n",
       "      <td>80957603-6cec-4f63-8dcd-aba6ded5cbdd</td>\n",
       "      <td>2.0</td>\n",
       "      <td>588484.375</td>\n",
       "      <td>49ad56f8-8d32-408f-9f88-36cad5310680</td>\n",
       "      <td>1377500.0</td>\n",
       "      <td>1744874598061</td>\n",
       "      <td>101110501601</td>\n",
       "      <td>GOODS</td>\n",
       "      <td>kg</td>\n",
       "      <td>MOP/KCL Canada Cap Mahkota 50kg</td>\n",
       "      <td>712500.0</td>\n",
       "      <td>Pupuk MOP/KCL untuk meningkatkan Kualitas dan ...</td>\n",
       "      <td>MOP/KCL fertilizer to improve the quality and ...</td>\n",
       "      <td>MOP/KCL Canada Cap Mahkota 50kg</td>\n",
       "    </tr>\n",
       "  </tbody>\n",
       "</table>\n",
       "</div>"
      ],
      "text/plain": [
       "                                farm_id                         sale_order_id  \\\n",
       "0  d4dc9c06-177e-494c-ba72-7e2954ce8ced  3ddca641-cb59-4a27-8698-cb16ff2932f2   \n",
       "1  7eefa7db-26bf-4a8b-b207-f44a52ed0aba  3ddca641-cb59-4a27-8698-cb16ff2932f2   \n",
       "2  e9b32dc3-4e0f-4a69-bb3d-c7f11277f97f  787bc8b7-e679-4772-be5d-af4afac9adf5   \n",
       "3  86a41dec-9936-4c8f-9150-e8b367a4959f  4d47dd32-1618-4376-a846-66bcf065e173   \n",
       "4  61cf5f3f-2a24-4080-bc4f-50af3506479d  e5819416-6b56-4337-9271-dc2c701ac7bd   \n",
       "\n",
       "                             product_id  quantity       price  \\\n",
       "0  80957603-6cec-4f63-8dcd-aba6ded5cbdd     200.0  326000.000   \n",
       "1  b53ce31c-3789-42d7-96a0-5fe058cac7a5     200.0  125000.000   \n",
       "2  5952d124-7dc6-4a6a-baa2-e2e502ecd6fe       1.0  109000.000   \n",
       "3  0bd2430a-6613-442a-9d5a-11d64cb095ae       1.0   65000.000   \n",
       "4  80957603-6cec-4f63-8dcd-aba6ded5cbdd       2.0  588484.375   \n",
       "\n",
       "                                user_id  total_item_price   time_of_sale  \\\n",
       "0  13f5223e-f04a-4fa8-9ef2-cf36060f0d6d        90200000.0  1744078798583   \n",
       "1  13f5223e-f04a-4fa8-9ef2-cf36060f0d6d        90200000.0  1744078798583   \n",
       "2  1e75f22f-b609-4ebc-9536-4a26aef73302          109000.0  1744182202966   \n",
       "3  344963f8-9a3a-4de3-b3a9-c8716fa37c0e           65000.0  1742438712361   \n",
       "4  49ad56f8-8d32-408f-9f88-36cad5310680         1377500.0  1744874598061   \n",
       "\n",
       "               product_sku product_type unit_of_measurement  \\\n",
       "0             101110501601        GOODS                  kg   \n",
       "1             101110502101        GOODS                  kg   \n",
       "2              TUP/PLN/100      DIGITAL                       \n",
       "3  MERCH-SAWITPRO-SHIRT-02        GOODS                  kg   \n",
       "4             101110501601        GOODS                  kg   \n",
       "\n",
       "                      product_name  product_price  \\\n",
       "0  MOP/KCL Canada Cap Mahkota 50kg       712500.0   \n",
       "1          RP Mahkota 50kg - Egypt       352688.0   \n",
       "2                Token PLN 100.000       109000.0   \n",
       "3  Kaos SIBRONDOL SawitPRO size XL       100000.0   \n",
       "4  MOP/KCL Canada Cap Mahkota 50kg       712500.0   \n",
       "\n",
       "                                 product_description  \\\n",
       "0  Pupuk MOP/KCL untuk meningkatkan Kualitas dan ...   \n",
       "1  Rock Phosphate (RP) adalah salah satu sumber f...   \n",
       "2                Topup PLN 100.000 Topup PLN 100.000   \n",
       "3  <p>Kaos tidak berkerah warna Putih bertuliskan...   \n",
       "4  Pupuk MOP/KCL untuk meningkatkan Kualitas dan ...   \n",
       "\n",
       "                              product_description_en  \\\n",
       "0  MOP/KCL fertilizer to improve the quality and ...   \n",
       "1  Rock Phosphate (RP) is one of the best sources...   \n",
       "2                Topup PLN 100,000 Topup PLN 100,000   \n",
       "3  The white collared shirt that reads \"Sibrondol...   \n",
       "4  MOP/KCL fertilizer to improve the quality and ...   \n",
       "\n",
       "                       product_name_en  \n",
       "0      MOP/KCL Canada Cap Mahkota 50kg  \n",
       "1               Rp. 50kg crown - Egypt  \n",
       "2                    Token PLN 100,000  \n",
       "3  T -shirt Sibrondol Sawitpro Size XL  \n",
       "4      MOP/KCL Canada Cap Mahkota 50kg  "
      ]
     },
     "execution_count": 40,
     "metadata": {},
     "output_type": "execute_result"
    }
   ],
   "source": [
    "df_sale.head()"
   ]
  },
  {
   "cell_type": "markdown",
   "id": "d3cf9d10-f944-4079-acf7-ed07b63eb26f",
   "metadata": {},
   "source": [
    "### 2.2.4 Feature Extraction from Product Descriptions"
   ]
  },
  {
   "cell_type": "markdown",
   "id": "e40badea-3adc-4ae0-8623-6d02e2067164",
   "metadata": {},
   "source": [
    "(Done by Nehaa)"
   ]
  },
  {
   "cell_type": "code",
   "execution_count": 41,
   "id": "ffbc1cca-c34f-4f07-87c6-a9047f59b730",
   "metadata": {},
   "outputs": [],
   "source": [
    "from sklearn.feature_extraction.text import TfidfVectorizer, CountVectorizer\n",
    "from sklearn.neighbors import NearestNeighbors\n",
    "from sklearn.cluster import KMeans\n",
    "from sklearn.metrics import adjusted_rand_score"
   ]
  },
  {
   "cell_type": "markdown",
   "id": "3b2996d4-cc3a-4a39-9296-ea60f199c6d3",
   "metadata": {},
   "source": [
    "Item to item based recommendation system based on product description"
   ]
  },
  {
   "cell_type": "code",
   "execution_count": 42,
   "id": "54387332-9ca3-4e0f-80fa-716a7e6b0945",
   "metadata": {},
   "outputs": [
    {
     "data": {
      "text/plain": [
       "<116x691 sparse matrix of type '<class 'numpy.float64'>'\n",
       "\twith 7212 stored elements in Compressed Sparse Row format>"
      ]
     },
     "execution_count": 42,
     "metadata": {},
     "output_type": "execute_result"
    }
   ],
   "source": [
    "# Converting the text in product description into numerical data for analysis\n",
    "vectorizer = TfidfVectorizer(stop_words='english')\n",
    "X1 = vectorizer.fit_transform(df_sale[\"product_description_en\"])\n",
    "X1"
   ]
  },
  {
   "cell_type": "code",
   "execution_count": 43,
   "id": "d6b8c8d7-3007-4a7a-9c1d-fa5b2b8bf521",
   "metadata": {},
   "outputs": [
    {
     "data": {
      "image/png": "[encoded data removed]",
      "text/plain": [
       "<Figure size 640x480 with 1 Axes>"
      ]
     },
     "metadata": {},
     "output_type": "display_data"
    }
   ],
   "source": [
    "# Fitting K-Means to the dataset\n",
    "\n",
    "X=X1\n",
    "\n",
    "kmeans = KMeans(n_clusters = 10, init = 'k-means++')\n",
    "y_kmeans = kmeans.fit_predict(X)\n",
    "plt.plot(y_kmeans, \".\")\n",
    "plt.show()"
   ]
  },
  {
   "cell_type": "code",
   "execution_count": 44,
   "id": "7afe02b0-d7be-407c-9349-72b264a4f0ec",
   "metadata": {},
   "outputs": [],
   "source": [
    "def print_cluster(i):\n",
    "    print(\"Cluster %d:\" % i),\n",
    "    for ind in order_centroids[i, :10]:\n",
    "        print(' %s' % terms[ind]),\n",
    "    print"
   ]
  },
  {
   "cell_type": "code",
   "execution_count": 45,
   "id": "cdcdef94-606b-4b20-9d8c-2a360a8abd49",
   "metadata": {
    "scrolled": true
   },
   "outputs": [
    {
     "name": "stdout",
     "output_type": "stream",
     "text": [
      "Top terms per cluster:\n",
      "Cluster 0:\n",
      " boron\n",
      " small\n",
      " essential\n",
      " plants\n",
      " seeds\n",
      " takes\n",
      " borat\n",
      " borate\n",
      " usually\n",
      " certain\n",
      "Cluster 1:\n",
      " potassium\n",
      " kcl\n",
      " fertilizer\n",
      " plants\n",
      " 60\n",
      " mop\n",
      " k2o\n",
      " require\n",
      " use\n",
      " quality\n",
      "Cluster 2:\n",
      " 50kg\n",
      " nitrea\n",
      " 46\n",
      " urea\n",
      " granules\n",
      " drought\n",
      " effectiveness\n",
      " effectively\n",
      " effective\n",
      " economical\n",
      "Cluster 3:\n",
      " sp\n",
      " organic\n",
      " sawitpro\n",
      " fertilizer\n",
      " nitrogen\n",
      " microorganisms\n",
      " decomposition\n",
      " janjang\n",
      " growth\n",
      " potassium\n",
      "Cluster 4:\n",
      " magnesium\n",
      " 27\n",
      " 13\n",
      " fertilizer\n",
      " oxide\n",
      " boron\n",
      " growth\n",
      " plant\n",
      " sulfate\n",
      " phosphorus\n",
      "Cluster 5:\n",
      " 46\n",
      " urea\n",
      " nitrogen\n",
      " nitrea\n",
      " fertilizer\n",
      " sprinkled\n",
      " forage\n",
      " subsidized\n",
      " functions\n",
      " non\n",
      "Cluster 6:\n",
      " powder\n",
      " processed\n",
      " phosphate\n",
      " stems\n",
      " rp\n",
      " plants\n",
      " phosphorus\n",
      " roots\n",
      " fertilizer\n",
      " improve\n",
      "Cluster 7:\n",
      " weeds\n",
      " solution\n",
      " leaf\n",
      " herbicide\n",
      " sl\n",
      " wide\n",
      " tbm\n",
      " 490\n",
      " narrow\n",
      " systemic\n",
      "Cluster 8:\n",
      " 100\n",
      " 000\n",
      " pln\n",
      " topup\n",
      " dolomite\n",
      " 200\n",
      " soil\n",
      " tsp\n",
      " super\n",
      " sawitpro\n",
      "Cluster 9:\n",
      " sulfur\n",
      " zinc\n",
      " 15\n",
      " number\n",
      " nitrogen\n",
      " plant\n",
      " za\n",
      " increase\n",
      " growth\n",
      " fertilizer\n"
     ]
    }
   ],
   "source": [
    "# # Optimal clusters is \n",
    "\n",
    "true_k = 10\n",
    "\n",
    "model = KMeans(n_clusters=true_k, init='k-means++', max_iter=100, n_init=1)\n",
    "model.fit(X1)\n",
    "\n",
    "print(\"Top terms per cluster:\")\n",
    "order_centroids = model.cluster_centers_.argsort()[:, ::-1]\n",
    "terms = vectorizer.get_feature_names_out()\n",
    "for i in range(true_k):\n",
    "    print_cluster(i)\n"
   ]
  },
  {
   "cell_type": "code",
   "execution_count": 46,
   "id": "ca7e2852-b51f-4f36-ad5b-993433a6d3bd",
   "metadata": {},
   "outputs": [],
   "source": [
    "# Predicting clusters based on key search words\n",
    "def show_recommendations(product):\n",
    "    #print(\"Cluster ID:\")\n",
    "    Y = vectorizer.transform([product])\n",
    "    prediction = model.predict(Y)\n",
    "    #print(prediction)\n",
    "    print_cluster(prediction[0])"
   ]
  },
  {
   "cell_type": "code",
   "execution_count": 47,
   "id": "c153c8ba-e07f-43bf-aaef-469f16e4f264",
   "metadata": {},
   "outputs": [
    {
     "name": "stdout",
     "output_type": "stream",
     "text": [
      "Cluster 8:\n",
      " 100\n",
      " 000\n",
      " pln\n",
      " topup\n",
      " dolomite\n",
      " 200\n",
      " soil\n",
      " tsp\n",
      " super\n",
      " sawitpro\n"
     ]
    }
   ],
   "source": [
    "# keyword: effective\n",
    "show_recommendations(\"effective\")"
   ]
  },
  {
   "cell_type": "markdown",
   "id": "314131ed-18b4-4ed6-b4c5-878843c4dbd4",
   "metadata": {},
   "source": [
    "In case a word appears in multiple clusters, the algorithm chooses the cluster with the highest frequency of occurance of the word."
   ]
  },
  {
   "cell_type": "markdown",
   "id": "594e6fba-2dd1-4a37-a549-00b4aa7133ef",
   "metadata": {},
   "source": [
    "Output\n",
    "\n",
    "- \n",
    "Recommendation of product based on the current product selected by user.- \r\n",
    "To recommend related product based on, Frequently bought together."
   ]
  },
  {
   "cell_type": "markdown",
   "id": "678a4258-9e53-4281-b34d-4cca9e5a670c",
   "metadata": {},
   "source": [
    "# 3. Build a User-Product Interaction Matrix (Recommendation Model)"
   ]
  },
  {
   "cell_type": "markdown",
   "id": "94411279-0ffc-405d-b597-1c2a7a118733",
   "metadata": {},
   "source": [
    "## 3.1 Model 1 (By Arienne)"
   ]
  },
  {
   "cell_type": "markdown",
   "id": "78ec2ef2-e8fd-4c6e-a7a5-ceb286f18de8",
   "metadata": {},
   "source": [
    "### 3.1.1 Building Model 1"
   ]
  },
  {
   "cell_type": "code",
   "execution_count": 48,
   "id": "abe7ddc8-de2c-4fb4-ba7c-6ebfb0f1a3b6",
   "metadata": {},
   "outputs": [],
   "source": [
    "# making the user-product interaction matrix\n",
    "user_product_matrix = df_sale.pivot_table(\n",
    "    index='user_id',\n",
    "    columns='product_id',\n",
    "    values='quantity',   # or 'total_item_price' if you prefer\n",
    "    aggfunc='sum',\n",
    "    fill_value=0\n",
    ")"
   ]
  },
  {
   "cell_type": "code",
   "execution_count": 49,
   "id": "46982716-d5db-4a0f-a98d-d004f217fc9a",
   "metadata": {},
   "outputs": [],
   "source": [
    "# Transpose the matrix to get product-user\n",
    "product_user_matrix = user_product_matrix.T\n",
    "\n",
    "# Compute item-item similarity\n",
    "item_similarity = cosine_similarity(product_user_matrix)\n",
    "\n",
    "# Turn into DataFrame\n",
    "item_similarity_df = pd.DataFrame(item_similarity,\n",
    "                                  index=product_user_matrix.index,\n",
    "                                  columns=product_user_matrix.index)"
   ]
  },
  {
   "cell_type": "markdown",
   "id": "17c0f20d-28ab-41ea-b374-77f4f9debddd",
   "metadata": {},
   "source": [
    "#### 3.1.1.1 Based on products"
   ]
  },
  {
   "cell_type": "code",
   "execution_count": 50,
   "id": "cf2d1b70-1096-4a24-a9e8-b4fc3db8ee61",
   "metadata": {},
   "outputs": [
    {
     "data": {
      "text/plain": [
       "product_id\n",
       "ece9fda2-1006-4cf9-a283-74e10b330512    0.821204\n",
       "1033503b-8faa-4d5c-97c2-50bb19fbb897    0.285172\n",
       "4cac8d01-b78e-4017-9113-c627ac1866a5    0.196691\n",
       "e8898291-543b-439c-907f-bd80075f02a0    0.171112\n",
       "b53ce31c-3789-42d7-96a0-5fe058cac7a5    0.142332\n",
       "a48adaed-ab06-4245-8da6-5d560636a1d9    0.133463\n",
       "369cfbc5-f536-41f5-8a80-267d55dec802    0.002139\n",
       "1af0394e-3aea-42b4-8698-b6832e35f8ce    0.001913\n",
       "ecef7b49-b297-4c53-bf53-628861221da7    0.000512\n",
       "c2b3d62f-6c48-4051-beb1-3ec66d30c1da    0.000117\n",
       "Name: 80957603-6cec-4f63-8dcd-aba6ded5cbdd, dtype: float64"
      ]
     },
     "execution_count": 50,
     "metadata": {},
     "output_type": "execute_result"
    }
   ],
   "source": [
    "def recommend_similar_products1(product_name, top_n=10):\n",
    "    if product_name not in item_similarity_df:\n",
    "        return f\"{product_name} not found in product list.\"\n",
    "    similar_scores = item_similarity_df[product_name].sort_values(ascending=False)\n",
    "    return similar_scores.iloc[1:top_n+1]  # Skip the first one (it's the product itself)\n",
    "\n",
    "# Example usage (key in product_id)\n",
    "recommend_similar_products1('80957603-6cec-4f63-8dcd-aba6ded5cbdd')\n",
    "\n",
    "# What it does:\n",
    "# Takes a product_id and finds the top 5 most similar products based on cosine similarity scores.\n",
    "# It skips the first one (because a product is always 100% similar to itself).\n",
    "# Example use case: “If a user likes Product A, what else might they like?”\n",
    "# If the product has no users in common with others → similarity = 0."
   ]
  },
  {
   "cell_type": "markdown",
   "id": "3ab3cf64-d767-4b43-b0a8-1db6de528ee9",
   "metadata": {},
   "source": [
    "#### 3.1.1.2 Based on user"
   ]
  },
  {
   "cell_type": "code",
   "execution_count": 51,
   "id": "e9b10d90-e810-4239-88b9-1046e1c31be6",
   "metadata": {},
   "outputs": [
    {
     "data": {
      "text/plain": [
       "product_id\n",
       "ece9fda2-1006-4cf9-a283-74e10b330512    0.821204\n",
       "1033503b-8faa-4d5c-97c2-50bb19fbb897    0.285372\n",
       "4cac8d01-b78e-4017-9113-c627ac1866a5    0.196691\n",
       "e8898291-543b-439c-907f-bd80075f02a0    0.171112\n",
       "a48adaed-ab06-4245-8da6-5d560636a1d9    0.136040\n",
       "369cfbc5-f536-41f5-8a80-267d55dec802    0.012119\n",
       "1af0394e-3aea-42b4-8698-b6832e35f8ce    0.010840\n",
       "c2b3d62f-6c48-4051-beb1-3ec66d30c1da    0.000662\n",
       "ecef7b49-b297-4c53-bf53-628861221da7    0.000512\n",
       "6c27fc9c-e7e9-4e9b-9017-292175250df1    0.000032\n",
       "dtype: float64"
      ]
     },
     "execution_count": 51,
     "metadata": {},
     "output_type": "execute_result"
    }
   ],
   "source": [
    "def recommend_for_user1(user_id, top_n=10):\n",
    "    if user_id not in user_product_matrix.index:\n",
    "        return f\"{user_id} not found.\"\n",
    "\n",
    "    user_purchases = user_product_matrix.loc[user_id]\n",
    "    purchased = user_purchases[user_purchases > 0].index.tolist()\n",
    "\n",
    "    scores = pd.Series(dtype='float64')\n",
    "\n",
    "    for product in purchased:\n",
    "        similar_products = item_similarity_df[product].drop(purchased)\n",
    "        scores = scores.add(similar_products, fill_value=0)\n",
    "\n",
    "    return scores.sort_values(ascending=False).head(top_n)\n",
    "\n",
    "# key in user_id\n",
    "recommend_for_user1('13f5223e-f04a-4fa8-9ef2-cf36060f0d6d')\n",
    "\n",
    "# What it does:\n",
    "# Takes a user ID, finds the products they’ve already bought, and then:\n",
    "# Looks up products similar to those they’ve bought.\n",
    "# Combines all the scores of those similar products (ignores products already purchased).\n",
    "# Recommends the top 5 highest scoring ones."
   ]
  },
  {
   "cell_type": "markdown",
   "id": "5a022ae8-38fb-4041-8e52-360866c9fca5",
   "metadata": {},
   "source": [
    "### 3.1.2 Evaluation of Model 1"
   ]
  },
  {
   "cell_type": "markdown",
   "id": "14765791-efb9-49fa-ad47-3433ef27269e",
   "metadata": {},
   "source": [
    "#### 3.2.1 Based on products"
   ]
  },
  {
   "cell_type": "code",
   "execution_count": 52,
   "id": "15e1deef-bb51-4f14-92b3-8402891cb32a",
   "metadata": {},
   "outputs": [],
   "source": [
    "# calculate precision\n",
    "def precision_at_k(user_id, k=10):\n",
    "    actual_purchases = user_product_matrix.loc[user_id][user_product_matrix.loc[user_id] > 0].index.tolist()\n",
    "    recommended_products = []\n",
    "\n",
    "    for product in actual_purchases:\n",
    "        similar = recommend_similar_products1(product, top_n=k)\n",
    "        if isinstance(similar, pd.Series):\n",
    "            recommended_products.extend(similar.index.tolist())\n",
    "\n",
    "    recommended_products = list(set(recommended_products))  # remove duplicates\n",
    "    precision = len(set(recommended_products) & set(actual_purchases)) / k if k > 0 else 0\n",
    "    return precision"
   ]
  },
  {
   "cell_type": "code",
   "execution_count": 53,
   "id": "e96f03b0-7ca2-408b-b644-b2f983fbf0c5",
   "metadata": {},
   "outputs": [],
   "source": [
    "# calculate recall\n",
    "def recall_at_k(user_id, k=10):\n",
    "    actual_purchases = user_product_matrix.loc[user_id][user_product_matrix.loc[user_id] > 0].index.tolist()\n",
    "    recommended_products = []\n",
    "\n",
    "    for product in actual_purchases:\n",
    "        similar = recommend_similar_products1(product, top_n=k)\n",
    "        if isinstance(similar, pd.Series):\n",
    "            recommended_products.extend(similar.index.tolist())\n",
    "\n",
    "    recommended_products = list(set(recommended_products))\n",
    "    if len(actual_purchases) == 0:\n",
    "        return 0\n",
    "    recall = len(set(recommended_products) & set(actual_purchases)) / len(actual_purchases)\n",
    "    return recall"
   ]
  },
  {
   "cell_type": "code",
   "execution_count": 54,
   "id": "cc2e96fe-1168-44dd-9955-bf108ab9e807",
   "metadata": {},
   "outputs": [],
   "source": [
    "# calculate f1\n",
    "def f1_score(user_id, k=10):\n",
    "    precision = precision_at_k(user_id, k)\n",
    "    recall = recall_at_k(user_id, k)\n",
    "    if precision + recall == 0:\n",
    "        return 0\n",
    "    return 2 * (precision * recall) / (precision + recall)"
   ]
  },
  {
   "cell_type": "code",
   "execution_count": 55,
   "id": "39c00d3d-79a3-4eec-883f-fae7d419084a",
   "metadata": {},
   "outputs": [
    {
     "name": "stdout",
     "output_type": "stream",
     "text": [
      "Average Precision: 0.0547945205479452\n",
      "Average Recall: 0.18493150684931506\n",
      "Average F1 Score: 0.08165605546749785\n"
     ]
    }
   ],
   "source": [
    "# Evaluate for all users\n",
    "user_ids = user_product_matrix.index.tolist()\n",
    "precision_scores = [precision_at_k(user_id) for user_id in user_ids]\n",
    "recall_scores = [recall_at_k(user_id) for user_id in user_ids]\n",
    "f1_scores = [f1_score(user_id) for user_id in user_ids]\n",
    "\n",
    "# Averages\n",
    "avg_precision = sum(precision_scores) / len(precision_scores)\n",
    "avg_recall = sum(recall_scores) / len(recall_scores)\n",
    "avg_f1 = sum(f1_scores) / len(f1_scores)\n",
    "\n",
    "print(f\"Average Precision: {avg_precision}\")\n",
    "print(f\"Average Recall: {avg_recall}\")\n",
    "print(f\"Average F1 Score: {avg_f1}\")"
   ]
  },
  {
   "cell_type": "markdown",
   "id": "4fa94082-5804-4605-ae82-b8dfcaebd4cb",
   "metadata": {},
   "source": [
    "#### 3.2.2 Based on user"
   ]
  },
  {
   "cell_type": "code",
   "execution_count": 56,
   "id": "7538fcaf-1894-47d5-966c-58c70c00179a",
   "metadata": {},
   "outputs": [],
   "source": [
    "# calculate precision\n",
    "def precision_at_k(user_id, k=10):\n",
    "    recommended_products = recommend_for_user1(user_id, top_n=k).index.tolist()\n",
    "    actual_purchases = user_product_matrix.loc[user_id][user_product_matrix.loc[user_id] > 0].index.tolist()\n",
    "    # Calculate Precision at K\n",
    "    precision = len(set(recommended_products) & set(actual_purchases)) / k\n",
    "    return precision\n",
    "\n",
    "# What this does\n",
    "# This checks how many of the top k recommended products the user actually purchased.\n",
    "# gives the overlap between recommended and actual products.\n",
    "# We divide by k (total recommended) to get the precision (how accurate our suggestions were)."
   ]
  },
  {
   "cell_type": "code",
   "execution_count": 57,
   "id": "3a287dd1-6858-4d09-9ea5-cf140d13ff9f",
   "metadata": {},
   "outputs": [],
   "source": [
    "# calculate recall\n",
    "def recall_at_k(user_id, k=10):\n",
    "    recommended_products = recommend_for_user1(user_id, top_n=k).index.tolist()\n",
    "    actual_purchases = user_product_matrix.loc[user_id][user_product_matrix.loc[user_id] > 0].index.tolist()\n",
    "    # Calculate Recall at K\n",
    "    recall = len(set(recommended_products) & set(actual_purchases)) / len(actual_purchases)\n",
    "    return recall\n",
    "\n",
    "# What this does\n",
    "# This checks how many of the user's actual purchases were captured in our top k recommendations.\n",
    "# So, we divide the overlap by total purchases made by the user.\n",
    "# Higher recall means we caught more of what they actually wanted."
   ]
  },
  {
   "cell_type": "code",
   "execution_count": 58,
   "id": "e89af1b8-36b7-427a-93c7-9e700a234a53",
   "metadata": {},
   "outputs": [],
   "source": [
    "# calculate f1\n",
    "def f1_score(user_id, k=10):\n",
    "    precision = precision_at_k(user_id, k)\n",
    "    recall = recall_at_k(user_id, k)\n",
    "    if precision + recall == 0:\n",
    "        return 0\n",
    "    return 2 * (precision * recall) / (precision + recall)\n",
    "\n",
    "# What this does\n",
    "# F1 score balances both precision and recall.\n",
    "# It's a single score that tells you: \"Was the model both accurate and complete?\"\n",
    "# If both are high, F1 is high. If either is low, F1 drops."
   ]
  },
  {
   "cell_type": "code",
   "execution_count": 59,
   "id": "82a57fd5-e390-47ee-b111-0a9c84c7bcc0",
   "metadata": {},
   "outputs": [
    {
     "name": "stdout",
     "output_type": "stream",
     "text": [
      "Average Precision: 0.0\n",
      "Average Recall: 0.0\n",
      "Average F1: 0.0\n"
     ]
    }
   ],
   "source": [
    "# Calculate metrics for all users\n",
    "user_ids = user_product_matrix.index.tolist()\n",
    "precision_scores = [precision_at_k(user_id) for user_id in user_ids]\n",
    "recall_scores = [recall_at_k(user_id) for user_id in user_ids]\n",
    "f1_scores = [f1_score(user_id) for user_id in user_ids]\n",
    "\n",
    "# Average Precision, Recall, and F1 score\n",
    "avg_precision = sum(precision_scores) / len(precision_scores)\n",
    "avg_recall = sum(recall_scores) / len(recall_scores)\n",
    "avg_f1 = sum(f1_scores) / len(f1_scores)\n",
    "\n",
    "print(f\"Average Precision: {avg_precision}\")\n",
    "print(f\"Average Recall: {avg_recall}\")\n",
    "print(f\"Average F1: {avg_f1}\")\n",
    "\n",
    "# What this does\n",
    "# This goes through every user, runs the evaluation, and saves the scores.\n",
    "# Then it takes the average — so you get one final performance score for the whole model."
   ]
  },
  {
   "cell_type": "markdown",
   "id": "ecbe89d9-0f8d-4989-be19-12fdfe4c6be7",
   "metadata": {},
   "source": [
    "## 3.2 Model 2"
   ]
  },
  {
   "cell_type": "markdown",
   "id": "e3b81c1b-1e8f-4fc6-a5b5-e9d429cdb3bf",
   "metadata": {},
   "source": [
    "### 3.2.1 Building Model 2 (Hybrid Recommendation System)"
   ]
  },
  {
   "cell_type": "code",
   "execution_count": 60,
   "id": "fb62f7fb-0d48-4fb9-bde1-678f70736723",
   "metadata": {},
   "outputs": [],
   "source": [
    "# using more informative weights\n",
    "user_product_matrix = df_sale.pivot_table(\n",
    "    index='user_id',\n",
    "    columns='product_id',\n",
    "    values='total_item_price',\n",
    "    aggfunc='sum',\n",
    "    fill_value=0\n",
    ")"
   ]
  },
  {
   "cell_type": "code",
   "execution_count": 61,
   "id": "b7430b80-5ac1-4a03-8ec4-39158cca019e",
   "metadata": {},
   "outputs": [],
   "source": [
    "# normalize interaction matrix\n",
    "normalized_matrix = normalize(user_product_matrix)\n",
    "user_product_matrix = pd.DataFrame(normalized_matrix, \n",
    "                                   index=user_product_matrix.index, \n",
    "                                   columns=user_product_matrix.columns)"
   ]
  },
  {
   "cell_type": "code",
   "execution_count": 62,
   "id": "4eba7cc9-c203-406c-9dce-0a00354ab5af",
   "metadata": {},
   "outputs": [],
   "source": [
    "# filter infrequent products\n",
    "product_counts = (user_product_matrix > 0).sum()\n",
    "frequent_products = product_counts[product_counts >= 3].index\n",
    "user_product_matrix = user_product_matrix[frequent_products]"
   ]
  },
  {
   "cell_type": "code",
   "execution_count": 63,
   "id": "6dc98da7-b3c0-491e-8007-226d9661184c",
   "metadata": {},
   "outputs": [],
   "source": [
    "# user based model\n",
    "user_similarity = cosine_similarity(user_product_matrix)\n",
    "user_similarity_df = pd.DataFrame(user_similarity, \n",
    "                                  index=user_product_matrix.index, \n",
    "                                  columns=user_product_matrix.index)"
   ]
  },
  {
   "cell_type": "code",
   "execution_count": 64,
   "id": "23b12dd0-3595-48c4-9643-f0aef5de7ced",
   "metadata": {},
   "outputs": [
    {
     "data": {
      "text/plain": [
       "product_id\n",
       "80957603-6cec-4f63-8dcd-aba6ded5cbdd    1.094491\n",
       "ece9fda2-1006-4cf9-a283-74e10b330512    0.410602\n",
       "1033503b-8faa-4d5c-97c2-50bb19fbb897    0.142686\n",
       "4cac8d01-b78e-4017-9113-c627ac1866a5    0.098346\n",
       "b53ce31c-3789-42d7-96a0-5fe058cac7a5    0.094491\n",
       "dtype: float64"
      ]
     },
     "execution_count": 64,
     "metadata": {},
     "output_type": "execute_result"
    }
   ],
   "source": [
    "# build the hybrid model\n",
    "def hybrid_recommend2(user_id, top_n=5, alpha=0.5):\n",
    "    # Item-based\n",
    "    item_scores = recommend_for_user1(user_id, top_n=top_n * 2)\n",
    "\n",
    "    # User-based (get top similar users)\n",
    "    similar_users = user_similarity_df[user_id].sort_values(ascending=False).iloc[1:6].index\n",
    "    user_based_scores = user_product_matrix.loc[similar_users].sum().drop(item_scores.index, errors='ignore')\n",
    "\n",
    "    # Combine scores\n",
    "    combined = alpha * item_scores.add((1 - alpha) * user_based_scores, fill_value=0)\n",
    "    return combined.sort_values(ascending=False).head(top_n)\n",
    "\n",
    "# key in user_id\n",
    "hybrid_recommend2('13f5223e-f04a-4fa8-9ef2-cf36060f0d6d')"
   ]
  },
  {
   "cell_type": "markdown",
   "id": "09c78467-2c16-4d35-8708-dc9620073e5f",
   "metadata": {},
   "source": [
    "### 3.2.2 Evaluation of Model 2"
   ]
  },
  {
   "cell_type": "code",
   "execution_count": 65,
   "id": "bb073365-5599-4321-b40e-b314e940b3e7",
   "metadata": {},
   "outputs": [],
   "source": [
    "# Evaluation using hybrid model\n",
    "def precision_at_k(user_id, k=5):\n",
    "    recommended_products = hybrid_recommend2(user_id, top_n=k).index.tolist()\n",
    "    actual_purchases = user_product_matrix.loc[user_id][user_product_matrix.loc[user_id] > 0].index.tolist()\n",
    "    precision = len(set(recommended_products) & set(actual_purchases)) / k\n",
    "    return precision\n",
    "\n",
    "def recall_at_k(user_id, k=5):\n",
    "    recommended_products = hybrid_recommend2(user_id, top_n=k).index.tolist()\n",
    "    actual_purchases = user_product_matrix.loc[user_id][user_product_matrix.loc[user_id] > 0].index.tolist()\n",
    "    if len(actual_purchases) == 0:\n",
    "        return 0\n",
    "    recall = len(set(recommended_products) & set(actual_purchases)) / len(actual_purchases)\n",
    "    return recall\n",
    "\n",
    "def f1_score(user_id, k=5):\n",
    "    precision = precision_at_k(user_id, k)\n",
    "    recall = recall_at_k(user_id, k)\n",
    "    if precision + recall == 0:\n",
    "        return 0\n",
    "    return 2 * (precision * recall) / (precision + recall)"
   ]
  },
  {
   "cell_type": "code",
   "execution_count": 66,
   "id": "5f745c3a-6fad-4828-942b-4f67095293b6",
   "metadata": {},
   "outputs": [
    {
     "name": "stdout",
     "output_type": "stream",
     "text": [
      "Average Precision: 0.1616\n",
      "Average Recall: 0.6872\n",
      "Average F1: 0.2543\n"
     ]
    }
   ],
   "source": [
    "# final aggregration\n",
    "user_ids = user_product_matrix.index.tolist()\n",
    "precision_scores = [precision_at_k(user_id) for user_id in user_ids]\n",
    "recall_scores = [recall_at_k(user_id) for user_id in user_ids]\n",
    "f1_scores = [f1_score(user_id) for user_id in user_ids]\n",
    "\n",
    "avg_precision = sum(precision_scores) / len(precision_scores)\n",
    "avg_recall = sum(recall_scores) / len(recall_scores)\n",
    "avg_f1 = sum(f1_scores) / len(f1_scores)\n",
    "\n",
    "print(f\"Average Precision: {avg_precision:.4f}\")\n",
    "print(f\"Average Recall: {avg_recall:.4f}\")\n",
    "print(f\"Average F1: {avg_f1:.4f}\")"
   ]
  },
  {
   "cell_type": "code",
   "execution_count": 67,
   "id": "3f5c15f6-625a-4d7d-9744-b1ee2917b3db",
   "metadata": {},
   "outputs": [
    {
     "name": "stdout",
     "output_type": "stream",
     "text": [
      "Hit Rate@5: 0.7260\n"
     ]
    }
   ],
   "source": [
    "def hit_rate_at_k(user_id, k=5):\n",
    "    recommended_products = hybrid_recommend2(user_id, top_n=k).index.tolist()\n",
    "    actual_purchases = user_product_matrix.loc[user_id][user_product_matrix.loc[user_id] > 0].index.tolist()\n",
    "    \n",
    "    # Check if any of the actual purchases are in the top-k recommendations\n",
    "    hit = int(len(set(recommended_products) & set(actual_purchases)) > 0)\n",
    "    return hit\n",
    "\n",
    "k = 5  # set your top-k value\n",
    "hit_scores = [hit_rate_at_k(user_id, k=k) for user_id in user_ids]\n",
    "avg_hit_rate = sum(hit_scores) / len(hit_scores)\n",
    "print(f\"Hit Rate@{k}: {avg_hit_rate:.4f}\")"
   ]
  },
  {
   "cell_type": "code",
   "execution_count": 68,
   "id": "dadd8180-88b0-49b5-b194-ec1eaa866bea",
   "metadata": {},
   "outputs": [
    {
     "name": "stdout",
     "output_type": "stream",
     "text": [
      "MAP@5: 0.6629\n"
     ]
    }
   ],
   "source": [
    "# calculate mean average precision at k\n",
    "def apk(actual, predicted, k=5):\n",
    "    if not actual:\n",
    "        return 0.0\n",
    "    actual_set = set(actual)\n",
    "    predicted = predicted[:k]\n",
    "    score = 0.0\n",
    "    hits = 0.0\n",
    "    for i, p in enumerate(predicted):\n",
    "        if p in actual_set:\n",
    "            hits += 1.0\n",
    "            score += hits / (i + 1.0)\n",
    "    return score / min(len(actual), k)\n",
    "\n",
    "def mapk(user_id, k=5):\n",
    "    recommended = hybrid_recommend2(user_id, top_n=k).index.tolist()\n",
    "    actual = user_product_matrix.loc[user_id][user_product_matrix.loc[user_id] > 0].index.tolist()\n",
    "    return apk(actual, recommended, k)\n",
    "\n",
    "map_scores = [mapk(user_id) for user_id in user_ids]\n",
    "avg_map = sum(map_scores) / len(map_scores)\n",
    "print(f\"MAP@{k}: {avg_map:.4f}\")"
   ]
  },
  {
   "cell_type": "code",
   "execution_count": 69,
   "id": "ff1b4abc-0f71-4aa0-8fe9-eac4c37dd1c1",
   "metadata": {},
   "outputs": [
    {
     "name": "stdout",
     "output_type": "stream",
     "text": [
      "Catalog Coverage@5: 2.0000\n"
     ]
    }
   ],
   "source": [
    "# calculate coverage\n",
    "def catalog_coverage(k=5):\n",
    "    recommended_items = set()\n",
    "    for user_id in user_ids:\n",
    "        recommended = hybrid_recommend2(user_id, top_n=k).index.tolist()\n",
    "        recommended_items.update(recommended)\n",
    "    return len(recommended_items) / len(user_product_matrix.columns)\n",
    "\n",
    "coverage = catalog_coverage(k=5)\n",
    "print(f\"Catalog Coverage@{k}: {coverage:.4f}\")"
   ]
  },
  {
   "cell_type": "code",
   "execution_count": 70,
   "id": "486a56ff-b34e-4932-950e-e6f33cc78cd3",
   "metadata": {},
   "outputs": [],
   "source": [
    "# # Importing pandas\n",
    "# import pandas as pd\n",
    "\n",
    "# # Save the data used by your recommender\n",
    "# pred_df.to_pickle(\"data/pred_df.pkl\")\n",
    "# user_item_matrix.to_pickle(\"data/user_item_matrix.pkl\")\n",
    "# df_sale.to_csv(\"data/df_sale.csv\", index=False)\n"
   ]
  },
  {
   "cell_type": "markdown",
   "id": "4bc3da88-2970-4e64-a202-6600a32ba88b",
   "metadata": {},
   "source": [
    "## 3.3 Model 3"
   ]
  },
  {
   "cell_type": "markdown",
   "id": "5f52d9e4-2074-4e53-9e64-f230a4401144",
   "metadata": {},
   "source": [
    "### 3.3.1 Building Model 3 (with weighted blending)"
   ]
  },
  {
   "cell_type": "code",
   "execution_count": 71,
   "id": "0dfbc59d-0ff4-4e78-8e0b-cd0698c8a9d1",
   "metadata": {},
   "outputs": [],
   "source": [
    "def hybrid_recommend3(user_id, top_n=5, alpha=0.5):\n",
    "    if user_id not in user_product_matrix.index:\n",
    "        return pd.Series(dtype='float64')\n",
    "    \n",
    "    # Item-based scores\n",
    "    item_scores = recommend_for_user1(user_id, top_n=top_n * 2)\n",
    "\n",
    "    # User-based: get scores from similar users\n",
    "    similar_users = user_similarity_df[user_id].sort_values(ascending=False).iloc[1:6].index\n",
    "    user_based_scores = user_product_matrix.loc[similar_users].sum()\n",
    "\n",
    "    # Combine using weighted blending\n",
    "    combined_scores = alpha * item_scores.add((1 - alpha) * user_based_scores, fill_value=0)\n",
    "\n",
    "    # Remove items the user already purchased\n",
    "    purchased = user_product_matrix.loc[user_id]\n",
    "    purchased_items = purchased[purchased > 0].index\n",
    "    combined_scores = combined_scores.drop(purchased_items, errors='ignore')\n",
    "\n",
    "    return combined_scores.sort_values(ascending=False).head(top_n)"
   ]
  },
  {
   "cell_type": "code",
   "execution_count": 72,
   "id": "6373a642-1794-45de-b8c4-24b9b39fbd33",
   "metadata": {},
   "outputs": [
    {
     "data": {
      "text/plain": [
       "product_id\n",
       "ece9fda2-1006-4cf9-a283-74e10b330512    0.410602\n",
       "a48adaed-ab06-4245-8da6-5d560636a1d9    0.162511\n",
       "1033503b-8faa-4d5c-97c2-50bb19fbb897    0.142686\n",
       "4cac8d01-b78e-4017-9113-c627ac1866a5    0.098346\n",
       "c2b3d62f-6c48-4051-beb1-3ec66d30c1da    0.094822\n",
       "dtype: float64"
      ]
     },
     "execution_count": 72,
     "metadata": {},
     "output_type": "execute_result"
    }
   ],
   "source": [
    "# key in user_id\n",
    "hybrid_recommend3('13f5223e-f04a-4fa8-9ef2-cf36060f0d6d')"
   ]
  },
  {
   "cell_type": "markdown",
   "id": "3ab4cb95-a301-4f32-96c6-ee451a887562",
   "metadata": {},
   "source": [
    "### 3.3.2 Evaluation of Model 3"
   ]
  },
  {
   "cell_type": "code",
   "execution_count": 73,
   "id": "40a07ec9-47e6-454e-a98f-8bb6d8275c9e",
   "metadata": {},
   "outputs": [],
   "source": [
    "# Evaluation using hybrid model\n",
    "def precision_at_k(user_id, k=5):\n",
    "    recommended_products = hybrid_recommend3(user_id, top_n=k).index.tolist()\n",
    "    actual_purchases = user_product_matrix.loc[user_id][user_product_matrix.loc[user_id] > 0].index.tolist()\n",
    "    precision = len(set(recommended_products) & set(actual_purchases)) / k\n",
    "    return precision\n",
    "\n",
    "def recall_at_k(user_id, k=5):\n",
    "    recommended_products = hybrid_recommend3(user_id, top_n=k).index.tolist()\n",
    "    actual_purchases = user_product_matrix.loc[user_id][user_product_matrix.loc[user_id] > 0].index.tolist()\n",
    "    if len(actual_purchases) == 0:\n",
    "        return 0\n",
    "    recall = len(set(recommended_products) & set(actual_purchases)) / len(actual_purchases)\n",
    "    return recall\n",
    "\n",
    "def f1_score(user_id, k=5):\n",
    "    precision = precision_at_k(user_id, k)\n",
    "    recall = recall_at_k(user_id, k)\n",
    "    if precision + recall == 0:\n",
    "        return 0\n",
    "    return 2 * (precision * recall) / (precision + recall)"
   ]
  },
  {
   "cell_type": "code",
   "execution_count": 74,
   "id": "30455a42-2ef5-4f72-9b82-57fc353f88a6",
   "metadata": {},
   "outputs": [
    {
     "name": "stdout",
     "output_type": "stream",
     "text": [
      "Average Precision: 0.0000\n",
      "Average Recall: 0.0000\n",
      "Average F1: 0.0000\n"
     ]
    }
   ],
   "source": [
    "# final aggregration\n",
    "user_ids = user_product_matrix.index.tolist()\n",
    "precision_scores = [precision_at_k(user_id) for user_id in user_ids]\n",
    "recall_scores = [recall_at_k(user_id) for user_id in user_ids]\n",
    "f1_scores = [f1_score(user_id) for user_id in user_ids]\n",
    "\n",
    "avg_precision = sum(precision_scores) / len(precision_scores)\n",
    "avg_recall = sum(recall_scores) / len(recall_scores)\n",
    "avg_f1 = sum(f1_scores) / len(f1_scores)\n",
    "\n",
    "print(f\"Average Precision: {avg_precision:.4f}\")\n",
    "print(f\"Average Recall: {avg_recall:.4f}\")\n",
    "print(f\"Average F1: {avg_f1:.4f}\")"
   ]
  },
  {
   "cell_type": "code",
   "execution_count": 75,
   "id": "51f0c6f0-1e3a-46a7-997a-c5fc23ab5fe3",
   "metadata": {},
   "outputs": [
    {
     "name": "stdout",
     "output_type": "stream",
     "text": [
      "Hit Rate@5: 0.0000\n"
     ]
    }
   ],
   "source": [
    "def hit_rate_at_k(user_id, k=5):\n",
    "    recommended_products = hybrid_recommend3(user_id, top_n=k).index.tolist()\n",
    "    actual_purchases = user_product_matrix.loc[user_id][user_product_matrix.loc[user_id] > 0].index.tolist()\n",
    "    \n",
    "    # Check if any of the actual purchases are in the top-k recommendations\n",
    "    hit = int(len(set(recommended_products) & set(actual_purchases)) > 0)\n",
    "    return hit\n",
    "\n",
    "k = 5  # set your top-k value\n",
    "hit_scores = [hit_rate_at_k(user_id, k=k) for user_id in user_ids]\n",
    "avg_hit_rate = sum(hit_scores) / len(hit_scores)\n",
    "print(f\"Hit Rate@{k}: {avg_hit_rate:.4f}\")"
   ]
  },
  {
   "cell_type": "code",
   "execution_count": 76,
   "id": "5c39d569-1ddd-4943-85cd-6e1ca1a08f2e",
   "metadata": {},
   "outputs": [
    {
     "name": "stdout",
     "output_type": "stream",
     "text": [
      "MAP@5: 0.0000\n"
     ]
    }
   ],
   "source": [
    "# calculate mean average precision at k\n",
    "def apk(actual, predicted, k=5):\n",
    "    if not actual:\n",
    "        return 0.0\n",
    "    actual_set = set(actual)\n",
    "    predicted = predicted[:k]\n",
    "    score = 0.0\n",
    "    hits = 0.0\n",
    "    for i, p in enumerate(predicted):\n",
    "        if p in actual_set:\n",
    "            hits += 1.0\n",
    "            score += hits / (i + 1.0)\n",
    "    return score / min(len(actual), k)\n",
    "\n",
    "def mapk(user_id, k=5):\n",
    "    recommended = hybrid_recommend3(user_id, top_n=k).index.tolist()\n",
    "    actual = user_product_matrix.loc[user_id][user_product_matrix.loc[user_id] > 0].index.tolist()\n",
    "    return apk(actual, recommended, k)\n",
    "\n",
    "map_scores = [mapk(user_id) for user_id in user_ids]\n",
    "avg_map = sum(map_scores) / len(map_scores)\n",
    "print(f\"MAP@{k}: {avg_map:.4f}\")"
   ]
  },
  {
   "cell_type": "code",
   "execution_count": 77,
   "id": "ea94c1a0-17e5-4488-88c4-bd314dc916d3",
   "metadata": {},
   "outputs": [
    {
     "name": "stdout",
     "output_type": "stream",
     "text": [
      "Catalog Coverage@5: 1.8333\n"
     ]
    }
   ],
   "source": [
    "# calculate coverage\n",
    "def catalog_coverage(k=5):\n",
    "    recommended_items = set()\n",
    "    for user_id in user_ids:\n",
    "        recommended = hybrid_recommend3(user_id, top_n=k).index.tolist()\n",
    "        recommended_items.update(recommended)\n",
    "    return len(recommended_items) / len(user_product_matrix.columns)\n",
    "\n",
    "coverage = catalog_coverage(k=5)\n",
    "print(f\"Catalog Coverage@{k}: {coverage:.4f}\")"
   ]
  },
  {
   "cell_type": "markdown",
   "id": "18926ae7-f0e9-4ea5-885c-102f6e391150",
   "metadata": {},
   "source": [
    "## 3.4 Model 4"
   ]
  },
  {
   "cell_type": "markdown",
   "id": "5b20417e-3480-4e98-836f-bd5a32e6c084",
   "metadata": {},
   "source": [
    "### 3.4.1 Build Model 4 (normalise scores before blending)"
   ]
  },
  {
   "cell_type": "code",
   "execution_count": 78,
   "id": "69dd505b-7146-4fe9-b46b-309b2e804b74",
   "metadata": {},
   "outputs": [],
   "source": [
    "def hybrid_recommend4(user_id, top_n=5, alpha=0.5):\n",
    "    if user_id not in user_product_matrix.index:\n",
    "        return f\"{user_id} not found.\"\n",
    "    collab_scores = recommend_for_user1(user_id, top_n=top_n * 2)\n",
    "    similar_users = user_similarity_df[user_id].sort_values(ascending=False).iloc[1:6].index\n",
    "    user_based_scores = user_product_matrix.loc[similar_users].sum().drop(collab_scores.index, errors='ignore')\n",
    "    combined_df = pd.concat([collab_scores, user_based_scores], axis=1).fillna(0)\n",
    "    combined_df.columns = ['collab', 'user']\n",
    "    scaler = MinMaxScaler()\n",
    "    combined_df[['collab', 'user']] = scaler.fit_transform(combined_df[['collab', 'user']])\n",
    "    combined_df['score'] = alpha * combined_df['collab'] + (1 - alpha) * combined_df['user']\n",
    "    return combined_df['score'].sort_values(ascending=False).head(top_n)"
   ]
  },
  {
   "cell_type": "code",
   "execution_count": 79,
   "id": "0aa124ae-007b-464a-b8e8-3483e75aa2c0",
   "metadata": {},
   "outputs": [
    {
     "data": {
      "text/plain": [
       "product_id\n",
       "ece9fda2-1006-4cf9-a283-74e10b330512    0.500000\n",
       "80957603-6cec-4f63-8dcd-aba6ded5cbdd    0.500000\n",
       "1033503b-8faa-4d5c-97c2-50bb19fbb897    0.173752\n",
       "4cac8d01-b78e-4017-9113-c627ac1866a5    0.119758\n",
       "e8898291-543b-439c-907f-bd80075f02a0    0.104183\n",
       "Name: score, dtype: float64"
      ]
     },
     "execution_count": 79,
     "metadata": {},
     "output_type": "execute_result"
    }
   ],
   "source": [
    "# key in user_id\n",
    "hybrid_recommend4('13f5223e-f04a-4fa8-9ef2-cf36060f0d6d')"
   ]
  },
  {
   "cell_type": "markdown",
   "id": "c96b5e0a-cd1b-4459-a50a-70b5a364f84d",
   "metadata": {},
   "source": [
    "### 3.4.2 Evaluation of Model 4"
   ]
  },
  {
   "cell_type": "code",
   "execution_count": 80,
   "id": "30c476db-77d2-4531-8f30-4bead382864d",
   "metadata": {},
   "outputs": [],
   "source": [
    "# Evaluation using hybrid model\n",
    "def precision_at_k(user_id, k=5):\n",
    "    recommended_products = hybrid_recommend4(user_id, top_n=k).index.tolist()\n",
    "    actual_purchases = user_product_matrix.loc[user_id][user_product_matrix.loc[user_id] > 0].index.tolist()\n",
    "    precision = len(set(recommended_products) & set(actual_purchases)) / k\n",
    "    return precision\n",
    "\n",
    "def recall_at_k(user_id, k=5):\n",
    "    recommended_products = hybrid_recommend4(user_id, top_n=k).index.tolist()\n",
    "    actual_purchases = user_product_matrix.loc[user_id][user_product_matrix.loc[user_id] > 0].index.tolist()\n",
    "    if len(actual_purchases) == 0:\n",
    "        return 0\n",
    "    recall = len(set(recommended_products) & set(actual_purchases)) / len(actual_purchases)\n",
    "    return recall\n",
    "\n",
    "def f1_score(user_id, k=5):\n",
    "    precision = precision_at_k(user_id, k)\n",
    "    recall = recall_at_k(user_id, k)\n",
    "    if precision + recall == 0:\n",
    "        return 0\n",
    "    return 2 * (precision * recall) / (precision + recall)"
   ]
  },
  {
   "cell_type": "code",
   "execution_count": 81,
   "id": "92580ab1-5181-4398-8958-4659ce3f0987",
   "metadata": {},
   "outputs": [
    {
     "name": "stdout",
     "output_type": "stream",
     "text": [
      "Average Precision: 0.1479\n",
      "Average Recall: 0.6644\n",
      "Average F1: 0.2375\n"
     ]
    }
   ],
   "source": [
    "# final aggregration\n",
    "user_ids = user_product_matrix.index.tolist()\n",
    "precision_scores = [precision_at_k(user_id) for user_id in user_ids]\n",
    "recall_scores = [recall_at_k(user_id) for user_id in user_ids]\n",
    "f1_scores = [f1_score(user_id) for user_id in user_ids]\n",
    "\n",
    "avg_precision = sum(precision_scores) / len(precision_scores)\n",
    "avg_recall = sum(recall_scores) / len(recall_scores)\n",
    "avg_f1 = sum(f1_scores) / len(f1_scores)\n",
    "\n",
    "print(f\"Average Precision: {avg_precision:.4f}\")\n",
    "print(f\"Average Recall: {avg_recall:.4f}\")\n",
    "print(f\"Average F1: {avg_f1:.4f}\")"
   ]
  },
  {
   "cell_type": "code",
   "execution_count": 82,
   "id": "4c594d23-4d6f-469f-9c73-1bcc8b52d385",
   "metadata": {},
   "outputs": [
    {
     "name": "stdout",
     "output_type": "stream",
     "text": [
      "Hit Rate@5: 0.7260\n"
     ]
    }
   ],
   "source": [
    "def hit_rate_at_k(user_id, k=5):\n",
    "    recommended_products = hybrid_recommend4(user_id, top_n=k).index.tolist()\n",
    "    actual_purchases = user_product_matrix.loc[user_id][user_product_matrix.loc[user_id] > 0].index.tolist()\n",
    "    \n",
    "    # Check if any of the actual purchases are in the top-k recommendations\n",
    "    hit = int(len(set(recommended_products) & set(actual_purchases)) > 0)\n",
    "    return hit\n",
    "\n",
    "k = 5  # set your top-k value\n",
    "hit_scores = [hit_rate_at_k(user_id, k=k) for user_id in user_ids]\n",
    "avg_hit_rate = sum(hit_scores) / len(hit_scores)\n",
    "print(f\"Hit Rate@{k}: {avg_hit_rate:.4f}\")"
   ]
  },
  {
   "cell_type": "code",
   "execution_count": 83,
   "id": "27647f38-6b86-4c0c-8509-14edc29965e0",
   "metadata": {},
   "outputs": [
    {
     "name": "stdout",
     "output_type": "stream",
     "text": [
      "MAP@5: 0.3733\n"
     ]
    }
   ],
   "source": [
    "# calculate mean average precision at k\n",
    "def apk(actual, predicted, k=5):\n",
    "    if not actual:\n",
    "        return 0.0\n",
    "    actual_set = set(actual)\n",
    "    predicted = predicted[:k]\n",
    "    score = 0.0\n",
    "    hits = 0.0\n",
    "    for i, p in enumerate(predicted):\n",
    "        if p in actual_set:\n",
    "            hits += 1.0\n",
    "            score += hits / (i + 1.0)\n",
    "    return score / min(len(actual), k)\n",
    "\n",
    "def mapk(user_id, k=5):\n",
    "    recommended = hybrid_recommend4(user_id, top_n=k).index.tolist()\n",
    "    actual = user_product_matrix.loc[user_id][user_product_matrix.loc[user_id] > 0].index.tolist()\n",
    "    return apk(actual, recommended, k)\n",
    "\n",
    "map_scores = [mapk(user_id) for user_id in user_ids]\n",
    "avg_map = sum(map_scores) / len(map_scores)\n",
    "print(f\"MAP@{k}: {avg_map:.4f}\")"
   ]
  },
  {
   "cell_type": "code",
   "execution_count": 84,
   "id": "fb3b2381-719f-4d29-89db-b8f91aef41ce",
   "metadata": {},
   "outputs": [
    {
     "name": "stdout",
     "output_type": "stream",
     "text": [
      "Catalog Coverage@5: 2.0833\n"
     ]
    }
   ],
   "source": [
    "# calculate coverage\n",
    "def catalog_coverage(k=5):\n",
    "    recommended_items = set()\n",
    "    for user_id in user_ids:\n",
    "        recommended = hybrid_recommend4(user_id, top_n=k).index.tolist()\n",
    "        recommended_items.update(recommended)\n",
    "    return len(recommended_items) / len(user_product_matrix.columns)\n",
    "\n",
    "coverage = catalog_coverage(k=5)\n",
    "print(f\"Catalog Coverage@{k}: {coverage:.4f}\")"
   ]
  },
  {
   "cell_type": "markdown",
   "id": "64440d01-51c4-4572-8abc-411dfe1edc53",
   "metadata": {},
   "source": [
    "## 3.5 Model 5"
   ]
  },
  {
   "cell_type": "markdown",
   "id": "5c92b3da-cb09-4e50-afd3-7f4925e99548",
   "metadata": {},
   "source": [
    "### 3.5.1 Building Model 5 (adjusting alpha weight)"
   ]
  },
  {
   "cell_type": "code",
   "execution_count": 85,
   "id": "12bca48c-fc4e-4586-9d71-c833dc280168",
   "metadata": {},
   "outputs": [],
   "source": [
    "def hybrid_recommend5(user_id, top_n=5, alpha=0.8):\n",
    "    if user_id not in user_product_matrix.index:\n",
    "        return pd.Series(dtype='float64')\n",
    "    \n",
    "    # Item-based scores\n",
    "    item_scores = recommend_for_user1(user_id, top_n=top_n * 2)  # More candidates\n",
    "\n",
    "    # User-based scores\n",
    "    similar_users = user_similarity_df[user_id].sort_values(ascending=False).iloc[1:6].index\n",
    "    user_based_scores = user_product_matrix.loc[similar_users].sum().drop(item_scores.index, errors='ignore')\n",
    "\n",
    "    # Weighted blend (no normalization)\n",
    "    combined_scores = alpha * item_scores.add((1 - alpha) * user_based_scores, fill_value=0)\n",
    "\n",
    "    return combined_scores.sort_values(ascending=False).head(top_n)"
   ]
  },
  {
   "cell_type": "code",
   "execution_count": 86,
   "id": "81d85a14-6b61-4e6f-9e6b-a1f3e7aab6ee",
   "metadata": {},
   "outputs": [
    {
     "data": {
      "text/plain": [
       "product_id\n",
       "80957603-6cec-4f63-8dcd-aba6ded5cbdd    0.700474\n",
       "ece9fda2-1006-4cf9-a283-74e10b330512    0.656963\n",
       "1033503b-8faa-4d5c-97c2-50bb19fbb897    0.228297\n",
       "4cac8d01-b78e-4017-9113-c627ac1866a5    0.157353\n",
       "e8898291-543b-439c-907f-bd80075f02a0    0.136889\n",
       "dtype: float64"
      ]
     },
     "execution_count": 86,
     "metadata": {},
     "output_type": "execute_result"
    }
   ],
   "source": [
    "# key in user_id\n",
    "hybrid_recommend5('13f5223e-f04a-4fa8-9ef2-cf36060f0d6d')"
   ]
  },
  {
   "cell_type": "markdown",
   "id": "9236b610-394c-457a-87f5-241ce9a0be94",
   "metadata": {},
   "source": [
    "### 3.5.2 Evaluation of Model 5"
   ]
  },
  {
   "cell_type": "code",
   "execution_count": 87,
   "id": "9dd6c106-2e6b-4550-94a9-0b0f444028b7",
   "metadata": {},
   "outputs": [],
   "source": [
    "# Evaluation using hybrid model\n",
    "def precision_at_k(user_id, k=5):\n",
    "    recommended_products = hybrid_recommend5(user_id, top_n=k).index.tolist()\n",
    "    actual_purchases = user_product_matrix.loc[user_id][user_product_matrix.loc[user_id] > 0].index.tolist()\n",
    "    precision = len(set(recommended_products) & set(actual_purchases)) / k\n",
    "    return precision\n",
    "\n",
    "def recall_at_k(user_id, k=5):\n",
    "    recommended_products = hybrid_recommend5(user_id, top_n=k).index.tolist()\n",
    "    actual_purchases = user_product_matrix.loc[user_id][user_product_matrix.loc[user_id] > 0].index.tolist()\n",
    "    if len(actual_purchases) == 0:\n",
    "        return 0\n",
    "    recall = len(set(recommended_products) & set(actual_purchases)) / len(actual_purchases)\n",
    "    return recall\n",
    "\n",
    "def f1_score(user_id, k=5):\n",
    "    precision = precision_at_k(user_id, k)\n",
    "    recall = recall_at_k(user_id, k)\n",
    "    if precision + recall == 0:\n",
    "        return 0\n",
    "    return 2 * (precision * recall) / (precision + recall)"
   ]
  },
  {
   "cell_type": "code",
   "execution_count": 88,
   "id": "303c6334-6511-44ad-9ae8-299d60f38f69",
   "metadata": {},
   "outputs": [
    {
     "name": "stdout",
     "output_type": "stream",
     "text": [
      "Average Precision: 0.1452\n",
      "Average Recall: 0.6507\n",
      "Average F1: 0.2329\n"
     ]
    }
   ],
   "source": [
    "# final aggregration\n",
    "user_ids = user_product_matrix.index.tolist()\n",
    "precision_scores = [precision_at_k(user_id) for user_id in user_ids]\n",
    "recall_scores = [recall_at_k(user_id) for user_id in user_ids]\n",
    "f1_scores = [f1_score(user_id) for user_id in user_ids]\n",
    "\n",
    "avg_precision = sum(precision_scores) / len(precision_scores)\n",
    "avg_recall = sum(recall_scores) / len(recall_scores)\n",
    "avg_f1 = sum(f1_scores) / len(f1_scores)\n",
    "\n",
    "print(f\"Average Precision: {avg_precision:.4f}\")\n",
    "print(f\"Average Recall: {avg_recall:.4f}\")\n",
    "print(f\"Average F1: {avg_f1:.4f}\")"
   ]
  },
  {
   "cell_type": "code",
   "execution_count": 89,
   "id": "b94371fc-55d2-4b2f-987a-7e1cad9099e2",
   "metadata": {},
   "outputs": [
    {
     "name": "stdout",
     "output_type": "stream",
     "text": [
      "Hit Rate@5: 0.7123\n"
     ]
    }
   ],
   "source": [
    "def hit_rate_at_k(user_id, k=5):\n",
    "    recommended_products = hybrid_recommend5(user_id, top_n=k).index.tolist()\n",
    "    actual_purchases = user_product_matrix.loc[user_id][user_product_matrix.loc[user_id] > 0].index.tolist()\n",
    "    \n",
    "    # Check if any of the actual purchases are in the top-k recommendations\n",
    "    hit = int(len(set(recommended_products) & set(actual_purchases)) > 0)\n",
    "    return hit\n",
    "\n",
    "k = 5  # set your top-k value\n",
    "hit_scores = [hit_rate_at_k(user_id, k=k) for user_id in user_ids]\n",
    "avg_hit_rate = sum(hit_scores) / len(hit_scores)\n",
    "print(f\"Hit Rate@{k}: {avg_hit_rate:.4f}\")"
   ]
  },
  {
   "cell_type": "code",
   "execution_count": 90,
   "id": "0b8cb9d1-9d92-46cb-814e-ef9cdc7a430e",
   "metadata": {},
   "outputs": [
    {
     "name": "stdout",
     "output_type": "stream",
     "text": [
      "MAP@5: 0.6358\n"
     ]
    }
   ],
   "source": [
    "# calculate mean average precision at k\n",
    "def apk(actual, predicted, k=5):\n",
    "    if not actual:\n",
    "        return 0.0\n",
    "    actual_set = set(actual)\n",
    "    predicted = predicted[:k]\n",
    "    score = 0.0\n",
    "    hits = 0.0\n",
    "    for i, p in enumerate(predicted):\n",
    "        if p in actual_set:\n",
    "            hits += 1.0\n",
    "            score += hits / (i + 1.0)\n",
    "    return score / min(len(actual), k)\n",
    "\n",
    "def mapk(user_id, k=5):\n",
    "    recommended = hybrid_recommend5(user_id, top_n=k).index.tolist()\n",
    "    actual = user_product_matrix.loc[user_id][user_product_matrix.loc[user_id] > 0].index.tolist()\n",
    "    return apk(actual, recommended, k)\n",
    "\n",
    "map_scores = [mapk(user_id) for user_id in user_ids]\n",
    "avg_map = sum(map_scores) / len(map_scores)\n",
    "print(f\"MAP@{k}: {avg_map:.4f}\")"
   ]
  },
  {
   "cell_type": "code",
   "execution_count": 91,
   "id": "9459e482-f72a-4c60-802b-9d0543d56a3e",
   "metadata": {},
   "outputs": [
    {
     "name": "stdout",
     "output_type": "stream",
     "text": [
      "Catalog Coverage@5: 2.0000\n"
     ]
    }
   ],
   "source": [
    "# calculate coverage\n",
    "def catalog_coverage(k=5):\n",
    "    recommended_items = set()\n",
    "    for user_id in user_ids:\n",
    "        recommended = hybrid_recommend5(user_id, top_n=k).index.tolist()\n",
    "        recommended_items.update(recommended)\n",
    "    return len(recommended_items) / len(user_product_matrix.columns)\n",
    "\n",
    "coverage = catalog_coverage(k=5)\n",
    "print(f\"Catalog Coverage@{k}: {coverage:.4f}\")"
   ]
  },
  {
   "cell_type": "markdown",
   "id": "e7c0d4dd-aad4-4294-bc53-1952a48d34a6",
   "metadata": {},
   "source": [
    "## 3.6 Model 6 - 2 Separate Models (Nehaa)"
   ]
  },
  {
   "cell_type": "markdown",
   "id": "244f24a8-f44e-4c7c-be1e-2de70926a270",
   "metadata": {},
   "source": [
    "### 3.6.1 Model 1: Personalized User Recommendations"
   ]
  },
  {
   "cell_type": "markdown",
   "id": "f7336bff-7c86-4f09-90b7-8050b19f7270",
   "metadata": {},
   "source": [
    "#### 3.6.1.1 Model 1 Development"
   ]
  },
  {
   "cell_type": "code",
   "execution_count": 92,
   "id": "3c5214cf-adc3-4f4b-bc53-5af3a71e8989",
   "metadata": {},
   "outputs": [],
   "source": [
    "# !pip install implicit\n"
   ]
  },
  {
   "cell_type": "code",
   "execution_count": 93,
   "id": "f0c31776-0751-40de-b6b1-d1f3c094c03e",
   "metadata": {},
   "outputs": [],
   "source": [
    "# Step 1: Prepare user-item matrix\n",
    "import pandas as pd\n",
    "from scipy.sparse import coo_matrix\n",
    "from implicit.als import AlternatingLeastSquares\n",
    "from scipy.sparse import csr_matrix"
   ]
  },
  {
   "cell_type": "code",
   "execution_count": 94,
   "id": "94741e68-d0e7-4b9f-b110-5ee55afc899d",
   "metadata": {},
   "outputs": [],
   "source": [
    "\n",
    "# Step 1: Create user and product ID mappings\n",
    "user_ids = df_sale['user_id'].unique()\n",
    "product_ids = df_sale['product_id'].unique()\n",
    "\n",
    "user_map = {user_id: idx for idx, user_id in enumerate(user_ids)}\n",
    "product_map = {prod_id: idx for idx, prod_id in enumerate(product_ids)}\n",
    "product_reverse_map = {idx: prod_id for prod_id, idx in product_map.items()}"
   ]
  },
  {
   "cell_type": "code",
   "execution_count": 95,
   "id": "790cd8ca-f442-4745-b1b7-bade9903295d",
   "metadata": {},
   "outputs": [],
   "source": [
    "# Step 2: Build implicit interaction matrix with 1s (no counts available)\n",
    "rows = df_sale['product_id'].map(product_map).values\n",
    "cols = df_sale['user_id'].map(user_map).values\n",
    "data = np.ones(len(df_sale), dtype=np.float32)  # set all interactions to 1\n",
    "\n",
    "# Shape: (num_items, num_users)\n",
    "ratings = coo_matrix((data, (rows, cols)), shape=(len(product_ids), len(user_ids)))"
   ]
  },
  {
   "cell_type": "code",
   "execution_count": 96,
   "id": "a1e801f4-ed18-4be4-b19e-bbaf42f3d07c",
   "metadata": {},
   "outputs": [],
   "source": [
    "# pip install ipywidgets==8.1.1\n"
   ]
  },
  {
   "cell_type": "code",
   "execution_count": 143,
   "id": "a4caccb7-7a80-4c18-8f37-78ba4870a2ca",
   "metadata": {},
   "outputs": [
    {
     "name": "stderr",
     "output_type": "stream",
     "text": [
      "C:\\Users\\nehaa\\New folder\\Lib\\site-packages\\implicit\\utils.py:164: ParameterWarning: Method expects CSR input, and was passed coo_matrix instead. Converting to CSR took 0.0013310909271240234 seconds\n",
      "  warnings.warn(\n"
     ]
    },
    {
     "data": {
      "application/vnd.jupyter.widget-view+json": {
       "model_id": "27e79fae94324433be9624730979676b",
       "version_major": 2,
       "version_minor": 0
      },
      "text/plain": [
       "  0%|          | 0/15 [00:00<?, ?it/s]"
      ]
     },
     "metadata": {},
     "output_type": "display_data"
    }
   ],
   "source": [
    "# Step 3: Train the ALS model\n",
    "model = AlternatingLeastSquares(factors=20, regularization=0.1, iterations=15)\n",
    "model.fit(ratings.T)  # transpose here\n",
    "\n"
   ]
  },
  {
   "cell_type": "code",
   "execution_count": 144,
   "id": "d7e83534-8b39-4cef-9680-a7bb37e69754",
   "metadata": {},
   "outputs": [],
   "source": [
    "# Step 4: Recommendation function\n",
    "from scipy.sparse import csr_matrix"
   ]
  },
  {
   "cell_type": "code",
   "execution_count": 145,
   "id": "52c47889-220c-460b-8e4e-55112385ef9f",
   "metadata": {},
   "outputs": [],
   "source": [
    "def recommend_products_for_user(user_id, model, user_map, product_reverse_map, ratings, N=5):\n",
    "    if user_id not in user_map:\n",
    "        raise ValueError(f\"User {user_id} not found in user_map\")\n",
    "\n",
    "    user_idx = user_map[user_id]\n",
    "\n",
    "    user_items = ratings.T.tocsr()\n",
    "    user_interactions = user_items[user_idx]\n",
    "\n",
    "    recommended = model.recommend(user_idx, user_interactions, N=N, filter_already_liked_items=True)\n",
    "\n",
    "    return [(product_reverse_map[int(item[0])], float(item[1])) for item in recommended]\n"
   ]
  },
  {
   "cell_type": "code",
   "execution_count": 146,
   "id": "f77c6cae-5742-47ab-9492-c2890da58b68",
   "metadata": {},
   "outputs": [
    {
     "name": "stdout",
     "output_type": "stream",
     "text": [
      "Top 2 recommendations for user 13f5223e-f04a-4fa8-9ef2-cf36060f0d6d:\n",
      "Product: 369cfbc5-f536-41f5-8a80-267d55dec802, Score: 12.0000\n",
      "Product: 80957603-6cec-4f63-8dcd-aba6ded5cbdd, Score: 0.0174\n"
     ]
    }
   ],
   "source": [
    "# Step 5: Example usage\n",
    "example_user_id = df_sale['user_id'].iloc[0]\n",
    "\n",
    "recommendations = recommend_products_for_user(\n",
    "    example_user_id, model, user_map, product_reverse_map, ratings, N=5\n",
    ")\n",
    "\n",
    "print(f\"Top {len(recommendations)} recommendations for user {example_user_id}:\")\n",
    "for product_id, score in recommendations:\n",
    "    print(f\"Product: {product_id}, Score: {score:.4f}\")\n"
   ]
  },
  {
   "cell_type": "markdown",
   "id": "60987836-7b24-4488-8c7a-147959ff2c51",
   "metadata": {},
   "source": [
    "#### 3.6.1.2 Model 1 Evaluation"
   ]
  },
  {
   "cell_type": "code",
   "execution_count": 147,
   "id": "7c6885ed-3a4c-4f88-951d-1b52ead20e24",
   "metadata": {},
   "outputs": [],
   "source": [
    "import pandas as pd\n",
    "from sklearn.model_selection import train_test_split\n",
    "from sklearn.preprocessing import LabelEncoder\n",
    "from sklearn.linear_model import LinearRegression\n",
    "from sklearn.metrics import mean_squared_error, r2_score"
   ]
  },
  {
   "cell_type": "code",
   "execution_count": 148,
   "id": "09381ab5-72b9-4bdd-ad6e-13f5393ae104",
   "metadata": {},
   "outputs": [],
   "source": [
    "# Step 1: Prepare dataset with interaction=1 for observed pairs\n",
    "positive_samples = df_sale[['user_id', 'product_id']].copy()\n",
    "positive_samples['interaction'] = 1"
   ]
  },
  {
   "cell_type": "code",
   "execution_count": 149,
   "id": "12e42058-6605-4daa-ba87-61ce0208e6d1",
   "metadata": {},
   "outputs": [],
   "source": [
    "# Step 2: Generate negative samples (interaction=0)\n",
    "users = df_sale['user_id'].unique()\n",
    "products = df_sale['product_id'].unique()\n",
    "\n",
    "import random\n",
    "\n",
    "negative_samples = []\n",
    "for user in users:\n",
    "    user_products = set(df_sale[df_sale['user_id'] == user]['product_id'])\n",
    "    non_interacted_products = list(set(products) - user_products)\n",
    "    \n",
    "    # Sample negatives equal to positives to balance\n",
    "    sampled_negatives = random.sample(non_interacted_products, min(len(user_products), len(non_interacted_products)))\n",
    "    for prod in sampled_negatives:\n",
    "        negative_samples.append({'user_id': user, 'product_id': prod, 'interaction': 0})\n",
    "\n",
    "negative_samples = pd.DataFrame(negative_samples)"
   ]
  },
  {
   "cell_type": "code",
   "execution_count": 150,
   "id": "73c156b6-a791-4b3e-8915-fb56f9dc877b",
   "metadata": {},
   "outputs": [],
   "source": [
    "# Step 3: Combine positive and negative samples\n",
    "data = pd.concat([positive_samples, negative_samples]).reset_index(drop=True)"
   ]
  },
  {
   "cell_type": "code",
   "execution_count": 151,
   "id": "1cca6673-f80f-4d6c-8af9-02ecd945dc83",
   "metadata": {},
   "outputs": [],
   "source": [
    "# Step 4: Encode user_id and product_id as numeric features\n",
    "user_encoder = LabelEncoder()\n",
    "product_encoder = LabelEncoder()\n",
    "\n",
    "data['user_enc'] = user_encoder.fit_transform(data['user_id'])\n",
    "data['product_enc'] = product_encoder.fit_transform(data['product_id'])"
   ]
  },
  {
   "cell_type": "code",
   "execution_count": 152,
   "id": "81d45ee3-28da-4ea7-b7d2-57fffdb22366",
   "metadata": {},
   "outputs": [],
   "source": [
    "# Step 5: Split features and target\n",
    "X = data[['user_enc', 'product_enc']]\n",
    "y = data['interaction']"
   ]
  },
  {
   "cell_type": "code",
   "execution_count": 153,
   "id": "42c21570-68c6-46e5-92a6-01a9ced5eb4e",
   "metadata": {},
   "outputs": [],
   "source": [
    "# Step 6: Split train and test sets\n",
    "X_train, X_test, y_train, y_test = train_test_split(X, y, test_size=0.2, random_state=42)"
   ]
  },
  {
   "cell_type": "code",
   "execution_count": 154,
   "id": "f8958acf-8bba-4fae-a12e-f2432db940ae",
   "metadata": {},
   "outputs": [
    {
     "data": {
      "text/html": [
       "<style>#sk-container-id-3 {\n",
       "  /* Definition of color scheme common for light and dark mode */\n",
       "  --sklearn-color-text: black;\n",
       "  --sklearn-color-line: gray;\n",
       "  /* Definition of color scheme for unfitted estimators */\n",
       "  --sklearn-color-unfitted-level-0: #fff5e6;\n",
       "  --sklearn-color-unfitted-level-1: #f6e4d2;\n",
       "  --sklearn-color-unfitted-level-2: #ffe0b3;\n",
       "  --sklearn-color-unfitted-level-3: chocolate;\n",
       "  /* Definition of color scheme for fitted estimators */\n",
       "  --sklearn-color-fitted-level-0: #f0f8ff;\n",
       "  --sklearn-color-fitted-level-1: #d4ebff;\n",
       "  --sklearn-color-fitted-level-2: #b3dbfd;\n",
       "  --sklearn-color-fitted-level-3: cornflowerblue;\n",
       "\n",
       "  /* Specific color for light theme */\n",
       "  --sklearn-color-text-on-default-background: var(--sg-text-color, var(--theme-code-foreground, var(--jp-content-font-color1, black)));\n",
       "  --sklearn-color-background: var(--sg-background-color, var(--theme-background, var(--jp-layout-color0, white)));\n",
       "  --sklearn-color-border-box: var(--sg-text-color, var(--theme-code-foreground, var(--jp-content-font-color1, black)));\n",
       "  --sklearn-color-icon: #696969;\n",
       "\n",
       "  @media (prefers-color-scheme: dark) {\n",
       "    /* Redefinition of color scheme for dark theme */\n",
       "    --sklearn-color-text-on-default-background: var(--sg-text-color, var(--theme-code-foreground, var(--jp-content-font-color1, white)));\n",
       "    --sklearn-color-background: var(--sg-background-color, var(--theme-background, var(--jp-layout-color0, #111)));\n",
       "    --sklearn-color-border-box: var(--sg-text-color, var(--theme-code-foreground, var(--jp-content-font-color1, white)));\n",
       "    --sklearn-color-icon: #878787;\n",
       "  }\n",
       "}\n",
       "\n",
       "#sk-container-id-3 {\n",
       "  color: var(--sklearn-color-text);\n",
       "}\n",
       "\n",
       "#sk-container-id-3 pre {\n",
       "  padding: 0;\n",
       "}\n",
       "\n",
       "#sk-container-id-3 input.sk-hidden--visually {\n",
       "  border: 0;\n",
       "  clip: rect(1px 1px 1px 1px);\n",
       "  clip: rect(1px, 1px, 1px, 1px);\n",
       "  height: 1px;\n",
       "  margin: -1px;\n",
       "  overflow: hidden;\n",
       "  padding: 0;\n",
       "  position: absolute;\n",
       "  width: 1px;\n",
       "}\n",
       "\n",
       "#sk-container-id-3 div.sk-dashed-wrapped {\n",
       "  border: 1px dashed var(--sklearn-color-line);\n",
       "  margin: 0 0.4em 0.5em 0.4em;\n",
       "  box-sizing: border-box;\n",
       "  padding-bottom: 0.4em;\n",
       "  background-color: var(--sklearn-color-background);\n",
       "}\n",
       "\n",
       "#sk-container-id-3 div.sk-container {\n",
       "  /* jupyter's `normalize.less` sets `[hidden] { display: none; }`\n",
       "     but bootstrap.min.css set `[hidden] { display: none !important; }`\n",
       "     so we also need the `!important` here to be able to override the\n",
       "     default hidden behavior on the sphinx rendered scikit-learn.org.\n",
       "     See: https://github.com/scikit-learn/scikit-learn/issues/21755 */\n",
       "  display: inline-block !important;\n",
       "  position: relative;\n",
       "}\n",
       "\n",
       "#sk-container-id-3 div.sk-text-repr-fallback {\n",
       "  display: none;\n",
       "}\n",
       "\n",
       "div.sk-parallel-item,\n",
       "div.sk-serial,\n",
       "div.sk-item {\n",
       "  /* draw centered vertical line to link estimators */\n",
       "  background-image: linear-gradient(var(--sklearn-color-text-on-default-background), var(--sklearn-color-text-on-default-background));\n",
       "  background-size: 2px 100%;\n",
       "  background-repeat: no-repeat;\n",
       "  background-position: center center;\n",
       "}\n",
       "\n",
       "/* Parallel-specific style estimator block */\n",
       "\n",
       "#sk-container-id-3 div.sk-parallel-item::after {\n",
       "  content: \"\";\n",
       "  width: 100%;\n",
       "  border-bottom: 2px solid var(--sklearn-color-text-on-default-background);\n",
       "  flex-grow: 1;\n",
       "}\n",
       "\n",
       "#sk-container-id-3 div.sk-parallel {\n",
       "  display: flex;\n",
       "  align-items: stretch;\n",
       "  justify-content: center;\n",
       "  background-color: var(--sklearn-color-background);\n",
       "  position: relative;\n",
       "}\n",
       "\n",
       "#sk-container-id-3 div.sk-parallel-item {\n",
       "  display: flex;\n",
       "  flex-direction: column;\n",
       "}\n",
       "\n",
       "#sk-container-id-3 div.sk-parallel-item:first-child::after {\n",
       "  align-self: flex-end;\n",
       "  width: 50%;\n",
       "}\n",
       "\n",
       "#sk-container-id-3 div.sk-parallel-item:last-child::after {\n",
       "  align-self: flex-start;\n",
       "  width: 50%;\n",
       "}\n",
       "\n",
       "#sk-container-id-3 div.sk-parallel-item:only-child::after {\n",
       "  width: 0;\n",
       "}\n",
       "\n",
       "/* Serial-specific style estimator block */\n",
       "\n",
       "#sk-container-id-3 div.sk-serial {\n",
       "  display: flex;\n",
       "  flex-direction: column;\n",
       "  align-items: center;\n",
       "  background-color: var(--sklearn-color-background);\n",
       "  padding-right: 1em;\n",
       "  padding-left: 1em;\n",
       "}\n",
       "\n",
       "\n",
       "/* Toggleable style: style used for estimator/Pipeline/ColumnTransformer box that is\n",
       "clickable and can be expanded/collapsed.\n",
       "- Pipeline and ColumnTransformer use this feature and define the default style\n",
       "- Estimators will overwrite some part of the style using the `sk-estimator` class\n",
       "*/\n",
       "\n",
       "/* Pipeline and ColumnTransformer style (default) */\n",
       "\n",
       "#sk-container-id-3 div.sk-toggleable {\n",
       "  /* Default theme specific background. It is overwritten whether we have a\n",
       "  specific estimator or a Pipeline/ColumnTransformer */\n",
       "  background-color: var(--sklearn-color-background);\n",
       "}\n",
       "\n",
       "/* Toggleable label */\n",
       "#sk-container-id-3 label.sk-toggleable__label {\n",
       "  cursor: pointer;\n",
       "  display: block;\n",
       "  width: 100%;\n",
       "  margin-bottom: 0;\n",
       "  padding: 0.5em;\n",
       "  box-sizing: border-box;\n",
       "  text-align: center;\n",
       "}\n",
       "\n",
       "#sk-container-id-3 label.sk-toggleable__label-arrow:before {\n",
       "  /* Arrow on the left of the label */\n",
       "  content: \"▸\";\n",
       "  float: left;\n",
       "  margin-right: 0.25em;\n",
       "  color: var(--sklearn-color-icon);\n",
       "}\n",
       "\n",
       "#sk-container-id-3 label.sk-toggleable__label-arrow:hover:before {\n",
       "  color: var(--sklearn-color-text);\n",
       "}\n",
       "\n",
       "/* Toggleable content - dropdown */\n",
       "\n",
       "#sk-container-id-3 div.sk-toggleable__content {\n",
       "  max-height: 0;\n",
       "  max-width: 0;\n",
       "  overflow: hidden;\n",
       "  text-align: left;\n",
       "  /* unfitted */\n",
       "  background-color: var(--sklearn-color-unfitted-level-0);\n",
       "}\n",
       "\n",
       "#sk-container-id-3 div.sk-toggleable__content.fitted {\n",
       "  /* fitted */\n",
       "  background-color: var(--sklearn-color-fitted-level-0);\n",
       "}\n",
       "\n",
       "#sk-container-id-3 div.sk-toggleable__content pre {\n",
       "  margin: 0.2em;\n",
       "  border-radius: 0.25em;\n",
       "  color: var(--sklearn-color-text);\n",
       "  /* unfitted */\n",
       "  background-color: var(--sklearn-color-unfitted-level-0);\n",
       "}\n",
       "\n",
       "#sk-container-id-3 div.sk-toggleable__content.fitted pre {\n",
       "  /* unfitted */\n",
       "  background-color: var(--sklearn-color-fitted-level-0);\n",
       "}\n",
       "\n",
       "#sk-container-id-3 input.sk-toggleable__control:checked~div.sk-toggleable__content {\n",
       "  /* Expand drop-down */\n",
       "  max-height: 200px;\n",
       "  max-width: 100%;\n",
       "  overflow: auto;\n",
       "}\n",
       "\n",
       "#sk-container-id-3 input.sk-toggleable__control:checked~label.sk-toggleable__label-arrow:before {\n",
       "  content: \"▾\";\n",
       "}\n",
       "\n",
       "/* Pipeline/ColumnTransformer-specific style */\n",
       "\n",
       "#sk-container-id-3 div.sk-label input.sk-toggleable__control:checked~label.sk-toggleable__label {\n",
       "  color: var(--sklearn-color-text);\n",
       "  background-color: var(--sklearn-color-unfitted-level-2);\n",
       "}\n",
       "\n",
       "#sk-container-id-3 div.sk-label.fitted input.sk-toggleable__control:checked~label.sk-toggleable__label {\n",
       "  background-color: var(--sklearn-color-fitted-level-2);\n",
       "}\n",
       "\n",
       "/* Estimator-specific style */\n",
       "\n",
       "/* Colorize estimator box */\n",
       "#sk-container-id-3 div.sk-estimator input.sk-toggleable__control:checked~label.sk-toggleable__label {\n",
       "  /* unfitted */\n",
       "  background-color: var(--sklearn-color-unfitted-level-2);\n",
       "}\n",
       "\n",
       "#sk-container-id-3 div.sk-estimator.fitted input.sk-toggleable__control:checked~label.sk-toggleable__label {\n",
       "  /* fitted */\n",
       "  background-color: var(--sklearn-color-fitted-level-2);\n",
       "}\n",
       "\n",
       "#sk-container-id-3 div.sk-label label.sk-toggleable__label,\n",
       "#sk-container-id-3 div.sk-label label {\n",
       "  /* The background is the default theme color */\n",
       "  color: var(--sklearn-color-text-on-default-background);\n",
       "}\n",
       "\n",
       "/* On hover, darken the color of the background */\n",
       "#sk-container-id-3 div.sk-label:hover label.sk-toggleable__label {\n",
       "  color: var(--sklearn-color-text);\n",
       "  background-color: var(--sklearn-color-unfitted-level-2);\n",
       "}\n",
       "\n",
       "/* Label box, darken color on hover, fitted */\n",
       "#sk-container-id-3 div.sk-label.fitted:hover label.sk-toggleable__label.fitted {\n",
       "  color: var(--sklearn-color-text);\n",
       "  background-color: var(--sklearn-color-fitted-level-2);\n",
       "}\n",
       "\n",
       "/* Estimator label */\n",
       "\n",
       "#sk-container-id-3 div.sk-label label {\n",
       "  font-family: monospace;\n",
       "  font-weight: bold;\n",
       "  display: inline-block;\n",
       "  line-height: 1.2em;\n",
       "}\n",
       "\n",
       "#sk-container-id-3 div.sk-label-container {\n",
       "  text-align: center;\n",
       "}\n",
       "\n",
       "/* Estimator-specific */\n",
       "#sk-container-id-3 div.sk-estimator {\n",
       "  font-family: monospace;\n",
       "  border: 1px dotted var(--sklearn-color-border-box);\n",
       "  border-radius: 0.25em;\n",
       "  box-sizing: border-box;\n",
       "  margin-bottom: 0.5em;\n",
       "  /* unfitted */\n",
       "  background-color: var(--sklearn-color-unfitted-level-0);\n",
       "}\n",
       "\n",
       "#sk-container-id-3 div.sk-estimator.fitted {\n",
       "  /* fitted */\n",
       "  background-color: var(--sklearn-color-fitted-level-0);\n",
       "}\n",
       "\n",
       "/* on hover */\n",
       "#sk-container-id-3 div.sk-estimator:hover {\n",
       "  /* unfitted */\n",
       "  background-color: var(--sklearn-color-unfitted-level-2);\n",
       "}\n",
       "\n",
       "#sk-container-id-3 div.sk-estimator.fitted:hover {\n",
       "  /* fitted */\n",
       "  background-color: var(--sklearn-color-fitted-level-2);\n",
       "}\n",
       "\n",
       "/* Specification for estimator info (e.g. \"i\" and \"?\") */\n",
       "\n",
       "/* Common style for \"i\" and \"?\" */\n",
       "\n",
       ".sk-estimator-doc-link,\n",
       "a:link.sk-estimator-doc-link,\n",
       "a:visited.sk-estimator-doc-link {\n",
       "  float: right;\n",
       "  font-size: smaller;\n",
       "  line-height: 1em;\n",
       "  font-family: monospace;\n",
       "  background-color: var(--sklearn-color-background);\n",
       "  border-radius: 1em;\n",
       "  height: 1em;\n",
       "  width: 1em;\n",
       "  text-decoration: none !important;\n",
       "  margin-left: 1ex;\n",
       "  /* unfitted */\n",
       "  border: var(--sklearn-color-unfitted-level-1) 1pt solid;\n",
       "  color: var(--sklearn-color-unfitted-level-1);\n",
       "}\n",
       "\n",
       ".sk-estimator-doc-link.fitted,\n",
       "a:link.sk-estimator-doc-link.fitted,\n",
       "a:visited.sk-estimator-doc-link.fitted {\n",
       "  /* fitted */\n",
       "  border: var(--sklearn-color-fitted-level-1) 1pt solid;\n",
       "  color: var(--sklearn-color-fitted-level-1);\n",
       "}\n",
       "\n",
       "/* On hover */\n",
       "div.sk-estimator:hover .sk-estimator-doc-link:hover,\n",
       ".sk-estimator-doc-link:hover,\n",
       "div.sk-label-container:hover .sk-estimator-doc-link:hover,\n",
       ".sk-estimator-doc-link:hover {\n",
       "  /* unfitted */\n",
       "  background-color: var(--sklearn-color-unfitted-level-3);\n",
       "  color: var(--sklearn-color-background);\n",
       "  text-decoration: none;\n",
       "}\n",
       "\n",
       "div.sk-estimator.fitted:hover .sk-estimator-doc-link.fitted:hover,\n",
       ".sk-estimator-doc-link.fitted:hover,\n",
       "div.sk-label-container:hover .sk-estimator-doc-link.fitted:hover,\n",
       ".sk-estimator-doc-link.fitted:hover {\n",
       "  /* fitted */\n",
       "  background-color: var(--sklearn-color-fitted-level-3);\n",
       "  color: var(--sklearn-color-background);\n",
       "  text-decoration: none;\n",
       "}\n",
       "\n",
       "/* Span, style for the box shown on hovering the info icon */\n",
       ".sk-estimator-doc-link span {\n",
       "  display: none;\n",
       "  z-index: 9999;\n",
       "  position: relative;\n",
       "  font-weight: normal;\n",
       "  right: .2ex;\n",
       "  padding: .5ex;\n",
       "  margin: .5ex;\n",
       "  width: min-content;\n",
       "  min-width: 20ex;\n",
       "  max-width: 50ex;\n",
       "  color: var(--sklearn-color-text);\n",
       "  box-shadow: 2pt 2pt 4pt #999;\n",
       "  /* unfitted */\n",
       "  background: var(--sklearn-color-unfitted-level-0);\n",
       "  border: .5pt solid var(--sklearn-color-unfitted-level-3);\n",
       "}\n",
       "\n",
       ".sk-estimator-doc-link.fitted span {\n",
       "  /* fitted */\n",
       "  background: var(--sklearn-color-fitted-level-0);\n",
       "  border: var(--sklearn-color-fitted-level-3);\n",
       "}\n",
       "\n",
       ".sk-estimator-doc-link:hover span {\n",
       "  display: block;\n",
       "}\n",
       "\n",
       "/* \"?\"-specific style due to the `<a>` HTML tag */\n",
       "\n",
       "#sk-container-id-3 a.estimator_doc_link {\n",
       "  float: right;\n",
       "  font-size: 1rem;\n",
       "  line-height: 1em;\n",
       "  font-family: monospace;\n",
       "  background-color: var(--sklearn-color-background);\n",
       "  border-radius: 1rem;\n",
       "  height: 1rem;\n",
       "  width: 1rem;\n",
       "  text-decoration: none;\n",
       "  /* unfitted */\n",
       "  color: var(--sklearn-color-unfitted-level-1);\n",
       "  border: var(--sklearn-color-unfitted-level-1) 1pt solid;\n",
       "}\n",
       "\n",
       "#sk-container-id-3 a.estimator_doc_link.fitted {\n",
       "  /* fitted */\n",
       "  border: var(--sklearn-color-fitted-level-1) 1pt solid;\n",
       "  color: var(--sklearn-color-fitted-level-1);\n",
       "}\n",
       "\n",
       "/* On hover */\n",
       "#sk-container-id-3 a.estimator_doc_link:hover {\n",
       "  /* unfitted */\n",
       "  background-color: var(--sklearn-color-unfitted-level-3);\n",
       "  color: var(--sklearn-color-background);\n",
       "  text-decoration: none;\n",
       "}\n",
       "\n",
       "#sk-container-id-3 a.estimator_doc_link.fitted:hover {\n",
       "  /* fitted */\n",
       "  background-color: var(--sklearn-color-fitted-level-3);\n",
       "}\n",
       "</style><div id=\"sk-container-id-3\" class=\"sk-top-container\"><div class=\"sk-text-repr-fallback\"><pre>LinearRegression()</pre><b>In a Jupyter environment, please rerun this cell to show the HTML representation or trust the notebook. <br />On GitHub, the HTML representation is unable to render, please try loading this page with nbviewer.org.</b></div><div class=\"sk-container\" hidden><div class=\"sk-item\"><div class=\"sk-estimator fitted sk-toggleable\"><input class=\"sk-toggleable__control sk-hidden--visually\" id=\"sk-estimator-id-5\" type=\"checkbox\" checked><label for=\"sk-estimator-id-5\" class=\"sk-toggleable__label fitted sk-toggleable__label-arrow fitted\">&nbsp;&nbsp;LinearRegression<a class=\"sk-estimator-doc-link fitted\" rel=\"noreferrer\" target=\"_blank\" href=\"https://scikit-learn.org/1.4/modules/generated/sklearn.linear_model.LinearRegression.html\">?<span>Documentation for LinearRegression</span></a><span class=\"sk-estimator-doc-link fitted\">i<span>Fitted</span></span></label><div class=\"sk-toggleable__content fitted\"><pre>LinearRegression()</pre></div> </div></div></div></div>"
      ],
      "text/plain": [
       "LinearRegression()"
      ]
     },
     "execution_count": 154,
     "metadata": {},
     "output_type": "execute_result"
    }
   ],
   "source": [
    "# Step 7: Train linear regression model\n",
    "model = LinearRegression()\n",
    "model.fit(X_train, y_train)"
   ]
  },
  {
   "cell_type": "code",
   "execution_count": 155,
   "id": "91e9e672-20cf-428b-b822-639d0ad7a179",
   "metadata": {},
   "outputs": [],
   "source": [
    "# Step 8: Predict on test set\n",
    "y_pred = model.predict(X_test)"
   ]
  },
  {
   "cell_type": "code",
   "execution_count": 156,
   "id": "3e4fa944-7f95-4db3-b6f0-8aa193876e19",
   "metadata": {},
   "outputs": [
    {
     "name": "stdout",
     "output_type": "stream",
     "text": [
      "MSE: 0.26056856470737333\n",
      "R2 score: -0.05095987765307286\n"
     ]
    }
   ],
   "source": [
    "# Step 9: Evaluate regression model\n",
    "print(\"MSE:\", mean_squared_error(y_test, y_pred))\n",
    "print(\"R2 score:\", r2_score(y_test, y_pred))"
   ]
  },
  {
   "cell_type": "code",
   "execution_count": 157,
   "id": "f58df6b5-8b54-4080-ad16-ee4cbb7d873b",
   "metadata": {},
   "outputs": [
    {
     "name": "stdout",
     "output_type": "stream",
     "text": [
      "Classification accuracy (threshold 0.5): 0.4090909090909091\n"
     ]
    }
   ],
   "source": [
    "# Optional: Convert predicted scores > 0.5 to 1 else 0 for classification accuracy\n",
    "y_pred_class = (y_pred > 0.5).astype(int)\n",
    "accuracy = (y_pred_class == y_test).mean()\n",
    "print(\"Classification accuracy (threshold 0.5):\", accuracy)"
   ]
  },
  {
   "cell_type": "code",
   "execution_count": 158,
   "id": "a924f679-c524-46b1-8dda-5e3e2847ec5f",
   "metadata": {},
   "outputs": [],
   "source": [
    "# # Convert to classes and evaluate classification metrics\n",
    "# y_pred_class = (y_pred > 0.5).astype(int)\n",
    "# f1 = f1_score(y_test, y_pred_class)\n",
    "# print(\"F1 Score:\", f1)"
   ]
  },
  {
   "cell_type": "code",
   "execution_count": null,
   "id": "5c11cb7e-028b-4ee4-900f-013f4b12d63f",
   "metadata": {},
   "outputs": [],
   "source": []
  },
  {
   "cell_type": "code",
   "execution_count": null,
   "id": "d8d40082-9ebe-49d3-be0e-cb6812beb66e",
   "metadata": {},
   "outputs": [],
   "source": []
  },
  {
   "cell_type": "markdown",
   "id": "0265794d-a7fa-450d-bb7f-4545dce347ad",
   "metadata": {},
   "source": [
    "### 3.6.2 Model 2: Similar Product Recommendations"
   ]
  },
  {
   "cell_type": "markdown",
   "id": "e860d1b0-2d91-4074-ad31-3bf5d41309e2",
   "metadata": {},
   "source": [
    "#### 3.6.2.1 Model 2 Development"
   ]
  },
  {
   "cell_type": "code",
   "execution_count": 159,
   "id": "1d33362f-6844-4096-9679-8df44159a37a",
   "metadata": {},
   "outputs": [],
   "source": [
    "from implicit.als import AlternatingLeastSquares\n",
    "from scipy.sparse import coo_matrix\n",
    "\n",
    "# Step 1: Prepare sparse matrix (users x products)\n",
    "user_enc = LabelEncoder()\n",
    "product_enc = LabelEncoder()\n",
    "\n",
    "df_sale['user_enc'] = user_enc.fit_transform(df_sale['user_id'])\n",
    "df_sale['product_enc'] = product_enc.fit_transform(df_sale['product_id'])\n",
    "\n",
    "rows = df_sale['user_enc'].values\n",
    "cols = df_sale['product_enc'].values\n",
    "data = [1]*len(df_sale)  # Since no explicit rating, use 1 for interaction\n",
    "\n",
    "interaction_matrix = coo_matrix((data, (rows, cols)), shape=(len(user_enc.classes_), len(product_enc.classes_)))"
   ]
  },
  {
   "cell_type": "code",
   "execution_count": 160,
   "id": "140a8f4d-77aa-4873-8b81-0e7681f77952",
   "metadata": {},
   "outputs": [
    {
     "name": "stderr",
     "output_type": "stream",
     "text": [
      "C:\\Users\\nehaa\\New folder\\Lib\\site-packages\\implicit\\utils.py:164: ParameterWarning: Method expects CSR input, and was passed coo_matrix instead. Converting to CSR took 0.0009839534759521484 seconds\n",
      "  warnings.warn(\n"
     ]
    },
    {
     "data": {
      "application/vnd.jupyter.widget-view+json": {
       "model_id": "4a9002d00ead428488348b99358c497b",
       "version_major": 2,
       "version_minor": 0
      },
      "text/plain": [
       "  0%|          | 0/20 [00:00<?, ?it/s]"
      ]
     },
     "metadata": {},
     "output_type": "display_data"
    }
   ],
   "source": [
    "# Step 2: Train ALS model (implicit feedback)\n",
    "model = AlternatingLeastSquares(factors=20, regularization=0.1, iterations=20)\n",
    "\n",
    "# The implicit library expects item-user matrix\n",
    "model.fit(interaction_matrix.T)  # transpose because it expects items x users"
   ]
  },
  {
   "cell_type": "code",
   "execution_count": 161,
   "id": "fbe9235d-e592-4529-bcb2-48cb27f3ea24",
   "metadata": {},
   "outputs": [],
   "source": [
    "# Step 3: Define function to get similar products\n",
    "def recommend_similar_products(product_id, model, product_encoder, product_reverse_map, N=5):\n",
    "    product_idx = product_encoder.transform([product_id])[0]\n",
    "\n",
    "    similar = model.similar_items(product_idx, N+1)\n",
    "\n",
    "    similar = [(item[0], item[1]) for item in similar if item[0] != product_idx][:N]\n",
    "\n",
    "    return [(product_reverse_map[int(idx)], score) for idx, score in similar]\n",
    "\n"
   ]
  },
  {
   "cell_type": "code",
   "execution_count": 162,
   "id": "5b5ed7f7-c63a-49a7-8f1a-12c8d74bd7ea",
   "metadata": {},
   "outputs": [
    {
     "name": "stdout",
     "output_type": "stream",
     "text": [
      "Similar products to 80957603-6cec-4f63-8dcd-aba6ded5cbdd:\n",
      "Product: 80957603-6cec-4f63-8dcd-aba6ded5cbdd, Similarity score: 1.000\n"
     ]
    }
   ],
   "source": [
    "# Step 4: Example usage\n",
    "example_product_id = df_sale['product_id'].iloc[0]\n",
    "print(f\"Similar products to {example_product_id}:\")\n",
    "\n",
    "similar_products = recommend_similar_products(example_product_id, model, product_enc, product_reverse_map, N=5)\n",
    "for prod_id, score in similar_products:\n",
    "    print(f\"Product: {prod_id}, Similarity score: {score:.3f}\")"
   ]
  },
  {
   "cell_type": "markdown",
   "id": "7918f3ff-ae9d-4f0d-91b9-8013ffd69908",
   "metadata": {},
   "source": [
    "#### 3.6.2.2 Model 2 Evaluation"
   ]
  },
  {
   "cell_type": "code",
   "execution_count": 163,
   "id": "9f6b8d6b-6f21-46ce-b6d1-28bac30a616a",
   "metadata": {},
   "outputs": [
    {
     "name": "stdout",
     "output_type": "stream",
     "text": [
      "Precision@5 for product 80957603-6cec-4f63-8dcd-aba6ded5cbdd: 0.000\n"
     ]
    }
   ],
   "source": [
    "def precision_at_n(recommended, ground_truth, n=5):\n",
    "    \"\"\"\n",
    "    recommended: list of recommended product IDs\n",
    "    ground_truth: set of true similar product IDs\n",
    "    n: number of recommendations to consider\n",
    "    \"\"\"\n",
    "    recommended_at_n = recommended[:n]\n",
    "    hits = sum(1 for prod in recommended_at_n if prod in ground_truth)\n",
    "    precision = hits / n\n",
    "    return precision\n",
    "\n",
    "# Example usage\n",
    "product_id = '80957603-6cec-4f63-8dcd-aba6ded5cbdd'\n",
    "\n",
    "# Your model recommendations (top 5 similar products)\n",
    "recommended_products = [prod for prod, score in recommend_similar_products(product_id, model, product_enc, product_reverse_map, N=5)]\n",
    "\n",
    "# Ground truth similar products for this product (you must provide this)\n",
    "ground_truth_similar = {\n",
    "    '80957603-6cec-4f63-8dcd-aba6ded5cbdd': {\n",
    "        '1033503b-8faa-4d5c-97c2-50bb19fbb897',\n",
    "        'another_product_id',\n",
    "        'yet_another_product_id',\n",
    "        # add more if available\n",
    "    }\n",
    "}\n",
    "\n",
    "precision = precision_at_n(recommended_products, ground_truth_similar.get(product_id, set()), n=5)\n",
    "print(f\"Precision@5 for product {product_id}: {precision:.3f}\")\n"
   ]
  },
  {
   "cell_type": "code",
   "execution_count": 164,
   "id": "c2bb43e3-675e-46dc-832b-dbf572ed529e",
   "metadata": {},
   "outputs": [
    {
     "name": "stdout",
     "output_type": "stream",
     "text": [
      "Linear Regression MSE: 0.0000\n",
      "Linear Regression R2: 1.0000\n"
     ]
    }
   ],
   "source": [
    "from sklearn.linear_model import LinearRegression\n",
    "from sklearn.metrics import mean_squared_error, r2_score, accuracy_score, precision_score, recall_score, f1_score\n",
    "from sklearn.model_selection import train_test_split\n",
    "import numpy as np\n",
    "\n",
    "# Example: Create features and target for linear regression\n",
    "# Let's say you create a user-product matrix or aggregated features:\n",
    "# For demo, assume df_sale has columns: user_enc, product_enc, purchase_count (or interaction 0/1)\n",
    "\n",
    "X = df_sale[['user_enc', 'product_enc']]  # Features (you can do one-hot encoding or embeddings)\n",
    "y = df_sale['purchase_count'] if 'purchase_count' in df_sale.columns else np.ones(len(df_sale))  # fallback to implicit 1\n",
    "\n",
    "# For simplicity, let's just do train/test split\n",
    "X_train, X_test, y_train, y_test = train_test_split(X, y, test_size=0.2, random_state=42)\n",
    "\n",
    "# Optionally encode categorical features (user_enc, product_enc) using OneHotEncoding or embeddings\n",
    "from sklearn.preprocessing import OneHotEncoder\n",
    "\n",
    "ohe = OneHotEncoder(handle_unknown='ignore')\n",
    "X_train_enc = ohe.fit_transform(X_train)\n",
    "X_test_enc = ohe.transform(X_test)\n",
    "\n",
    "# Train linear regression model\n",
    "lr_model = LinearRegression()\n",
    "lr_model.fit(X_train_enc, y_train)\n",
    "\n",
    "# Predict\n",
    "y_pred = lr_model.predict(X_test_enc)\n",
    "\n",
    "# Regression metrics\n",
    "mse = mean_squared_error(y_test, y_pred)\n",
    "r2 = r2_score(y_test, y_pred)\n",
    "\n",
    "print(f\"Linear Regression MSE: {mse:.4f}\")\n",
    "print(f\"Linear Regression R2: {r2:.4f}\")\n"
   ]
  },
  {
   "cell_type": "code",
   "execution_count": 165,
   "id": "17f8e832-e9a0-42a3-9782-7282d1c93f7b",
   "metadata": {},
   "outputs": [
    {
     "name": "stdout",
     "output_type": "stream",
     "text": [
      "Classification Accuracy: 1.0000\n",
      "Precision: 1.0000\n",
      "Recall: 1.0000\n",
      "F1 Score: 1.0000\n"
     ]
    }
   ],
   "source": [
    "# Define threshold (example: median of true target)\n",
    "threshold = np.median(y_test)\n",
    "\n",
    "# True labels binary (relevant or not)\n",
    "y_test_bin = (y_test >= threshold).astype(int)\n",
    "\n",
    "# Predicted binary labels\n",
    "y_pred_bin = (y_pred >= threshold).astype(int)\n",
    "\n",
    "# Classification metrics\n",
    "accuracy = accuracy_score(y_test_bin, y_pred_bin)\n",
    "precision = precision_score(y_test_bin, y_pred_bin, zero_division=0)\n",
    "recall = recall_score(y_test_bin, y_pred_bin, zero_division=0)\n",
    "f1 = f1_score(y_test_bin, y_pred_bin, zero_division=0)\n",
    "\n",
    "print(f\"Classification Accuracy: {accuracy:.4f}\")\n",
    "print(f\"Precision: {precision:.4f}\")\n",
    "print(f\"Recall: {recall:.4f}\")\n",
    "print(f\"F1 Score: {f1:.4f}\")\n"
   ]
  },
  {
   "cell_type": "code",
   "execution_count": 166,
   "id": "0a5b5ee6-b3d6-429f-89d5-cc207b8b3987",
   "metadata": {},
   "outputs": [
    {
     "name": "stdout",
     "output_type": "stream",
     "text": [
      "Precision@5 for similar products: 0.0000\n"
     ]
    }
   ],
   "source": [
    "def precision_at_k(true_items, recommended_items, k=5):\n",
    "    recommended_k = recommended_items[:k]\n",
    "    hits = sum([1 for item in recommended_k if item in true_items])\n",
    "    return hits / k\n",
    "\n",
    "# Example for a product\n",
    "example_product_id = df_sale['product_id'].iloc[0]\n",
    "\n",
    "# Get recommended similar products (from your model)\n",
    "similar_products = recommend_similar_products(example_product_id, model, product_enc, product_reverse_map, N=5)\n",
    "\n",
    "recommended_product_ids = [prod_id for prod_id, score in similar_products]\n",
    "\n",
    "# Suppose you have a ground truth list for this product\n",
    "true_similar_products = set([...])  # Replace with your actual ground truth\n",
    "\n",
    "precision = precision_at_k(true_similar_products, recommended_product_ids, k=5)\n",
    "print(f\"Precision@5 for similar products: {precision:.4f}\")\n"
   ]
  },
  {
   "cell_type": "code",
   "execution_count": null,
   "id": "7f6d9eff-80fd-4c24-a400-b4a371beb63b",
   "metadata": {},
   "outputs": [],
   "source": []
  },
  {
   "cell_type": "code",
   "execution_count": null,
   "id": "aed3f408-21a6-4444-9e7b-ff525ef0470f",
   "metadata": {},
   "outputs": [],
   "source": []
  },
  {
   "cell_type": "code",
   "execution_count": null,
   "id": "315101bb-aa28-4528-8708-65569e36f368",
   "metadata": {},
   "outputs": [],
   "source": []
  },
  {
   "cell_type": "code",
   "execution_count": null,
   "id": "1074ef72-11f7-4f45-a7b3-bed52d5434f8",
   "metadata": {},
   "outputs": [],
   "source": []
  },
  {
   "cell_type": "code",
   "execution_count": null,
   "id": "754b2e76-336c-4d3a-b9e7-dae8a6b4588b",
   "metadata": {},
   "outputs": [],
   "source": []
  },
  {
   "cell_type": "code",
   "execution_count": null,
   "id": "38426945-53ca-4fd4-9756-ce14f4aa9251",
   "metadata": {},
   "outputs": [],
   "source": []
  },
  {
   "cell_type": "markdown",
   "id": "53f61304-f26b-480b-b506-c5f24bea4320",
   "metadata": {},
   "source": [
    "### 3.6.1 Preprocessing"
   ]
  },
  {
   "cell_type": "code",
   "execution_count": 167,
   "id": "25fdac91-af25-4c70-8b7d-c77590df8efb",
   "metadata": {},
   "outputs": [],
   "source": [
    "# # Cell 1: Imports\n",
    "# import pandas as pd\n",
    "# import numpy as np\n",
    "# from sklearn.decomposition import TruncatedSVD\n",
    "# import matplotlib.pyplot as plt\n",
    "# import seaborn as sns\n"
   ]
  },
  {
   "cell_type": "code",
   "execution_count": 168,
   "id": "b172e53e-e0c2-4ef8-9a5b-7df8d5f3033b",
   "metadata": {},
   "outputs": [],
   "source": [
    "# # Load or create the df_sale DataFrame\n",
    "# df_sale.head()\n"
   ]
  },
  {
   "cell_type": "code",
   "execution_count": 169,
   "id": "723daca6-87fe-4aa1-af15-1efac9778ac7",
   "metadata": {},
   "outputs": [],
   "source": [
    "# # Preprocessing - User-Item Matrix\n",
    "# # Pivot to create a matrix of users (rows) and products (columns), with quantity as values\n",
    "# user_item_matrix = df_sale.pivot_table(\n",
    "#     index='user_id',\n",
    "#     columns='product_id',\n",
    "#     values='quantity',\n",
    "#     fill_value=0\n",
    "# )\n",
    "\n",
    "# print(\"User-Item Matrix shape:\", user_item_matrix.shape)\n",
    "# user_item_matrix.head()\n"
   ]
  },
  {
   "cell_type": "code",
   "execution_count": 170,
   "id": "9a68a422-0cbb-49c9-8eea-00899c3be4c9",
   "metadata": {},
   "outputs": [],
   "source": [
    "# # Truncated SVD - Dimensionality Reduction\n",
    "\n",
    "# # Reduce dimensionality of the user-item matrix using matrix factorization\n",
    "# svd = TruncatedSVD(n_components=20, random_state=42)\n",
    "# latent_matrix = svd.fit_transform(user_item_matrix)\n",
    "\n",
    "# # Approximate the original matrix (reconstructed predictions)\n",
    "# predicted_matrix = np.dot(latent_matrix, svd.components_)\n",
    "\n",
    "# # Convert predictions to DataFrame for easier access\n",
    "# pred_df = pd.DataFrame(predicted_matrix, index=user_item_matrix.index, columns=user_item_matrix.columns)\n",
    "\n",
    "# print(\"Predicted Matrix shape:\", pred_df.shape)\n",
    "# pred_df.head()\n"
   ]
  },
  {
   "cell_type": "code",
   "execution_count": 171,
   "id": "38e3f284-5e6b-47e0-81bc-219b3ec346d6",
   "metadata": {},
   "outputs": [],
   "source": [
    "# # Recommendation Function\n",
    "\n",
    "# def recommend_products(user_id, top_n=5):\n",
    "#     if user_id not in pred_df.index:\n",
    "#         return f\"User ID {user_id} not found.\"\n",
    "    \n",
    "#     user_predictions = pred_df.loc[user_id]\n",
    "#     already_bought = user_item_matrix.loc[user_id]\n",
    "\n",
    "#     # Recommend top N products the user hasn't bought yet\n",
    "#     recommendations = user_predictions[already_bought == 0].sort_values(ascending=False).head(top_n)\n",
    "    \n",
    "#     # Fetch product details\n",
    "#     recommended_products = df_sale[df_sale['product_id'].isin(recommendations.index)][\n",
    "#         ['product_id', 'product_name_en']\n",
    "#     ].drop_duplicates().reset_index(drop=True)\n",
    "    \n",
    "#     return recommended_products\n"
   ]
  },
  {
   "cell_type": "code",
   "execution_count": 172,
   "id": "50f324f5-1a6f-4d83-a02c-cbdd643c4c55",
   "metadata": {},
   "outputs": [],
   "source": [
    "# # Try on a sample user\n",
    "\n",
    "# # Replace with any user_id from your dataset\n",
    "# sample_user_id = df_sale['user_id'].iloc[0]\n",
    "# recommend_products(sample_user_id, top_n=5)\n"
   ]
  },
  {
   "cell_type": "code",
   "execution_count": 173,
   "id": "7a66a6b8-5eb6-419e-b0fd-bb858f2c5502",
   "metadata": {},
   "outputs": [],
   "source": [
    "# # Visualize Purchase Matrix Sparsity\n",
    "\n",
    "# plt.figure(figsize=(10,6))\n",
    "# sns.heatmap(user_item_matrix.iloc[:20, :20], cmap=\"YlGnBu\")\n",
    "# plt.title(\"Sample User-Item Quantity Matrix (First 20 Users x First 20 Products)\")\n",
    "# plt.xlabel(\"Product ID\")\n",
    "# plt.ylabel(\"User ID\")\n",
    "# plt.tight_layout()\n",
    "# plt.show()\n"
   ]
  },
  {
   "cell_type": "markdown",
   "id": "157f667b-932a-4a39-9359-ed8db191daa9",
   "metadata": {},
   "source": [
    "### 3.6.2 Building Model 6"
   ]
  },
  {
   "cell_type": "code",
   "execution_count": 174,
   "id": "f888969e-2516-48fd-bbf0-6a55e4d23fdb",
   "metadata": {},
   "outputs": [],
   "source": [
    "# from sklearn.decomposition import TruncatedSVD\n",
    "# from sklearn.model_selection import train_test_split\n",
    "# from sklearn.metrics import accuracy_score, precision_score, recall_score, f1_score\n",
    "# import numpy as np\n",
    "# import pandas as pd\n",
    "\n",
    "# # Step 1: Prepare the interaction data\n",
    "# interactions = user_item_matrix.stack().reset_index()\n",
    "# interactions.columns = ['user_id', 'product_id', 'quantity']\n",
    "\n",
    "# # Keep only non-zero interactions (i.e., purchases)\n",
    "# interactions = interactions[interactions['quantity'] > 0]"
   ]
  },
  {
   "cell_type": "code",
   "execution_count": 175,
   "id": "e82b2bab-d9dc-48c0-9c71-3abea38d1563",
   "metadata": {},
   "outputs": [],
   "source": [
    "# # Step 2: Split into train and test sets\n",
    "# train, test = train_test_split(interactions, test_size=0.2, random_state=42)"
   ]
  },
  {
   "cell_type": "code",
   "execution_count": 176,
   "id": "6ad623c5-33e3-4880-a0ab-e8d58ebb4a4e",
   "metadata": {},
   "outputs": [],
   "source": [
    "# # Step 3: Create a user-item matrix for training\n",
    "# train_matrix = pd.pivot_table(train, index='user_id', columns='product_id', values='quantity', fill_value=0)"
   ]
  },
  {
   "cell_type": "code",
   "execution_count": 177,
   "id": "b9f508f2-bedd-4f2d-83e8-3769fc8fc6b8",
   "metadata": {},
   "outputs": [],
   "source": [
    "# # Step 4: Apply Truncated SVD\n",
    "# svd = TruncatedSVD(n_components=20, random_state=42)\n",
    "# user_factors = svd.fit_transform(train_matrix)\n",
    "# item_factors = svd.components_"
   ]
  },
  {
   "cell_type": "code",
   "execution_count": 178,
   "id": "c66c4748-4cf8-4e4b-8aca-b4726f93136a",
   "metadata": {},
   "outputs": [],
   "source": [
    "# # Step 5: Reconstruct prediction matrix\n",
    "# pred_matrix = np.dot(user_factors, item_factors)\n",
    "# pred_df = pd.DataFrame(pred_matrix, index=train_matrix.index, columns=train_matrix.columns)"
   ]
  },
  {
   "cell_type": "code",
   "execution_count": 179,
   "id": "39041cdb-ee45-41f0-b7dc-83e9a96dbb03",
   "metadata": {},
   "outputs": [],
   "source": [
    "# # Step 6: Predict on the test set\n",
    "# test_preds = []\n",
    "# test_actuals = []\n",
    "\n",
    "# for _, row in test.iterrows():\n",
    "#     user = row['user_id']\n",
    "#     product = row['product_id']\n",
    "#     actual_qty = row['quantity']\n",
    "    \n",
    "#     if user in pred_df.index and product in pred_df.columns:\n",
    "#         predicted_qty = pred_df.loc[user, product]\n",
    "#         test_preds.append(predicted_qty)\n",
    "#         test_actuals.append(actual_qty)"
   ]
  },
  {
   "cell_type": "code",
   "execution_count": 180,
   "id": "f74b481e-da21-4562-8ce5-5ad2724b1333",
   "metadata": {},
   "outputs": [],
   "source": [
    "# # Step 7: Apply median threshold for classification\n",
    "# threshold = np.median(test_preds)\n",
    "# test_preds_binary = [1 if p > threshold else 0 for p in test_preds]\n",
    "# test_actuals_binary = [1 if a > 0 else 0 for a in test_actuals]\n"
   ]
  },
  {
   "cell_type": "code",
   "execution_count": 181,
   "id": "003ce07e-4849-4cdc-85d4-4e6bb62e76d9",
   "metadata": {},
   "outputs": [],
   "source": [
    "# # Step 8: Compute evaluation metrics\n",
    "# accuracy = accuracy_score(test_actuals_binary, test_preds_binary)\n",
    "# precision = precision_score(test_actuals_binary, test_preds_binary, zero_division=0)\n",
    "# recall = recall_score(test_actuals_binary, test_preds_binary, zero_division=0)\n",
    "# f1 = f1_score(test_actuals_binary, test_preds_binary, zero_division=0)\n",
    "\n",
    "# print(f\"Median Threshold: {threshold:.4f}\")\n",
    "# print(f\"Accuracy:  {accuracy:.4f}\")\n",
    "# print(f\"Precision: {precision:.4f}\")\n",
    "# print(f\"Recall:    {recall:.4f}\")\n",
    "# print(f\"F1 Score:  {f1:.4f}\")"
   ]
  },
  {
   "cell_type": "markdown",
   "id": "003954df-ad68-467d-bbb1-e31b11cbbbf1",
   "metadata": {},
   "source": [
    "# 4. Exporting Models"
   ]
  },
  {
   "cell_type": "markdown",
   "id": "d3571695-d438-4a23-9d45-9c216321af89",
   "metadata": {},
   "source": [
    "(Done by Nehaa)"
   ]
  },
  {
   "cell_type": "code",
   "execution_count": 182,
   "id": "aa0b959c-f6ea-4d45-9efc-07d8cbd97820",
   "metadata": {},
   "outputs": [
    {
     "name": "stdout",
     "output_type": "stream",
     "text": [
      "Index(['area_id', 'area_name', 'country', 'province', 'city', 'district',\n",
      "       'district_latitude', 'district_longitude', 'subdistrict',\n",
      "       'subdistrict_latitude', 'subdistrict_longitude', 'farm_id', 'owner_id',\n",
      "       'farm_latitude', 'farm_longitude', 'area_hectare', 'planted_year',\n",
      "       'planted_month', 'palm_trees_per_hectare', 'soil_type', 'seed_type'],\n",
      "      dtype='object')\n"
     ]
    }
   ],
   "source": [
    "print(df.columns)\n"
   ]
  },
  {
   "cell_type": "code",
   "execution_count": 183,
   "id": "26cb6aaa-faba-47ce-8368-00111231f000",
   "metadata": {},
   "outputs": [
    {
     "name": "stderr",
     "output_type": "stream",
     "text": [
      "C:\\Users\\nehaa\\New folder\\Lib\\site-packages\\implicit\\utils.py:164: ParameterWarning: Method expects CSR input, and was passed csc_matrix instead. Converting to CSR took 0.0 seconds\n",
      "  warnings.warn(\n"
     ]
    },
    {
     "data": {
      "application/vnd.jupyter.widget-view+json": {
       "model_id": "31f7b271af214ec982ddb424efa619fb",
       "version_major": 2,
       "version_minor": 0
      },
      "text/plain": [
       "  0%|          | 0/15 [00:00<?, ?it/s]"
      ]
     },
     "metadata": {},
     "output_type": "display_data"
    }
   ],
   "source": [
    "user_enc = LabelEncoder()\n",
    "product_enc = LabelEncoder()\n",
    "\n",
    "df_sale['user_idx'] = user_enc.fit_transform(df_sale['user_id'])\n",
    "df_sale['product_idx'] = product_enc.fit_transform(df_sale['product_id'])\n",
    "\n",
    "if 'rating' not in df_sale.columns:\n",
    "    df_sale['rating'] = 1\n",
    "\n",
    "user_items = scipy.sparse.coo_matrix(\n",
    "    (df_sale['rating'], (df_sale['user_idx'], df_sale['product_idx']))\n",
    ").tocsr()\n",
    "\n",
    "model = AlternatingLeastSquares(factors=20, regularization=0.1, iterations=15)\n",
    "model.fit(user_items.T)\n",
    "\n",
    "joblib.dump(user_enc, 'user_encoder.pkl')\n",
    "joblib.dump(product_enc, 'product_encoder.pkl')\n",
    "scipy.sparse.save_npz('user_items.npz', user_items)\n"
   ]
  },
  {
   "cell_type": "code",
   "execution_count": 184,
   "id": "ad98c478-5e51-4dae-a474-e3e6d437d38a",
   "metadata": {},
   "outputs": [],
   "source": [
    "# import joblib\n",
    "# import scipy.sparse\n",
    "\n",
    "# # Save ALS model\n",
    "# joblib.dump(model, 'als_model.pkl')\n",
    "\n",
    "# # Save encoders\n",
    "# joblib.dump(user_enc, 'user_encoder.pkl')\n",
    "# joblib.dump(product_enc, 'product_encoder.pkl')\n",
    "\n",
    "# # Save product reverse map\n",
    "# joblib.dump(product_reverse_map, 'product_reverse_map.pkl')\n",
    "\n",
    "# # Save user-item interaction matrix (sparse matrix)\n",
    "# scipy.sparse.save_npz('user_items.npz', ratings)\n"
   ]
  },
  {
   "cell_type": "code",
   "execution_count": null,
   "id": "fc3f2e36-7c40-46ab-9944-02affa9503e1",
   "metadata": {},
   "outputs": [],
   "source": []
  },
  {
   "cell_type": "code",
   "execution_count": null,
   "id": "0418f5ce-907f-48f5-bd4e-e14f5fbe7e7e",
   "metadata": {},
   "outputs": [],
   "source": []
  },
  {
   "cell_type": "code",
   "execution_count": null,
   "id": "0a1d351a-1248-4741-aac4-f762c532d441",
   "metadata": {},
   "outputs": [],
   "source": []
  },
  {
   "cell_type": "markdown",
   "id": "0c44cfde-f870-4316-99f6-85121427ba87",
   "metadata": {},
   "source": [
    "# 5. Create the API Endpoint"
   ]
  },
  {
   "cell_type": "markdown",
   "id": "597ed58d-12e4-470b-a526-d04d873990f7",
   "metadata": {},
   "source": [
    "(Done by Nehaa)"
   ]
  },
  {
   "cell_type": "code",
   "execution_count": 185,
   "id": "9910b017-a180-4cb8-8644-f5e1302ccdeb",
   "metadata": {},
   "outputs": [],
   "source": [
    "# # Importing pandas\n",
    "# import pandas as pd\n",
    "\n",
    "# # Save the data used by your recommender\n",
    "# pred_df.to_pickle(\"data/pred_df.pkl\")\n",
    "# user_item_matrix.to_pickle(\"data/user_item_matrix.pkl\")\n",
    "# df_sale.to_csv(\"data/df_sale.csv\", index=False)\n"
   ]
  }
 ],
 "metadata": {
  "kernelspec": {
   "display_name": "Python 3 (ipykernel)",
   "language": "python",
   "name": "python3"
  },
  "language_info": {
   "codemirror_mode": {
    "name": "ipython",
    "version": 3
   },
   "file_extension": ".py",
   "mimetype": "text/x-python",
   "name": "python",
   "nbconvert_exporter": "python",
   "pygments_lexer": "ipython3",
   "version": "3.11.7"
  }
 },
 "nbformat": 4,
 "nbformat_minor": 5
}
