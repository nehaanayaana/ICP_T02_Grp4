{
 "cells": [
  {
   "cell_type": "markdown",
   "metadata": {},
   "source": [
    "# Model Development and Training\n",
    "\n",
    "In this Jupyter Notebook, you will develop and train the model."
   ]
  },
  {
   "cell_type": "code",
   "execution_count": null,
   "metadata": {},
   "outputs": [],
   "source": [
    "# Example connecting and querying the database\n",
    "import os\n",
    "database_url = os.getenv('DATABASE_URL')\n",
    "\n",
    "# Test connection to the database\n",
    "import psycopg\n",
    "\n",
    "# Connect to the database\n",
    "conn = psycopg.connect(database_url)\n",
    "cursor = conn.cursor()\n",
    "\n",
    "# Execute query\n",
    "cursor.execute(\"SELECT * FROM area LIMIT 10\")\n",
    "\n",
    "# Fetch results\n",
    "results = cursor.fetchall()\n",
    "\n",
    "# Print results\n",
    "for row in results:\n",
    "    print(row)\n",
    "\n",
    "# Close cursor and connection\n",
    "cursor.close()\n",
    "conn.close()"
   ]
  },
  {
   "cell_type": "code",
   "execution_count": null,
   "metadata": {},
   "outputs": [],
   "source": [
    "# Example of reading data from the shared directory\n",
    "import pandas as pd\n",
    "import os\n",
    "shared_dir = os.getenv('SHARED_DIR')\n",
    "\n",
    "# Load the data\n",
    "data = pd.read_csv(os.path.join(shared_dir, 'example.csv'))\n",
    "\n",
    "# Print the data\n",
    "print(data)"
   ]
  }
 ],
 "metadata": {
  "kernelspec": {
   "display_name": "Python 3 (ipykernel)",
   "language": "python",
   "name": "python3"
  },
  "language_info": {
   "codemirror_mode": {
    "name": "ipython",
    "version": 3
   },
   "file_extension": ".py",
   "mimetype": "text/x-python",
   "name": "python",
   "nbconvert_exporter": "python",
   "pygments_lexer": "ipython3",
   "version": "3.11.6"
  }
 },
 "nbformat": 4,
 "nbformat_minor": 4
}
